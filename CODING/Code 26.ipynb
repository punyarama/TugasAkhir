{
  "cells": [
    {
      "cell_type": "code",
      "execution_count": 1,
      "metadata": {
        "colab": {
          "base_uri": "https://localhost:8080/",
          "height": 0
        },
        "id": "91OaXBVb4NcS",
        "outputId": "f3e0f888-8f2d-40d7-bda6-9c87cf062a7d"
      },
      "outputs": [],
      "source": [
        "import os\n",
        "from PIL import Image\n",
        "\n",
        "base_dir = ('D:\\KULIAH\\Skripsi\\DATASET\\Warung Botol')"
      ]
    },
    {
      "cell_type": "code",
      "execution_count": 2,
      "metadata": {
        "id": "o44FEQXo4xHe"
      },
      "outputs": [],
      "source": [
        "# menentukan direktori\n",
        "train_dir = os.path.join(base_dir, 'train')\n",
        "validation_dir = os.path.join(base_dir, 'validasi')"
      ]
    },
    {
      "cell_type": "code",
      "execution_count": 3,
      "metadata": {
        "colab": {
          "base_uri": "https://localhost:8080/",
          "height": 0
        },
        "id": "ezhebQCz435U",
        "outputId": "a2d14076-b8c1-4812-8a77-ff79f9095797"
      },
      "outputs": [
        {
          "name": "stdout",
          "output_type": "stream",
          "text": [
            "Jumlah Data Train Tiap Kelas\n",
            "jumlah gambar train PET : 77\n",
            "jumlah gambar train HDPE : 75\n"
          ]
        }
      ],
      "source": [
        "# menentukan direktori isi folder training\n",
        "\n",
        "PET_train_dir = os.path.join(train_dir, 'PET')\n",
        "HDPE_train_dir = os.path.join(train_dir, 'HDPE')\n",
        "\n",
        "print(\"Jumlah Data Train Tiap Kelas\")\n",
        "print('jumlah gambar train PET :', len(os.listdir(PET_train_dir)))\n",
        "print('jumlah gambar train HDPE :', len(os.listdir(HDPE_train_dir)))"
      ]
    },
    {
      "cell_type": "code",
      "execution_count": 4,
      "metadata": {
        "colab": {
          "base_uri": "https://localhost:8080/",
          "height": 0
        },
        "id": "B2LHx4hv45Om",
        "outputId": "ec736886-dc79-44d9-ecdb-824350632c44"
      },
      "outputs": [
        {
          "name": "stdout",
          "output_type": "stream",
          "text": [
            "Jumlah Data Validasi Tiap Kelas\n",
            "jumlah gambar validasi PET : 18\n",
            "jumlah gambar validasi HDPE : 13\n"
          ]
        }
      ],
      "source": [
        "# menentukan direktori isi folder validasi\n",
        "PET_val_dir = os.path.join(validation_dir, 'PET')\n",
        "HDPE_val_dir = os.path.join(validation_dir, 'HDPE')\n",
        "\n",
        "print(\"Jumlah Data Validasi Tiap Kelas\")\n",
        "print('jumlah gambar validasi PET :', len(os.listdir(PET_val_dir)))\n",
        "print('jumlah gambar validasi HDPE :', len(os.listdir(HDPE_val_dir)))"
      ]
    },
    {
      "cell_type": "code",
      "execution_count": 5,
      "metadata": {
        "id": "MViyrg-_48ZT"
      },
      "outputs": [],
      "source": [
        "# preprocessing\n",
        "\n",
        "import tensorflow as tf\n",
        "from tensorflow.keras.optimizers import Adam\n",
        "from tensorflow.keras.preprocessing.image import ImageDataGenerator\n",
        "\n",
        "train_datagen = ImageDataGenerator(\n",
        "                  rescale = 1/255,\n",
        "                  rotation_range = 135,\n",
        "                  horizontal_flip = True,\n",
        "                  shear_range = 0.3,\n",
        "                  fill_mode = 'nearest',\n",
        "                  width_shift_range = 0.2,\n",
        "                  height_shift_range = 0.2,\n",
        "                  zoom_range = 0.1\n",
        ")\n",
        "\n",
        "val_datagen = ImageDataGenerator(\n",
        "                  rescale = 1/255,\n",
        "                  rotation_range = 135,\n",
        "                  horizontal_flip = True,\n",
        "                  shear_range = 0.3,\n",
        "                  fill_mode = 'nearest',\n",
        "                  width_shift_range = 0.2,\n",
        "                  height_shift_range = 0.2,\n",
        "                  zoom_range = 0.1\n",
        ")\n",
        " "
      ]
    },
    {
      "cell_type": "code",
      "execution_count": 6,
      "metadata": {
        "colab": {
          "base_uri": "https://localhost:8080/",
          "height": 0
        },
        "id": "MNZAmpzI5BnI",
        "outputId": "cc60d92f-47f7-4bad-aefa-9219dda3731e"
      },
      "outputs": [
        {
          "name": "stdout",
          "output_type": "stream",
          "text": [
            "Found 152 images belonging to 2 classes.\n",
            "Found 31 images belonging to 2 classes.\n"
          ]
        }
      ],
      "source": [
        "# target\n",
        "\n",
        "train_generator = train_datagen.flow_from_directory(\n",
        "    train_dir,\n",
        "    target_size = (150, 150),\n",
        "    batch_size = 5,\n",
        "    class_mode = 'categorical'\n",
        ")\n",
        "\n",
        "val_generator = val_datagen.flow_from_directory(\n",
        "    validation_dir,\n",
        "    target_size = (150, 150),\n",
        "    batch_size = 5,\n",
        "    class_mode = 'categorical'\n",
        ")"
      ]
    },
    {
      "cell_type": "code",
      "execution_count": 7,
      "metadata": {
        "id": "_QSMdRL45Fhe"
      },
      "outputs": [],
      "source": [
        "# model CNN\n",
        "\n",
        "model = tf.keras.models.Sequential([\n",
        "          tf.keras.layers.Conv2D(16,(4,4), activation = 'relu', input_shape = (150,150,3)),\n",
        "          tf.keras.layers.MaxPooling2D(3,3),\n",
        "          tf.keras.layers.Conv2D(16,(4,4), activation = 'relu'),\n",
        "          tf.keras.layers.MaxPooling2D(3,3),\n",
        "          tf.keras.layers.Conv2D(16,(4,4), activation = 'relu'),\n",
        "          tf.keras.layers.MaxPooling2D(3,3),\n",
        "          tf.keras.layers.Flatten(),\n",
        "          tf.keras.layers.Dense(128,activation = 'relu'),\n",
        "          tf.keras.layers.Dropout(0.5, seed = 128),\n",
        "          tf.keras.layers.Dense(128,activation = 'relu'),\n",
        "          tf.keras.layers.Dropout(0.5, seed = 128),\n",
        "          tf.keras.layers.Dense(128,activation = 'relu'),\n",
        "          tf.keras.layers.Dropout(0.5, seed = 128),\n",
        "          tf.keras.layers.Dense(2,activation = 'sigmoid'),\n",
        "])"
      ]
    },
    {
      "cell_type": "code",
      "execution_count": 8,
      "metadata": {
        "colab": {
          "base_uri": "https://localhost:8080/",
          "height": 0
        },
        "id": "jXw8HWTg5IcI",
        "outputId": "aa0c4012-ef81-414b-b4a8-46f5a3331050"
      },
      "outputs": [
        {
          "name": "stdout",
          "output_type": "stream",
          "text": [
            "Model: \"sequential\"\n",
            "_________________________________________________________________\n",
            " Layer (type)                Output Shape              Param #   \n",
            "=================================================================\n",
            " conv2d (Conv2D)             (None, 147, 147, 16)      784       \n",
            "                                                                 \n",
            " max_pooling2d (MaxPooling2D  (None, 49, 49, 16)       0         \n",
            " )                                                               \n",
            "                                                                 \n",
            " conv2d_1 (Conv2D)           (None, 46, 46, 16)        4112      \n",
            "                                                                 \n",
            " max_pooling2d_1 (MaxPooling  (None, 15, 15, 16)       0         \n",
            " 2D)                                                             \n",
            "                                                                 \n",
            " conv2d_2 (Conv2D)           (None, 12, 12, 16)        4112      \n",
            "                                                                 \n",
            " max_pooling2d_2 (MaxPooling  (None, 4, 4, 16)         0         \n",
            " 2D)                                                             \n",
            "                                                                 \n",
            " flatten (Flatten)           (None, 256)               0         \n",
            "                                                                 \n",
            " dense (Dense)               (None, 128)               32896     \n",
            "                                                                 \n",
            " dropout (Dropout)           (None, 128)               0         \n",
            "                                                                 \n",
            " dense_1 (Dense)             (None, 128)               16512     \n",
            "                                                                 \n",
            " dropout_1 (Dropout)         (None, 128)               0         \n",
            "                                                                 \n",
            " dense_2 (Dense)             (None, 128)               16512     \n",
            "                                                                 \n",
            " dropout_2 (Dropout)         (None, 128)               0         \n",
            "                                                                 \n",
            " dense_3 (Dense)             (None, 2)                 258       \n",
            "                                                                 \n",
            "=================================================================\n",
            "Total params: 75,186\n",
            "Trainable params: 75,186\n",
            "Non-trainable params: 0\n",
            "_________________________________________________________________\n"
          ]
        }
      ],
      "source": [
        "# ringkasan model CNN\n",
        "\n",
        "model.summary()"
      ]
    },
    {
      "cell_type": "code",
      "execution_count": 9,
      "metadata": {
        "id": "FvFvXonN5LI1"
      },
      "outputs": [],
      "source": [
        "# compile model\n",
        "\n",
        "model.compile(loss = 'categorical_crossentropy',\n",
        "              optimizer = 'Adam',\n",
        "              metrics = ['accuracy'])"
      ]
    },
    {
      "cell_type": "code",
      "execution_count": 20,
      "metadata": {
        "colab": {
          "base_uri": "https://localhost:8080/",
          "height": 0
        },
        "id": "Xwewi5CncOgI",
        "outputId": "3d7691bd-4151-4d23-af1b-e118d8033909"
      },
      "outputs": [
        {
          "name": "stdout",
          "output_type": "stream",
          "text": [
            "Epoch 1/10\n",
            "15/15 [==============================] - 5s 350ms/step - loss: 0.1429 - accuracy: 0.9467 - val_loss: 0.0090 - val_accuracy: 1.0000\n",
            "Epoch 2/10\n",
            "15/15 [==============================] - 6s 405ms/step - loss: 0.2126 - accuracy: 0.9467 - val_loss: 0.2358 - val_accuracy: 0.9333\n",
            "Epoch 3/10\n",
            "15/15 [==============================] - 5s 365ms/step - loss: 0.0856 - accuracy: 0.9722 - val_loss: 0.0208 - val_accuracy: 1.0000\n",
            "Epoch 4/10\n",
            "15/15 [==============================] - 6s 386ms/step - loss: 0.2028 - accuracy: 0.9444 - val_loss: 0.3909 - val_accuracy: 0.8667\n",
            "Epoch 5/10\n",
            "15/15 [==============================] - 5s 357ms/step - loss: 0.1413 - accuracy: 0.9583 - val_loss: 0.1828 - val_accuracy: 0.9333\n",
            "Epoch 6/10\n",
            "15/15 [==============================] - 5s 361ms/step - loss: 0.1398 - accuracy: 0.9600 - val_loss: 0.1235 - val_accuracy: 0.9333\n",
            "Epoch 7/10\n",
            "15/15 [==============================] - 6s 373ms/step - loss: 0.1111 - accuracy: 0.9600 - val_loss: 0.1768 - val_accuracy: 0.9333\n",
            "Epoch 8/10\n",
            "15/15 [==============================] - 9s 638ms/step - loss: 0.1467 - accuracy: 0.9583 - val_loss: 0.2208 - val_accuracy: 0.9333\n",
            "Epoch 9/10\n",
            "15/15 [==============================] - 9s 607ms/step - loss: 0.2176 - accuracy: 0.9200 - val_loss: 0.0367 - val_accuracy: 1.0000\n",
            "Epoch 10/10\n",
            "15/15 [==============================] - 8s 528ms/step - loss: 0.2298 - accuracy: 0.9167 - val_loss: 0.2949 - val_accuracy: 0.8667\n",
            "dict_keys(['loss', 'accuracy', 'val_loss', 'val_accuracy'])\n",
            "dict_values([[0.14294081926345825, 0.21263861656188965, 0.0856420174241066, 0.20275811851024628, 0.14134001731872559, 0.13983844220638275, 0.11107182502746582, 0.1466919630765915, 0.2175748497247696, 0.22979497909545898], [0.9466666579246521, 0.9466666579246521, 0.9722222089767456, 0.9444444179534912, 0.9583333134651184, 0.9599999785423279, 0.9599999785423279, 0.9583333134651184, 0.9200000166893005, 0.9166666865348816], [0.008994639851152897, 0.23579813539981842, 0.02081206813454628, 0.39086541533470154, 0.18278232216835022, 0.12346700578927994, 0.17676874995231628, 0.2208298295736313, 0.03673883527517319, 0.2949363887310028], [1.0, 0.9333333373069763, 1.0, 0.8666666746139526, 0.9333333373069763, 0.9333333373069763, 0.9333333373069763, 0.9333333373069763, 1.0, 0.8666666746139526]])\n"
          ]
        }
      ],
      "source": [
        "# model training\n",
        "history = model.fit( \n",
        "            train_generator,\n",
        "            steps_per_epoch = 15 ,\n",
        "            epochs = 10,\n",
        "            validation_data = val_generator,\n",
        "            validation_steps = 3,\n",
        "            verbose = 1\n",
        ")\n",
        "\n",
        "# print(result)\n",
        "print(history.history.keys())\n",
        "print((history.history.values()))"
      ]
    },
    {
      "cell_type": "code",
      "execution_count": 11,
      "metadata": {
        "colab": {
          "base_uri": "https://localhost:8080/",
          "height": 545
        },
        "id": "nWsAKoILd0GT",
        "outputId": "ae46dcda-2c6f-4f1e-dd29-ecd33cadad67"
      },
      "outputs": [
        {
          "data": {
            "image/png": "[encoded data removed]",
            "text/plain": [
              "<Figure size 432x288 with 1 Axes>"
            ]
          },
          "metadata": {
            "needs_background": "light"
          },
          "output_type": "display_data"
        },
        {
          "data": {
            "image/png": "[encoded data removed]",
            "text/plain": [
              "<Figure size 432x288 with 1 Axes>"
            ]
          },
          "metadata": {
            "needs_background": "light"
          },
          "output_type": "display_data"
        }
      ],
      "source": [
        "# grafik akurasi\n",
        "\n",
        "%matplotlib inline\n",
        "\n",
        "import matplotlib.image as mpimg\n",
        "import matplotlib.pyplot as plt\n",
        "\n",
        "acc = history.history['accuracy']\n",
        "val_acc = history.history['val_accuracy']\n",
        "loss = history.history['loss']\n",
        "val_loss = history.history['val_loss']\n",
        "\n",
        "epochs = range(len(acc))\n",
        "\n",
        "plt.plot(epochs, acc, 'r', label = 'Training Accuracy')\n",
        "plt.plot(epochs, val_acc, 'b', label = 'Validation Accuracy')\n",
        "plt.title('Trainign and Validation Accuracy')\n",
        "plt.legend(loc = 'best')\n",
        "plt.show()\n",
        "\n",
        "plt.plot(epochs, loss, 'r', label = 'Training Loss')\n",
        "plt.plot(epochs, val_loss, 'b', label = 'Validation Loss')\n",
        "plt.title('Trainign and Validation Loss')\n",
        "plt.legend(loc = 'best')\n",
        "plt.show()\n"
      ]
    }
  ],
  "metadata": {
    "colab": {
      "name": "trial 3",
      "provenance": []
    },
    "kernelspec": {
      "display_name": "Python 3",
      "name": "python3"
    },
    "language_info": {
      "codemirror_mode": {
        "name": "ipython",
        "version": 3
      },
      "file_extension": ".py",
      "mimetype": "text/x-python",
      "name": "python",
      "nbconvert_exporter": "python",
      "pygments_lexer": "ipython3",
      "version": "3.10.2"
    }
  },
  "nbformat": 4,
  "nbformat_minor": 0
}
