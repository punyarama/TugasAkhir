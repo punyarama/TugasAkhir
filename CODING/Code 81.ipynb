{
  "cells": [
    {
      "cell_type": "code",
      "execution_count": 1,
      "metadata": {
        "colab": {
          "base_uri": "https://localhost:8080/",
          "height": 0
        },
        "id": "91OaXBVb4NcS",
        "outputId": "f3e0f888-8f2d-40d7-bda6-9c87cf062a7d"
      },
      "outputs": [],
      "source": [
        "import os\n",
        "from PIL import Image\n",
        "\n",
        "base_dir = ('D:\\KULIAH\\Skripsi\\DATASET\\Warung Botol')"
      ]
    },
    {
      "cell_type": "code",
      "execution_count": 2,
      "metadata": {
        "id": "o44FEQXo4xHe"
      },
      "outputs": [],
      "source": [
        "# menentukan direktori\n",
        "train_dir = os.path.join(base_dir, 'train')\n",
        "validation_dir = os.path.join(base_dir, 'validasi')"
      ]
    },
    {
      "cell_type": "code",
      "execution_count": 3,
      "metadata": {
        "colab": {
          "base_uri": "https://localhost:8080/",
          "height": 0
        },
        "id": "ezhebQCz435U",
        "outputId": "a2d14076-b8c1-4812-8a77-ff79f9095797"
      },
      "outputs": [
        {
          "name": "stdout",
          "output_type": "stream",
          "text": [
            "Jumlah Data Train Tiap Kelas\n",
            "jumlah gambar train PET : 77\n",
            "jumlah gambar train HDPE : 75\n"
          ]
        }
      ],
      "source": [
        "# menentukan direktori isi folder training\n",
        "\n",
        "PET_train_dir = os.path.join(train_dir, 'PET')\n",
        "HDPE_train_dir = os.path.join(train_dir, 'HDPE')\n",
        "\n",
        "print(\"Jumlah Data Train Tiap Kelas\")\n",
        "print('jumlah gambar train PET :', len(os.listdir(PET_train_dir)))\n",
        "print('jumlah gambar train HDPE :', len(os.listdir(HDPE_train_dir)))"
      ]
    },
    {
      "cell_type": "code",
      "execution_count": 4,
      "metadata": {
        "colab": {
          "base_uri": "https://localhost:8080/",
          "height": 0
        },
        "id": "B2LHx4hv45Om",
        "outputId": "ec736886-dc79-44d9-ecdb-824350632c44"
      },
      "outputs": [
        {
          "name": "stdout",
          "output_type": "stream",
          "text": [
            "Jumlah Data Validasi Tiap Kelas\n",
            "jumlah gambar validasi PET : 18\n",
            "jumlah gambar validasi HDPE : 13\n"
          ]
        }
      ],
      "source": [
        "# menentukan direktori isi folder validasi\n",
        "PET_val_dir = os.path.join(validation_dir, 'PET')\n",
        "HDPE_val_dir = os.path.join(validation_dir, 'HDPE')\n",
        "\n",
        "print(\"Jumlah Data Validasi Tiap Kelas\")\n",
        "print('jumlah gambar validasi PET :', len(os.listdir(PET_val_dir)))\n",
        "print('jumlah gambar validasi HDPE :', len(os.listdir(HDPE_val_dir)))"
      ]
    },
    {
      "cell_type": "code",
      "execution_count": 5,
      "metadata": {
        "id": "MViyrg-_48ZT"
      },
      "outputs": [],
      "source": [
        "# preprocessing\n",
        "\n",
        "import tensorflow as tf\n",
        "from tensorflow.keras.optimizers import Adam\n",
        "from tensorflow.keras.preprocessing.image import ImageDataGenerator\n",
        "\n",
        "train_datagen = ImageDataGenerator(\n",
        "                  rescale = 1/64,\n",
        "                  rotation_range = 15,\n",
        "                  horizontal_flip = True,\n",
        "                  shear_range = 0.2,\n",
        "                  fill_mode = 'nearest',\n",
        "                  width_shift_range = 0.1,\n",
        "                  height_shift_range = 0.3,\n",
        "                  zoom_range = 0.4\n",
        ")\n",
        "\n",
        "val_datagen = ImageDataGenerator(\n",
        "                  rescale = 1/64,\n",
        "                  rotation_range = 15,\n",
        "                  horizontal_flip = True,\n",
        "                  shear_range = 0.2,\n",
        "                  fill_mode = 'nearest',\n",
        "                  width_shift_range = 0.1,\n",
        "                  height_shift_range = 0.3,\n",
        "                  zoom_range = 0.4\n",
        ")\n",
        " "
      ]
    },
    {
      "cell_type": "code",
      "execution_count": 6,
      "metadata": {
        "colab": {
          "base_uri": "https://localhost:8080/",
          "height": 0
        },
        "id": "MNZAmpzI5BnI",
        "outputId": "cc60d92f-47f7-4bad-aefa-9219dda3731e"
      },
      "outputs": [
        {
          "name": "stdout",
          "output_type": "stream",
          "text": [
            "Found 152 images belonging to 2 classes.\n",
            "Found 31 images belonging to 2 classes.\n"
          ]
        }
      ],
      "source": [
        "# target\n",
        "\n",
        "train_generator = train_datagen.flow_from_directory(\n",
        "    train_dir,\n",
        "    target_size = (150, 150),\n",
        "    batch_size = 5,\n",
        "    class_mode = 'categorical'\n",
        ")\n",
        "\n",
        "val_generator = val_datagen.flow_from_directory(\n",
        "    validation_dir,\n",
        "    target_size = (150, 150),\n",
        "    batch_size = 5,\n",
        "    class_mode = 'categorical'\n",
        ")"
      ]
    },
    {
      "cell_type": "code",
      "execution_count": 7,
      "metadata": {
        "id": "_QSMdRL45Fhe"
      },
      "outputs": [],
      "source": [
        "# model CNN\n",
        "\n",
        "model = tf.keras.models.Sequential([\n",
        "          tf.keras.layers.Conv2D(16,(4,4), activation = 'relu', input_shape = (150,150,3)),\n",
        "          tf.keras.layers.MaxPooling2D(3,3),\n",
        "          tf.keras.layers.Conv2D(16,(4,4), activation = 'relu'),\n",
        "          tf.keras.layers.MaxPooling2D(3,3),\n",
        "          tf.keras.layers.Conv2D(16,(4,4), activation = 'relu'),\n",
        "          tf.keras.layers.MaxPooling2D(3,3),\n",
        "          tf.keras.layers.Flatten(),\n",
        "          tf.keras.layers.Dense(128,activation = 'relu'),\n",
        "          tf.keras.layers.Dropout(0.5, seed = 256),\n",
        "          tf.keras.layers.Dense(2,activation = 'sigmoid'),\n",
        "])"
      ]
    },
    {
      "cell_type": "code",
      "execution_count": 8,
      "metadata": {
        "colab": {
          "base_uri": "https://localhost:8080/",
          "height": 0
        },
        "id": "jXw8HWTg5IcI",
        "outputId": "aa0c4012-ef81-414b-b4a8-46f5a3331050"
      },
      "outputs": [
        {
          "name": "stdout",
          "output_type": "stream",
          "text": [
            "Model: \"sequential\"\n",
            "_________________________________________________________________\n",
            " Layer (type)                Output Shape              Param #   \n",
            "=================================================================\n",
            " conv2d (Conv2D)             (None, 147, 147, 16)      784       \n",
            "                                                                 \n",
            " max_pooling2d (MaxPooling2D  (None, 49, 49, 16)       0         \n",
            " )                                                               \n",
            "                                                                 \n",
            " conv2d_1 (Conv2D)           (None, 46, 46, 16)        4112      \n",
            "                                                                 \n",
            " max_pooling2d_1 (MaxPooling  (None, 15, 15, 16)       0         \n",
            " 2D)                                                             \n",
            "                                                                 \n",
            " conv2d_2 (Conv2D)           (None, 12, 12, 16)        4112      \n",
            "                                                                 \n",
            " max_pooling2d_2 (MaxPooling  (None, 4, 4, 16)         0         \n",
            " 2D)                                                             \n",
            "                                                                 \n",
            " flatten (Flatten)           (None, 256)               0         \n",
            "                                                                 \n",
            " dense (Dense)               (None, 128)               32896     \n",
            "                                                                 \n",
            " dropout (Dropout)           (None, 128)               0         \n",
            "                                                                 \n",
            " dense_1 (Dense)             (None, 2)                 258       \n",
            "                                                                 \n",
            "=================================================================\n",
            "Total params: 42,162\n",
            "Trainable params: 42,162\n",
            "Non-trainable params: 0\n",
            "_________________________________________________________________\n"
          ]
        }
      ],
      "source": [
        "# ringkasan model CNN\n",
        "\n",
        "model.summary()"
      ]
    },
    {
      "cell_type": "code",
      "execution_count": 9,
      "metadata": {
        "id": "FvFvXonN5LI1"
      },
      "outputs": [],
      "source": [
        "# compile model\n",
        "\n",
        "model.compile(loss = 'categorical_crossentropy',\n",
        "              optimizer = 'Adam',\n",
        "              metrics = ['accuracy'])"
      ]
    },
    {
      "cell_type": "code",
      "execution_count": 21,
      "metadata": {
        "colab": {
          "base_uri": "https://localhost:8080/",
          "height": 0
        },
        "id": "Xwewi5CncOgI",
        "outputId": "3d7691bd-4151-4d23-af1b-e118d8033909"
      },
      "outputs": [
        {
          "name": "stdout",
          "output_type": "stream",
          "text": [
            "Epoch 1/30\n",
            "5/5 [==============================] - 7s 2s/step - loss: 0.0511 - accuracy: 0.9600 - val_loss: 6.9140e-06 - val_accuracy: 1.0000\n",
            "Epoch 2/30\n",
            "5/5 [==============================] - 7s 1s/step - loss: 0.1417 - accuracy: 0.9600 - val_loss: 5.4165e-05 - val_accuracy: 1.0000\n",
            "Epoch 3/30\n",
            "5/5 [==============================] - 6s 1s/step - loss: 0.0023 - accuracy: 1.0000 - val_loss: 0.0335 - val_accuracy: 1.0000\n",
            "Epoch 4/30\n",
            "5/5 [==============================] - 7s 1s/step - loss: 0.0050 - accuracy: 1.0000 - val_loss: 0.0398 - val_accuracy: 1.0000\n",
            "Epoch 5/30\n",
            "5/5 [==============================] - 7s 1s/step - loss: 0.0017 - accuracy: 1.0000 - val_loss: 0.0012 - val_accuracy: 1.0000\n",
            "Epoch 6/30\n",
            "5/5 [==============================] - 7s 1s/step - loss: 0.0015 - accuracy: 1.0000 - val_loss: 1.3367e-04 - val_accuracy: 1.0000\n",
            "Epoch 7/30\n",
            "5/5 [==============================] - 7s 1s/step - loss: 0.0035 - accuracy: 1.0000 - val_loss: 9.5367e-08 - val_accuracy: 1.0000\n",
            "Epoch 8/30\n",
            "5/5 [==============================] - 7s 1s/step - loss: 0.0292 - accuracy: 1.0000 - val_loss: 0.0174 - val_accuracy: 1.0000\n",
            "Epoch 9/30\n",
            "5/5 [==============================] - 4s 825ms/step - loss: 0.0011 - accuracy: 1.0000 - val_loss: 0.0061 - val_accuracy: 1.0000\n",
            "Epoch 10/30\n",
            "5/5 [==============================] - 4s 764ms/step - loss: 0.0083 - accuracy: 1.0000 - val_loss: 0.0061 - val_accuracy: 1.0000\n",
            "Epoch 11/30\n",
            "5/5 [==============================] - 3s 687ms/step - loss: 4.6291e-04 - accuracy: 1.0000 - val_loss: 2.4722e-05 - val_accuracy: 1.0000\n",
            "Epoch 12/30\n",
            "5/5 [==============================] - 4s 762ms/step - loss: 0.0057 - accuracy: 1.0000 - val_loss: 0.0037 - val_accuracy: 1.0000\n",
            "Epoch 13/30\n",
            "5/5 [==============================] - 3s 697ms/step - loss: 0.0205 - accuracy: 1.0000 - val_loss: 0.0228 - val_accuracy: 1.0000\n",
            "Epoch 14/30\n",
            "5/5 [==============================] - 3s 724ms/step - loss: 0.0012 - accuracy: 1.0000 - val_loss: 0.0390 - val_accuracy: 1.0000\n",
            "Epoch 15/30\n",
            "5/5 [==============================] - 4s 790ms/step - loss: 0.0130 - accuracy: 1.0000 - val_loss: 5.2452e-07 - val_accuracy: 1.0000\n",
            "Epoch 16/30\n",
            "5/5 [==============================] - 4s 761ms/step - loss: 0.0027 - accuracy: 1.0000 - val_loss: 8.2730e-06 - val_accuracy: 1.0000\n",
            "Epoch 17/30\n",
            "5/5 [==============================] - 4s 782ms/step - loss: 0.0402 - accuracy: 1.0000 - val_loss: 1.9973e-04 - val_accuracy: 1.0000\n",
            "Epoch 18/30\n",
            "5/5 [==============================] - 3s 703ms/step - loss: 5.5801e-04 - accuracy: 1.0000 - val_loss: 1.5974e-06 - val_accuracy: 1.0000\n",
            "Epoch 19/30\n",
            "5/5 [==============================] - 4s 779ms/step - loss: 0.0035 - accuracy: 1.0000 - val_loss: 6.7898e-04 - val_accuracy: 1.0000\n",
            "Epoch 20/30\n",
            "5/5 [==============================] - 4s 784ms/step - loss: 0.0260 - accuracy: 1.0000 - val_loss: 1.4925e-05 - val_accuracy: 1.0000\n",
            "Epoch 21/30\n",
            "5/5 [==============================] - 4s 812ms/step - loss: 0.0811 - accuracy: 0.9545 - val_loss: 0.0097 - val_accuracy: 1.0000\n",
            "Epoch 22/30\n",
            "5/5 [==============================] - 4s 794ms/step - loss: 0.0435 - accuracy: 1.0000 - val_loss: 0.8816 - val_accuracy: 0.8000\n",
            "Epoch 23/30\n",
            "5/5 [==============================] - 3s 700ms/step - loss: 0.0088 - accuracy: 1.0000 - val_loss: 2.6821e-04 - val_accuracy: 1.0000\n",
            "Epoch 24/30\n",
            "5/5 [==============================] - 4s 800ms/step - loss: 0.0016 - accuracy: 1.0000 - val_loss: 0.0094 - val_accuracy: 1.0000\n",
            "Epoch 25/30\n",
            "5/5 [==============================] - 4s 797ms/step - loss: 0.0072 - accuracy: 1.0000 - val_loss: 0.0822 - val_accuracy: 1.0000\n",
            "Epoch 26/30\n",
            "5/5 [==============================] - 4s 774ms/step - loss: 0.0044 - accuracy: 1.0000 - val_loss: 4.1053e-05 - val_accuracy: 1.0000\n",
            "Epoch 27/30\n",
            "5/5 [==============================] - 4s 793ms/step - loss: 0.0128 - accuracy: 1.0000 - val_loss: 0.0032 - val_accuracy: 1.0000\n",
            "Epoch 28/30\n",
            "5/5 [==============================] - 4s 874ms/step - loss: 0.0112 - accuracy: 1.0000 - val_loss: 0.2010 - val_accuracy: 0.8000\n",
            "Epoch 29/30\n",
            "5/5 [==============================] - 4s 767ms/step - loss: 0.0024 - accuracy: 1.0000 - val_loss: 8.0822e-06 - val_accuracy: 1.0000\n",
            "Epoch 30/30\n",
            "5/5 [==============================] - 4s 756ms/step - loss: 0.4276 - accuracy: 0.9600 - val_loss: 3.5880e-05 - val_accuracy: 1.0000\n",
            "dict_keys(['loss', 'accuracy', 'val_loss', 'val_accuracy'])\n",
            "dict_values([[0.051063746213912964, 0.14172595739364624, 0.002280979650095105, 0.005002074409276247, 0.0017259949818253517, 0.001462978427298367, 0.0034721745178103447, 0.02923569455742836, 0.001130447257310152, 0.008316820487380028, 0.0004629112081602216, 0.005687390454113483, 0.02045556530356407, 0.0012212332803755999, 0.013045844621956348, 0.0027418220415711403, 0.04015825316309929, 0.0005580115248449147, 0.0034894095733761787, 0.026048922911286354, 0.08109181374311447, 0.04352664574980736, 0.008781161159276962, 0.001550988294184208, 0.007176999002695084, 0.004357757978141308, 0.012785607948899269, 0.011163664981722832, 0.0023907704744488, 0.427572101354599], [0.9599999785423279, 0.9599999785423279, 1.0, 1.0, 1.0, 1.0, 1.0, 1.0, 1.0, 1.0, 1.0, 1.0, 1.0, 1.0, 1.0, 1.0, 1.0, 1.0, 1.0, 1.0, 0.9545454382896423, 1.0, 1.0, 1.0, 1.0, 1.0, 1.0, 1.0, 1.0, 0.9599999785423279], [6.914031928317854e-06, 5.416499334387481e-05, 0.03352784365415573, 0.03979441523551941, 0.0012103557819500566, 0.00013367339852266014, 9.53674117454284e-08, 0.017439313232898712, 0.0060896482318639755, 0.006113265175372362, 2.472247797413729e-05, 0.0037036831490695477, 0.022767100483179092, 0.038990311324596405, 5.245204306447704e-07, 8.272978448076174e-06, 0.00019972775771748275, 1.5974007965269266e-06, 0.0006789813051000237, 1.4924505194358062e-05, 0.00970877893269062, 0.8816277384757996, 0.0002682104241102934, 0.009430096484720707, 0.0822358950972557, 4.105277912458405e-05, 0.003229868831112981, 0.20097164809703827, 8.082227395789232e-06, 3.5880369978258386e-05], [1.0, 1.0, 1.0, 1.0, 1.0, 1.0, 1.0, 1.0, 1.0, 1.0, 1.0, 1.0, 1.0, 1.0, 1.0, 1.0, 1.0, 1.0, 1.0, 1.0, 1.0, 0.800000011920929, 1.0, 1.0, 1.0, 1.0, 1.0, 0.800000011920929, 1.0, 1.0]])\n"
          ]
        }
      ],
      "source": [
        "# model training\n",
        "history = model.fit( \n",
        "            train_generator,\n",
        "            steps_per_epoch = 5 ,\n",
        "            epochs = 30,\n",
        "            validation_data = val_generator,\n",
        "            validation_steps = 1,\n",
        "            verbose = 1\n",
        ")\n",
        "\n",
        "# print(result)\n",
        "print(history.history.keys())\n",
        "print((history.history.values()))"
      ]
    },
    {
      "cell_type": "code",
      "execution_count": null,
      "metadata": {
        "colab": {
          "base_uri": "https://localhost:8080/",
          "height": 0
        },
        "id": "Xwewi5CncOgI",
        "outputId": "3d7691bd-4151-4d23-af1b-e118d8033909"
      },
      "outputs": [
        {
          "name": "stdout",
          "output_type": "stream",
          "text": [
            "Epoch 1/30\n",
            "5/5 [==============================] - 3s 661ms/step - loss: 0.0109 - accuracy: 1.0000 - val_loss: 7.2240e-06 - val_accuracy: 1.0000\n",
            "Epoch 2/30\n",
            "5/5 [==============================] - 2s 511ms/step - loss: 2.0490e-05 - accuracy: 1.0000 - val_loss: 5.9365e-06 - val_accuracy: 1.0000\n",
            "Epoch 3/30\n",
            "5/5 [==============================] - 2s 501ms/step - loss: 1.6554e-05 - accuracy: 1.0000 - val_loss: 2.1458e-06 - val_accuracy: 1.0000\n",
            "Epoch 4/30\n",
            "5/5 [==============================] - 2s 490ms/step - loss: 0.0227 - accuracy: 1.0000 - val_loss: 0.3171 - val_accuracy: 0.8000\n",
            "Epoch 5/30\n",
            "5/5 [==============================] - 3s 644ms/step - loss: 0.1268 - accuracy: 0.9600 - val_loss: 2.1458e-07 - val_accuracy: 1.0000\n",
            "Epoch 6/30\n",
            "5/5 [==============================] - 3s 521ms/step - loss: 1.6903e-04 - accuracy: 1.0000 - val_loss: 0.0044 - val_accuracy: 1.0000\n",
            "Epoch 7/30\n",
            "5/5 [==============================] - 2s 447ms/step - loss: 0.0222 - accuracy: 1.0000 - val_loss: 0.0257 - val_accuracy: 1.0000\n",
            "Epoch 8/30\n",
            "5/5 [==============================] - 3s 558ms/step - loss: 0.1527 - accuracy: 0.9600 - val_loss: 7.3671e-06 - val_accuracy: 1.0000\n",
            "Epoch 9/30\n",
            "5/5 [==============================] - 2s 468ms/step - loss: 0.0436 - accuracy: 1.0000 - val_loss: 6.4054e-04 - val_accuracy: 1.0000\n",
            "Epoch 10/30\n",
            "5/5 [==============================] - 2s 298ms/step - loss: 0.0461 - accuracy: 1.0000 - val_loss: 4.7794e-04 - val_accuracy: 1.0000\n",
            "Epoch 11/30\n",
            "5/5 [==============================] - 2s 322ms/step - loss: 0.0010 - accuracy: 1.0000 - val_loss: 0.0013 - val_accuracy: 1.0000\n",
            "Epoch 12/30\n",
            "5/5 [==============================] - 2s 367ms/step - loss: 0.2312 - accuracy: 0.9600 - val_loss: 1.9404e-04 - val_accuracy: 1.0000\n",
            "Epoch 13/30\n",
            "5/5 [==============================] - 2s 380ms/step - loss: 0.0307 - accuracy: 1.0000 - val_loss: 0.0016 - val_accuracy: 1.0000\n",
            "Epoch 14/30\n",
            "5/5 [==============================] - 2s 363ms/step - loss: 0.0215 - accuracy: 1.0000 - val_loss: 0.0082 - val_accuracy: 1.0000\n",
            "Epoch 15/30\n",
            "5/5 [==============================] - 2s 321ms/step - loss: 0.0190 - accuracy: 1.0000 - val_loss: 7.0584e-05 - val_accuracy: 1.0000\n",
            "Epoch 16/30\n",
            "5/5 [==============================] - 1s 295ms/step - loss: 0.5192 - accuracy: 0.8800 - val_loss: 9.3544e-04 - val_accuracy: 1.0000\n",
            "Epoch 17/30\n",
            "5/5 [==============================] - 2s 390ms/step - loss: 0.0261 - accuracy: 1.0000 - val_loss: 6.1989e-07 - val_accuracy: 1.0000\n",
            "Epoch 18/30\n",
            "5/5 [==============================] - 2s 401ms/step - loss: 0.0398 - accuracy: 0.9600 - val_loss: 1.7853 - val_accuracy: 0.6000\n",
            "Epoch 19/30\n",
            "5/5 [==============================] - 2s 336ms/step - loss: 0.0494 - accuracy: 1.0000 - val_loss: 1.8580 - val_accuracy: 0.8000\n",
            "Epoch 20/30\n",
            "5/5 [==============================] - 2s 334ms/step - loss: 0.1915 - accuracy: 0.9600 - val_loss: 0.0065 - val_accuracy: 1.0000\n",
            "Epoch 21/30\n",
            "5/5 [==============================] - 2s 318ms/step - loss: 0.0576 - accuracy: 0.9600 - val_loss: 0.0070 - val_accuracy: 1.0000\n",
            "Epoch 22/30\n",
            "5/5 [==============================] - 1s 289ms/step - loss: 0.0384 - accuracy: 1.0000 - val_loss: 0.0104 - val_accuracy: 1.0000\n",
            "Epoch 23/30\n",
            "5/5 [==============================] - 2s 356ms/step - loss: 0.0273 - accuracy: 1.0000 - val_loss: 9.8613e-04 - val_accuracy: 1.0000\n",
            "Epoch 24/30\n",
            "5/5 [==============================] - 2s 334ms/step - loss: 0.0017 - accuracy: 1.0000 - val_loss: 0.5360 - val_accuracy: 0.8000\n",
            "Epoch 25/30\n",
            "5/5 [==============================] - 2s 332ms/step - loss: 0.0181 - accuracy: 1.0000 - val_loss: 8.1061e-06 - val_accuracy: 1.0000\n",
            "Epoch 26/30\n",
            "5/5 [==============================] - 2s 330ms/step - loss: 0.0018 - accuracy: 1.0000 - val_loss: 0.0063 - val_accuracy: 1.0000\n",
            "Epoch 27/30\n",
            "5/5 [==============================] - 2s 344ms/step - loss: 0.0514 - accuracy: 0.9600 - val_loss: 0.0607 - val_accuracy: 1.0000\n",
            "Epoch 28/30\n",
            "5/5 [==============================] - 2s 313ms/step - loss: 0.1064 - accuracy: 0.9600 - val_loss: 5.1587e-05 - val_accuracy: 1.0000\n",
            "Epoch 29/30\n",
            "5/5 [==============================] - 2s 383ms/step - loss: 9.0356e-04 - accuracy: 1.0000 - val_loss: 2.7845e-04 - val_accuracy: 1.0000\n",
            "Epoch 30/30\n",
            "5/5 [==============================] - 2s 361ms/step - loss: 0.0138 - accuracy: 1.0000 - val_loss: 4.4049e-04 - val_accuracy: 1.0000\n",
            "dict_keys(['loss', 'accuracy', 'val_loss', 'val_accuracy'])\n",
            "dict_values([[0.010882693342864513, 2.0489796952460892e-05, 1.655423875490669e-05, 0.02273079939186573, 0.12680423259735107, 0.00016902548668440431, 0.022196784615516663, 0.1527400016784668, 0.04364073649048805, 0.04612921550869942, 0.0010121739469468594, 0.2311946153640747, 0.030749553814530373, 0.021496720612049103, 0.01903105527162552, 0.5191816091537476, 0.02612731233239174, 0.039837535470724106, 0.04939066246151924, 0.1915101408958435, 0.05763962119817734, 0.038448359817266464, 0.027330949902534485, 0.0016881880583241582, 0.018075918778777122, 0.0018211586866527796, 0.051421694457530975, 0.10639455914497375, 0.000903559266589582, 0.013768844306468964], [1.0, 1.0, 1.0, 1.0, 0.9599999785423279, 1.0, 1.0, 0.9599999785423279, 1.0, 1.0, 1.0, 0.9599999785423279, 1.0, 1.0, 1.0, 0.8799999952316284, 1.0, 0.9599999785423279, 1.0, 0.9599999785423279, 0.9599999785423279, 1.0, 1.0, 1.0, 1.0, 1.0, 0.9599999785423279, 0.9599999785423279, 1.0, 1.0], [7.223960892588366e-06, 5.9365406741562765e-06, 2.145761300198501e-06, 0.31712669134140015, 2.1457660182022664e-07, 0.004439932759851217, 0.02565940096974373, 7.367082616838161e-06, 0.0006405405001714826, 0.000477942026918754, 0.0013436854351311922, 0.00019404345948714763, 0.0015741657698526978, 0.008216057904064655, 7.058422488626093e-05, 0.0009354433859698474, 6.198879418661818e-07, 1.7852576971054077, 1.8579738140106201, 0.006529879756271839, 0.007001933641731739, 0.010414857417345047, 0.0009861269500106573, 0.5359858274459839, 8.106145287456457e-06, 0.006327688694000244, 0.060693513602018356, 5.158720159670338e-05, 0.00027844711439684033, 0.0004404899664223194], [1.0, 1.0, 1.0, 0.800000011920929, 1.0, 1.0, 1.0, 1.0, 1.0, 1.0, 1.0, 1.0, 1.0, 1.0, 1.0, 1.0, 1.0, 0.6000000238418579, 0.800000011920929, 1.0, 1.0, 1.0, 1.0, 0.800000011920929, 1.0, 1.0, 1.0, 1.0, 1.0, 1.0]])\n"
          ]
        }
      ],
      "source": [
        "# model training\n",
        "history = model.fit( \n",
        "            train_generator,\n",
        "            steps_per_epoch = 5 ,\n",
        "            epochs = 30,\n",
        "            validation_data = val_generator,\n",
        "            validation_steps = 1,\n",
        "            verbose = 1\n",
        ")\n",
        "\n",
        "# print(result)\n",
        "print(history.history.keys())\n",
        "print((history.history.values()))"
      ]
    },
    {
      "cell_type": "code",
      "execution_count": 11,
      "metadata": {
        "colab": {
          "base_uri": "https://localhost:8080/",
          "height": 545
        },
        "id": "nWsAKoILd0GT",
        "outputId": "ae46dcda-2c6f-4f1e-dd29-ecd33cadad67"
      },
      "outputs": [
        {
          "data": {
            "image/png": "[encoded data removed]",
            "text/plain": [
              "<Figure size 432x288 with 1 Axes>"
            ]
          },
          "metadata": {
            "needs_background": "light"
          },
          "output_type": "display_data"
        },
        {
          "data": {
            "image/png": "[encoded data removed]",
            "text/plain": [
              "<Figure size 432x288 with 1 Axes>"
            ]
          },
          "metadata": {
            "needs_background": "light"
          },
          "output_type": "display_data"
        }
      ],
      "source": [
        "# grafik akurasi\n",
        "\n",
        "%matplotlib inline\n",
        "\n",
        "import matplotlib.image as mpimg\n",
        "import matplotlib.pyplot as plt\n",
        "\n",
        "acc = history.history['accuracy']\n",
        "val_acc = history.history['val_accuracy']\n",
        "loss = history.history['loss']\n",
        "val_loss = history.history['val_loss']\n",
        "\n",
        "epochs = range(len(acc))\n",
        "\n",
        "plt.plot(epochs, acc, 'r', label = 'Training Accuracy')\n",
        "plt.plot(epochs, val_acc, 'b', label = 'Validation Accuracy')\n",
        "plt.title('Trainign and Validation Accuracy')\n",
        "plt.legend(loc = 'best')\n",
        "plt.show()\n",
        "\n",
        "plt.plot(epochs, loss, 'r', label = 'Training Loss')\n",
        "plt.plot(epochs, val_loss, 'b', label = 'Validation Loss')\n",
        "plt.title('Trainign and Validation Loss')\n",
        "plt.legend(loc = 'best')\n",
        "plt.show()\n"
      ]
    }
  ],
  "metadata": {
    "colab": {
      "name": "trial 3",
      "provenance": []
    },
    "kernelspec": {
      "display_name": "Python 3",
      "name": "python3"
    },
    "language_info": {
      "codemirror_mode": {
        "name": "ipython",
        "version": 3
      },
      "file_extension": ".py",
      "mimetype": "text/x-python",
      "name": "python",
      "nbconvert_exporter": "python",
      "pygments_lexer": "ipython3",
      "version": "3.10.2"
    }
  },
  "nbformat": 4,
  "nbformat_minor": 0
}
