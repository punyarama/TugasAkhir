{
  "cells": [
    {
      "cell_type": "code",
      "execution_count": 1,
      "metadata": {
        "colab": {
          "base_uri": "https://localhost:8080/",
          "height": 0
        },
        "id": "91OaXBVb4NcS",
        "outputId": "f3e0f888-8f2d-40d7-bda6-9c87cf062a7d"
      },
      "outputs": [],
      "source": [
        "import os\n",
        "from PIL import Image\n",
        "\n",
        "base_dir = ('D:\\KULIAH\\Skripsi\\DATASET\\Warung Botol')"
      ]
    },
    {
      "cell_type": "code",
      "execution_count": 2,
      "metadata": {
        "id": "o44FEQXo4xHe"
      },
      "outputs": [],
      "source": [
        "# menentukan direktori\n",
        "train_dir = os.path.join(base_dir, 'train')\n",
        "validation_dir = os.path.join(base_dir, 'validasi')"
      ]
    },
    {
      "cell_type": "code",
      "execution_count": 3,
      "metadata": {
        "colab": {
          "base_uri": "https://localhost:8080/",
          "height": 0
        },
        "id": "ezhebQCz435U",
        "outputId": "a2d14076-b8c1-4812-8a77-ff79f9095797"
      },
      "outputs": [
        {
          "name": "stdout",
          "output_type": "stream",
          "text": [
            "Jumlah Data Train Tiap Kelas\n",
            "jumlah gambar train PET : 77\n",
            "jumlah gambar train HDPE : 75\n"
          ]
        }
      ],
      "source": [
        "# menentukan direktori isi folder training\n",
        "\n",
        "PET_train_dir = os.path.join(train_dir, 'PET')\n",
        "HDPE_train_dir = os.path.join(train_dir, 'HDPE')\n",
        "\n",
        "print(\"Jumlah Data Train Tiap Kelas\")\n",
        "print('jumlah gambar train PET :', len(os.listdir(PET_train_dir)))\n",
        "print('jumlah gambar train HDPE :', len(os.listdir(HDPE_train_dir)))"
      ]
    },
    {
      "cell_type": "code",
      "execution_count": 4,
      "metadata": {
        "colab": {
          "base_uri": "https://localhost:8080/",
          "height": 0
        },
        "id": "B2LHx4hv45Om",
        "outputId": "ec736886-dc79-44d9-ecdb-824350632c44"
      },
      "outputs": [
        {
          "name": "stdout",
          "output_type": "stream",
          "text": [
            "Jumlah Data Validasi Tiap Kelas\n",
            "jumlah gambar validasi PET : 18\n",
            "jumlah gambar validasi HDPE : 13\n"
          ]
        }
      ],
      "source": [
        "# menentukan direktori isi folder validasi\n",
        "PET_val_dir = os.path.join(validation_dir, 'PET')\n",
        "HDPE_val_dir = os.path.join(validation_dir, 'HDPE')\n",
        "\n",
        "print(\"Jumlah Data Validasi Tiap Kelas\")\n",
        "print('jumlah gambar validasi PET :', len(os.listdir(PET_val_dir)))\n",
        "print('jumlah gambar validasi HDPE :', len(os.listdir(HDPE_val_dir)))"
      ]
    },
    {
      "cell_type": "code",
      "execution_count": 5,
      "metadata": {
        "id": "MViyrg-_48ZT"
      },
      "outputs": [],
      "source": [
        "# preprocessing\n",
        "\n",
        "import tensorflow as tf\n",
        "from tensorflow.keras.optimizers import Adam\n",
        "from tensorflow.keras.preprocessing.image import ImageDataGenerator\n",
        "\n",
        "train_datagen = ImageDataGenerator(\n",
        "                  rescale = 1/64,\n",
        "                  rotation_range = 15,\n",
        "                  horizontal_flip = True,\n",
        "                  shear_range = 0.2,\n",
        "                  fill_mode = 'nearest',\n",
        "                  width_shift_range = 0.1,\n",
        "                  height_shift_range = 0.1,\n",
        "                  zoom_range = 0.1\n",
        ")\n",
        "\n",
        "val_datagen = ImageDataGenerator(\n",
        "                  rescale = 1/64,\n",
        "                  rotation_range = 15,\n",
        "                  horizontal_flip = True,\n",
        "                  shear_range = 0.2,\n",
        "                  fill_mode = 'nearest',\n",
        "                  width_shift_range = 0.1,\n",
        "                  height_shift_range = 0.1,\n",
        "                  zoom_range = 0.1\n",
        ")\n",
        " "
      ]
    },
    {
      "cell_type": "code",
      "execution_count": 6,
      "metadata": {
        "colab": {
          "base_uri": "https://localhost:8080/",
          "height": 0
        },
        "id": "MNZAmpzI5BnI",
        "outputId": "cc60d92f-47f7-4bad-aefa-9219dda3731e"
      },
      "outputs": [
        {
          "name": "stdout",
          "output_type": "stream",
          "text": [
            "Found 152 images belonging to 2 classes.\n",
            "Found 31 images belonging to 2 classes.\n"
          ]
        }
      ],
      "source": [
        "# target\n",
        "\n",
        "train_generator = train_datagen.flow_from_directory(\n",
        "    train_dir,\n",
        "    target_size = (150, 150),\n",
        "    batch_size = 5,\n",
        "    class_mode = 'categorical'\n",
        ")\n",
        "\n",
        "val_generator = val_datagen.flow_from_directory(\n",
        "    validation_dir,\n",
        "    target_size = (150, 150),\n",
        "    batch_size = 5,\n",
        "    class_mode = 'categorical'\n",
        ")"
      ]
    },
    {
      "cell_type": "code",
      "execution_count": 7,
      "metadata": {
        "id": "_QSMdRL45Fhe"
      },
      "outputs": [],
      "source": [
        "# model CNN\n",
        "\n",
        "model = tf.keras.models.Sequential([\n",
        "          tf.keras.layers.Conv2D(16,(4,4), activation = 'relu', input_shape = (150,150,3)),\n",
        "          tf.keras.layers.MaxPooling2D(3,3),\n",
        "          tf.keras.layers.Conv2D(16,(4,4), activation = 'relu'),\n",
        "          tf.keras.layers.MaxPooling2D(3,3),\n",
        "          tf.keras.layers.Conv2D(16,(4,4), activation = 'relu'),\n",
        "          tf.keras.layers.MaxPooling2D(3,3),\n",
        "          tf.keras.layers.Flatten(),\n",
        "          tf.keras.layers.Dense(128,activation = 'relu'),\n",
        "          tf.keras.layers.Dropout(0.5, seed = 128),\n",
        "          tf.keras.layers.Dense(2,activation = 'sigmoid'),\n",
        "])"
      ]
    },
    {
      "cell_type": "code",
      "execution_count": 8,
      "metadata": {
        "colab": {
          "base_uri": "https://localhost:8080/",
          "height": 0
        },
        "id": "jXw8HWTg5IcI",
        "outputId": "aa0c4012-ef81-414b-b4a8-46f5a3331050"
      },
      "outputs": [
        {
          "name": "stdout",
          "output_type": "stream",
          "text": [
            "Model: \"sequential\"\n",
            "_________________________________________________________________\n",
            " Layer (type)                Output Shape              Param #   \n",
            "=================================================================\n",
            " conv2d (Conv2D)             (None, 147, 147, 16)      784       \n",
            "                                                                 \n",
            " max_pooling2d (MaxPooling2D  (None, 49, 49, 16)       0         \n",
            " )                                                               \n",
            "                                                                 \n",
            " conv2d_1 (Conv2D)           (None, 46, 46, 16)        4112      \n",
            "                                                                 \n",
            " max_pooling2d_1 (MaxPooling  (None, 15, 15, 16)       0         \n",
            " 2D)                                                             \n",
            "                                                                 \n",
            " conv2d_2 (Conv2D)           (None, 12, 12, 16)        4112      \n",
            "                                                                 \n",
            " max_pooling2d_2 (MaxPooling  (None, 4, 4, 16)         0         \n",
            " 2D)                                                             \n",
            "                                                                 \n",
            " flatten (Flatten)           (None, 256)               0         \n",
            "                                                                 \n",
            " dense (Dense)               (None, 128)               32896     \n",
            "                                                                 \n",
            " dropout (Dropout)           (None, 128)               0         \n",
            "                                                                 \n",
            " dense_1 (Dense)             (None, 2)                 258       \n",
            "                                                                 \n",
            "=================================================================\n",
            "Total params: 42,162\n",
            "Trainable params: 42,162\n",
            "Non-trainable params: 0\n",
            "_________________________________________________________________\n"
          ]
        }
      ],
      "source": [
        "# ringkasan model CNN\n",
        "\n",
        "model.summary()"
      ]
    },
    {
      "cell_type": "code",
      "execution_count": 9,
      "metadata": {
        "id": "FvFvXonN5LI1"
      },
      "outputs": [],
      "source": [
        "# compile model\n",
        "\n",
        "model.compile(loss = 'categorical_crossentropy',\n",
        "              optimizer = 'Adam',\n",
        "              metrics = ['accuracy'])"
      ]
    },
    {
      "cell_type": "code",
      "execution_count": 21,
      "metadata": {
        "colab": {
          "base_uri": "https://localhost:8080/",
          "height": 0
        },
        "id": "Xwewi5CncOgI",
        "outputId": "3d7691bd-4151-4d23-af1b-e118d8033909"
      },
      "outputs": [
        {
          "name": "stdout",
          "output_type": "stream",
          "text": [
            "Epoch 1/30\n",
            "5/5 [==============================] - 2s 486ms/step - loss: 5.7235e-05 - accuracy: 1.0000 - val_loss: 2.2554e-05 - val_accuracy: 1.0000\n",
            "Epoch 2/30\n",
            "5/5 [==============================] - 2s 351ms/step - loss: 2.7640e-04 - accuracy: 1.0000 - val_loss: 2.3842e-08 - val_accuracy: 1.0000\n",
            "Epoch 3/30\n",
            "5/5 [==============================] - 2s 441ms/step - loss: 0.0059 - accuracy: 1.0000 - val_loss: 4.7684e-08 - val_accuracy: 1.0000\n",
            "Epoch 4/30\n",
            "5/5 [==============================] - 1s 212ms/step - loss: 4.6157e-06 - accuracy: 1.0000 - val_loss: 6.1989e-07 - val_accuracy: 1.0000\n",
            "Epoch 5/30\n",
            "5/5 [==============================] - 1s 192ms/step - loss: 2.1724e-04 - accuracy: 1.0000 - val_loss: 5.2183e-05 - val_accuracy: 1.0000\n",
            "Epoch 6/30\n",
            "5/5 [==============================] - 1s 212ms/step - loss: 6.1890e-05 - accuracy: 1.0000 - val_loss: 2.3842e-08 - val_accuracy: 1.0000\n",
            "Epoch 7/30\n",
            "5/5 [==============================] - 1s 215ms/step - loss: 2.8215e-05 - accuracy: 1.0000 - val_loss: 2.3842e-08 - val_accuracy: 1.0000\n",
            "Epoch 8/30\n",
            "5/5 [==============================] - 2s 347ms/step - loss: 3.2348e-06 - accuracy: 1.0000 - val_loss: 8.1237e-05 - val_accuracy: 1.0000\n",
            "Epoch 9/30\n",
            "5/5 [==============================] - 2s 346ms/step - loss: 2.1517e-04 - accuracy: 1.0000 - val_loss: 1.3661e-05 - val_accuracy: 1.0000\n",
            "Epoch 10/30\n",
            "5/5 [==============================] - 1s 191ms/step - loss: 6.6217e-05 - accuracy: 1.0000 - val_loss: 8.2316e-05 - val_accuracy: 1.0000\n",
            "Epoch 11/30\n",
            "5/5 [==============================] - 1s 198ms/step - loss: 1.9744e-05 - accuracy: 1.0000 - val_loss: 7.1526e-08 - val_accuracy: 1.0000\n",
            "Epoch 12/30\n",
            "5/5 [==============================] - 1s 294ms/step - loss: 6.7545e-05 - accuracy: 1.0000 - val_loss: 3.3379e-07 - val_accuracy: 1.0000\n",
            "Epoch 13/30\n",
            "5/5 [==============================] - 2s 419ms/step - loss: 3.9195e-05 - accuracy: 1.0000 - val_loss: 0.0000e+00 - val_accuracy: 1.0000\n",
            "Epoch 14/30\n",
            "5/5 [==============================] - 1s 196ms/step - loss: 4.9456e-04 - accuracy: 1.0000 - val_loss: 0.0947 - val_accuracy: 1.0000\n",
            "Epoch 15/30\n",
            "5/5 [==============================] - 1s 212ms/step - loss: 0.0055 - accuracy: 1.0000 - val_loss: 1.9526e-05 - val_accuracy: 1.0000\n",
            "Epoch 16/30\n",
            "5/5 [==============================] - 1s 263ms/step - loss: 1.4613e-05 - accuracy: 1.0000 - val_loss: 1.4782e-06 - val_accuracy: 1.0000\n",
            "Epoch 17/30\n",
            "5/5 [==============================] - 2s 454ms/step - loss: 3.9367e-05 - accuracy: 1.0000 - val_loss: 2.0035e-04 - val_accuracy: 1.0000\n",
            "Epoch 18/30\n",
            "5/5 [==============================] - 1s 268ms/step - loss: 0.1324 - accuracy: 0.9600 - val_loss: 2.3842e-08 - val_accuracy: 1.0000\n",
            "Epoch 19/30\n",
            "5/5 [==============================] - 1s 179ms/step - loss: 8.7564e-04 - accuracy: 1.0000 - val_loss: 0.0000e+00 - val_accuracy: 1.0000\n",
            "Epoch 20/30\n",
            "5/5 [==============================] - 1s 206ms/step - loss: 0.0584 - accuracy: 0.9600 - val_loss: 0.0139 - val_accuracy: 1.0000\n",
            "Epoch 21/30\n",
            "5/5 [==============================] - 1s 219ms/step - loss: 3.5981e-04 - accuracy: 1.0000 - val_loss: 3.5688e-05 - val_accuracy: 1.0000\n",
            "Epoch 22/30\n",
            "5/5 [==============================] - 1s 236ms/step - loss: 0.0013 - accuracy: 1.0000 - val_loss: 5.3115e-05 - val_accuracy: 1.0000\n",
            "Epoch 23/30\n",
            "5/5 [==============================] - 1s 224ms/step - loss: 1.7425e-04 - accuracy: 1.0000 - val_loss: 4.2915e-07 - val_accuracy: 1.0000\n",
            "Epoch 24/30\n",
            "5/5 [==============================] - 1s 272ms/step - loss: 0.0014 - accuracy: 1.0000 - val_loss: 1.6689e-07 - val_accuracy: 1.0000\n",
            "Epoch 25/30\n",
            "5/5 [==============================] - 2s 485ms/step - loss: 1.1038e-05 - accuracy: 1.0000 - val_loss: 5.2452e-07 - val_accuracy: 1.0000\n",
            "Epoch 26/30\n",
            "5/5 [==============================] - 2s 449ms/step - loss: 0.0023 - accuracy: 1.0000 - val_loss: 0.1526 - val_accuracy: 0.8000\n",
            "Epoch 27/30\n",
            "5/5 [==============================] - 2s 317ms/step - loss: 3.5065e-05 - accuracy: 1.0000 - val_loss: 7.6875e-05 - val_accuracy: 1.0000\n",
            "Epoch 28/30\n",
            "5/5 [==============================] - 1s 277ms/step - loss: 7.9664e-05 - accuracy: 1.0000 - val_loss: 0.0067 - val_accuracy: 1.0000\n",
            "Epoch 29/30\n",
            "5/5 [==============================] - 2s 370ms/step - loss: 3.7768e-04 - accuracy: 1.0000 - val_loss: 2.8849e-06 - val_accuracy: 1.0000\n",
            "Epoch 30/30\n",
            "5/5 [==============================] - 2s 332ms/step - loss: 0.0086 - accuracy: 1.0000 - val_loss: 2.3842e-08 - val_accuracy: 1.0000\n",
            "dict_keys(['loss', 'accuracy', 'val_loss', 'val_accuracy'])\n",
            "dict_values([[5.723489084630273e-05, 0.0002764038508757949, 0.005881953053176403, 4.615703801391646e-06, 0.00021723630197811872, 6.188976840348914e-05, 2.8214613848831505e-05, 3.234836867704871e-06, 0.00021517474669963121, 6.621684588026255e-05, 1.9744311430258676e-05, 6.754529022146016e-05, 3.9194546843646094e-05, 0.0004945570253767073, 0.005535956472158432, 1.461259580537444e-05, 3.936724169761874e-05, 0.13243922591209412, 0.0008756371680647135, 0.05841730535030365, 0.0003598112380132079, 0.0012628062395378947, 0.0001742483873385936, 0.0013783527538180351, 1.1038426237064414e-05, 0.002269781194627285, 3.5064971598330885e-05, 7.966379052959383e-05, 0.00037767767207697034, 0.008570779114961624], [1.0, 1.0, 1.0, 1.0, 1.0, 1.0, 1.0, 1.0, 1.0, 1.0, 1.0, 1.0, 1.0, 1.0, 1.0, 1.0, 1.0, 0.9599999785423279, 1.0, 0.9599999785423279, 1.0, 1.0, 1.0, 1.0, 1.0, 1.0, 1.0, 1.0, 1.0, 1.0], [2.2553740564035252e-05, 2.384185648907078e-08, 4.768371297814156e-08, 6.198874871188309e-07, 5.218302248977125e-05, 2.384185648907078e-08, 2.384185648907078e-08, 8.12366051832214e-05, 1.3660986041941214e-05, 8.231570245698094e-05, 7.152556236178498e-08, 3.3378574926246074e-07, 0.0, 0.09465181082487106, 1.9525530660757795e-05, 1.4781896879867418e-06, 0.00020034503540955484, 2.384185648907078e-08, 0.0, 0.013891622424125671, 3.568848114809953e-05, 5.3114596084924415e-05, 4.2915317521874385e-07, 1.6689295989635866e-07, 5.245204874881892e-07, 0.15256179869174957, 7.68752142903395e-05, 0.0067281401716172695, 2.8848521651525516e-06, 2.384185648907078e-08], [1.0, 1.0, 1.0, 1.0, 1.0, 1.0, 1.0, 1.0, 1.0, 1.0, 1.0, 1.0, 1.0, 1.0, 1.0, 1.0, 1.0, 1.0, 1.0, 1.0, 1.0, 1.0, 1.0, 1.0, 1.0, 0.800000011920929, 1.0, 1.0, 1.0, 1.0]])\n"
          ]
        }
      ],
      "source": [
        "# model training\n",
        "history = model.fit( \n",
        "            train_generator,\n",
        "            steps_per_epoch = 5 ,\n",
        "            epochs = 30,\n",
        "            validation_data = val_generator,\n",
        "            validation_steps = 1,\n",
        "            verbose = 1\n",
        ")\n",
        "\n",
        "# print(result)\n",
        "print(history.history.keys())\n",
        "print((history.history.values()))"
      ]
    },
    {
      "cell_type": "code",
      "execution_count": 11,
      "metadata": {
        "colab": {
          "base_uri": "https://localhost:8080/",
          "height": 545
        },
        "id": "nWsAKoILd0GT",
        "outputId": "ae46dcda-2c6f-4f1e-dd29-ecd33cadad67"
      },
      "outputs": [
        {
          "data": {
            "image/png": "[encoded data removed]",
            "text/plain": [
              "<Figure size 432x288 with 1 Axes>"
            ]
          },
          "metadata": {
            "needs_background": "light"
          },
          "output_type": "display_data"
        },
        {
          "data": {
            "image/png": "[encoded data removed]",
            "text/plain": [
              "<Figure size 432x288 with 1 Axes>"
            ]
          },
          "metadata": {
            "needs_background": "light"
          },
          "output_type": "display_data"
        }
      ],
      "source": [
        "# grafik akurasi\n",
        "\n",
        "%matplotlib inline\n",
        "\n",
        "import matplotlib.image as mpimg\n",
        "import matplotlib.pyplot as plt\n",
        "\n",
        "acc = history.history['accuracy']\n",
        "val_acc = history.history['val_accuracy']\n",
        "loss = history.history['loss']\n",
        "val_loss = history.history['val_loss']\n",
        "\n",
        "epochs = range(len(acc))\n",
        "\n",
        "plt.plot(epochs, acc, 'r', label = 'Training Accuracy')\n",
        "plt.plot(epochs, val_acc, 'b', label = 'Validation Accuracy')\n",
        "plt.title('Trainign and Validation Accuracy')\n",
        "plt.legend(loc = 'best')\n",
        "plt.show()\n",
        "\n",
        "plt.plot(epochs, loss, 'r', label = 'Training Loss')\n",
        "plt.plot(epochs, val_loss, 'b', label = 'Validation Loss')\n",
        "plt.title('Trainign and Validation Loss')\n",
        "plt.legend(loc = 'best')\n",
        "plt.show()\n"
      ]
    }
  ],
  "metadata": {
    "colab": {
      "name": "trial 3",
      "provenance": []
    },
    "kernelspec": {
      "display_name": "Python 3",
      "name": "python3"
    },
    "language_info": {
      "codemirror_mode": {
        "name": "ipython",
        "version": 3
      },
      "file_extension": ".py",
      "mimetype": "text/x-python",
      "name": "python",
      "nbconvert_exporter": "python",
      "pygments_lexer": "ipython3",
      "version": "3.10.2"
    }
  },
  "nbformat": 4,
  "nbformat_minor": 0
}
