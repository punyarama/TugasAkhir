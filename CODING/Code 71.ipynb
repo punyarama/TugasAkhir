{
  "cells": [
    {
      "cell_type": "code",
      "execution_count": 1,
      "metadata": {
        "colab": {
          "base_uri": "https://localhost:8080/",
          "height": 0
        },
        "id": "91OaXBVb4NcS",
        "outputId": "f3e0f888-8f2d-40d7-bda6-9c87cf062a7d"
      },
      "outputs": [],
      "source": [
        "import os\n",
        "from PIL import Image\n",
        "\n",
        "base_dir = ('D:\\KULIAH\\Skripsi\\DATASET\\Warung Botol')"
      ]
    },
    {
      "cell_type": "code",
      "execution_count": 2,
      "metadata": {
        "id": "o44FEQXo4xHe"
      },
      "outputs": [],
      "source": [
        "# menentukan direktori\n",
        "train_dir = os.path.join(base_dir, 'train')\n",
        "validation_dir = os.path.join(base_dir, 'validasi')"
      ]
    },
    {
      "cell_type": "code",
      "execution_count": 3,
      "metadata": {
        "colab": {
          "base_uri": "https://localhost:8080/",
          "height": 0
        },
        "id": "ezhebQCz435U",
        "outputId": "a2d14076-b8c1-4812-8a77-ff79f9095797"
      },
      "outputs": [
        {
          "name": "stdout",
          "output_type": "stream",
          "text": [
            "Jumlah Data Train Tiap Kelas\n",
            "jumlah gambar train PET : 77\n",
            "jumlah gambar train HDPE : 75\n"
          ]
        }
      ],
      "source": [
        "# menentukan direktori isi folder training\n",
        "\n",
        "PET_train_dir = os.path.join(train_dir, 'PET')\n",
        "HDPE_train_dir = os.path.join(train_dir, 'HDPE')\n",
        "\n",
        "print(\"Jumlah Data Train Tiap Kelas\")\n",
        "print('jumlah gambar train PET :', len(os.listdir(PET_train_dir)))\n",
        "print('jumlah gambar train HDPE :', len(os.listdir(HDPE_train_dir)))"
      ]
    },
    {
      "cell_type": "code",
      "execution_count": 4,
      "metadata": {
        "colab": {
          "base_uri": "https://localhost:8080/",
          "height": 0
        },
        "id": "B2LHx4hv45Om",
        "outputId": "ec736886-dc79-44d9-ecdb-824350632c44"
      },
      "outputs": [
        {
          "name": "stdout",
          "output_type": "stream",
          "text": [
            "Jumlah Data Validasi Tiap Kelas\n",
            "jumlah gambar validasi PET : 18\n",
            "jumlah gambar validasi HDPE : 13\n"
          ]
        }
      ],
      "source": [
        "# menentukan direktori isi folder validasi\n",
        "PET_val_dir = os.path.join(validation_dir, 'PET')\n",
        "HDPE_val_dir = os.path.join(validation_dir, 'HDPE')\n",
        "\n",
        "print(\"Jumlah Data Validasi Tiap Kelas\")\n",
        "print('jumlah gambar validasi PET :', len(os.listdir(PET_val_dir)))\n",
        "print('jumlah gambar validasi HDPE :', len(os.listdir(HDPE_val_dir)))"
      ]
    },
    {
      "cell_type": "code",
      "execution_count": 5,
      "metadata": {
        "id": "MViyrg-_48ZT"
      },
      "outputs": [],
      "source": [
        "# preprocessing\n",
        "\n",
        "import tensorflow as tf\n",
        "from tensorflow.keras.optimizers import Adam\n",
        "from tensorflow.keras.preprocessing.image import ImageDataGenerator\n",
        "\n",
        "train_datagen = ImageDataGenerator(\n",
        "                  rescale = 1/64,\n",
        "                  rotation_range = 15,\n",
        "                  horizontal_flip = True,\n",
        "                  shear_range = 0.2,\n",
        "                  fill_mode = 'nearest',\n",
        "                  width_shift_range = 0.1,\n",
        "                  height_shift_range = 0.3,\n",
        "                  zoom_range = 0.4\n",
        ")\n",
        "\n",
        "val_datagen = ImageDataGenerator(\n",
        "                  rescale = 1/64,\n",
        "                  rotation_range = 15,\n",
        "                  horizontal_flip = True,\n",
        "                  shear_range = 0.2,\n",
        "                  fill_mode = 'nearest',\n",
        "                  width_shift_range = 0.1,\n",
        "                  height_shift_range = 0.3,\n",
        "                  zoom_range = 0.4\n",
        ")\n",
        " "
      ]
    },
    {
      "cell_type": "code",
      "execution_count": 6,
      "metadata": {
        "colab": {
          "base_uri": "https://localhost:8080/",
          "height": 0
        },
        "id": "MNZAmpzI5BnI",
        "outputId": "cc60d92f-47f7-4bad-aefa-9219dda3731e"
      },
      "outputs": [
        {
          "name": "stdout",
          "output_type": "stream",
          "text": [
            "Found 152 images belonging to 2 classes.\n",
            "Found 31 images belonging to 2 classes.\n"
          ]
        }
      ],
      "source": [
        "# target\n",
        "\n",
        "train_generator = train_datagen.flow_from_directory(\n",
        "    train_dir,\n",
        "    target_size = (150, 150),\n",
        "    batch_size = 5,\n",
        "    class_mode = 'categorical'\n",
        ")\n",
        "\n",
        "val_generator = val_datagen.flow_from_directory(\n",
        "    validation_dir,\n",
        "    target_size = (150, 150),\n",
        "    batch_size = 5,\n",
        "    class_mode = 'categorical'\n",
        ")"
      ]
    },
    {
      "cell_type": "code",
      "execution_count": 7,
      "metadata": {
        "id": "_QSMdRL45Fhe"
      },
      "outputs": [],
      "source": [
        "# model CNN\n",
        "\n",
        "model = tf.keras.models.Sequential([\n",
        "          tf.keras.layers.Conv2D(16,(4,4), activation = 'relu', input_shape = (150,150,3)),\n",
        "          tf.keras.layers.MaxPooling2D(3,3),\n",
        "          tf.keras.layers.Conv2D(16,(4,4), activation = 'relu'),\n",
        "          tf.keras.layers.MaxPooling2D(3,3),\n",
        "          tf.keras.layers.Conv2D(16,(4,4), activation = 'relu'),\n",
        "          tf.keras.layers.MaxPooling2D(3,3),\n",
        "          tf.keras.layers.Flatten(),\n",
        "          tf.keras.layers.Dense(256,activation = 'relu'),\n",
        "          tf.keras.layers.Dropout(0.5, seed = 128),\n",
        "          tf.keras.layers.Dense(2,activation = 'sigmoid'),\n",
        "])"
      ]
    },
    {
      "cell_type": "code",
      "execution_count": 8,
      "metadata": {
        "colab": {
          "base_uri": "https://localhost:8080/",
          "height": 0
        },
        "id": "jXw8HWTg5IcI",
        "outputId": "aa0c4012-ef81-414b-b4a8-46f5a3331050"
      },
      "outputs": [
        {
          "name": "stdout",
          "output_type": "stream",
          "text": [
            "Model: \"sequential\"\n",
            "_________________________________________________________________\n",
            " Layer (type)                Output Shape              Param #   \n",
            "=================================================================\n",
            " conv2d (Conv2D)             (None, 147, 147, 16)      784       \n",
            "                                                                 \n",
            " max_pooling2d (MaxPooling2D  (None, 49, 49, 16)       0         \n",
            " )                                                               \n",
            "                                                                 \n",
            " conv2d_1 (Conv2D)           (None, 46, 46, 16)        4112      \n",
            "                                                                 \n",
            " max_pooling2d_1 (MaxPooling  (None, 15, 15, 16)       0         \n",
            " 2D)                                                             \n",
            "                                                                 \n",
            " conv2d_2 (Conv2D)           (None, 12, 12, 16)        4112      \n",
            "                                                                 \n",
            " max_pooling2d_2 (MaxPooling  (None, 4, 4, 16)         0         \n",
            " 2D)                                                             \n",
            "                                                                 \n",
            " flatten (Flatten)           (None, 256)               0         \n",
            "                                                                 \n",
            " dense (Dense)               (None, 256)               65792     \n",
            "                                                                 \n",
            " dropout (Dropout)           (None, 256)               0         \n",
            "                                                                 \n",
            " dense_1 (Dense)             (None, 2)                 514       \n",
            "                                                                 \n",
            "=================================================================\n",
            "Total params: 75,314\n",
            "Trainable params: 75,314\n",
            "Non-trainable params: 0\n",
            "_________________________________________________________________\n"
          ]
        }
      ],
      "source": [
        "# ringkasan model CNN\n",
        "\n",
        "model.summary()"
      ]
    },
    {
      "cell_type": "code",
      "execution_count": 9,
      "metadata": {
        "id": "FvFvXonN5LI1"
      },
      "outputs": [],
      "source": [
        "# compile model\n",
        "\n",
        "model.compile(loss = 'categorical_crossentropy',\n",
        "              optimizer = 'Adam',\n",
        "              metrics = ['accuracy'])"
      ]
    },
    {
      "cell_type": "code",
      "execution_count": 21,
      "metadata": {
        "colab": {
          "base_uri": "https://localhost:8080/",
          "height": 0
        },
        "id": "Xwewi5CncOgI",
        "outputId": "3d7691bd-4151-4d23-af1b-e118d8033909"
      },
      "outputs": [
        {
          "name": "stdout",
          "output_type": "stream",
          "text": [
            "Epoch 1/30\n",
            "5/5 [==============================] - 4s 889ms/step - loss: 9.8999e-04 - accuracy: 1.0000 - val_loss: 4.6188e-04 - val_accuracy: 1.0000\n",
            "Epoch 2/30\n",
            "5/5 [==============================] - 4s 843ms/step - loss: 0.0012 - accuracy: 1.0000 - val_loss: 0.3255 - val_accuracy: 0.8000\n",
            "Epoch 3/30\n",
            "5/5 [==============================] - 4s 764ms/step - loss: 0.0202 - accuracy: 1.0000 - val_loss: 0.0031 - val_accuracy: 1.0000\n",
            "Epoch 4/30\n",
            "5/5 [==============================] - 4s 722ms/step - loss: 0.1144 - accuracy: 0.9545 - val_loss: 7.0038e-05 - val_accuracy: 1.0000\n",
            "Epoch 5/30\n",
            "5/5 [==============================] - 5s 1s/step - loss: 0.0747 - accuracy: 0.9545 - val_loss: 2.5861e-04 - val_accuracy: 1.0000\n",
            "Epoch 6/30\n",
            "5/5 [==============================] - 4s 909ms/step - loss: 0.0080 - accuracy: 1.0000 - val_loss: 8.6989e-05 - val_accuracy: 1.0000\n",
            "Epoch 7/30\n",
            "5/5 [==============================] - 4s 861ms/step - loss: 0.0398 - accuracy: 1.0000 - val_loss: 0.0351 - val_accuracy: 1.0000\n",
            "Epoch 8/30\n",
            "5/5 [==============================] - 4s 903ms/step - loss: 0.0147 - accuracy: 1.0000 - val_loss: 0.0047 - val_accuracy: 1.0000\n",
            "Epoch 9/30\n",
            "5/5 [==============================] - 4s 733ms/step - loss: 0.0028 - accuracy: 1.0000 - val_loss: 0.0483 - val_accuracy: 1.0000\n",
            "Epoch 10/30\n",
            "5/5 [==============================] - 4s 766ms/step - loss: 0.0076 - accuracy: 1.0000 - val_loss: 0.0161 - val_accuracy: 1.0000\n",
            "Epoch 11/30\n",
            "5/5 [==============================] - 4s 923ms/step - loss: 0.0173 - accuracy: 1.0000 - val_loss: 0.0076 - val_accuracy: 1.0000\n",
            "Epoch 12/30\n",
            "5/5 [==============================] - 5s 929ms/step - loss: 0.0041 - accuracy: 1.0000 - val_loss: 7.6360e-05 - val_accuracy: 1.0000\n",
            "Epoch 13/30\n",
            "5/5 [==============================] - 4s 835ms/step - loss: 0.0069 - accuracy: 1.0000 - val_loss: 0.0071 - val_accuracy: 1.0000\n",
            "Epoch 14/30\n",
            "5/5 [==============================] - 4s 823ms/step - loss: 0.0023 - accuracy: 1.0000 - val_loss: 1.6928e-06 - val_accuracy: 1.0000\n",
            "Epoch 15/30\n",
            "5/5 [==============================] - 4s 957ms/step - loss: 1.3957e-04 - accuracy: 1.0000 - val_loss: 6.1340e-05 - val_accuracy: 1.0000\n",
            "Epoch 16/30\n",
            "5/5 [==============================] - 4s 853ms/step - loss: 0.0011 - accuracy: 1.0000 - val_loss: 6.6151e-05 - val_accuracy: 1.0000\n",
            "Epoch 17/30\n",
            "5/5 [==============================] - 5s 990ms/step - loss: 0.0023 - accuracy: 1.0000 - val_loss: 2.3072e-04 - val_accuracy: 1.0000\n",
            "Epoch 18/30\n",
            "5/5 [==============================] - 4s 878ms/step - loss: 0.0124 - accuracy: 1.0000 - val_loss: 0.0019 - val_accuracy: 1.0000\n",
            "Epoch 19/30\n",
            "5/5 [==============================] - 4s 895ms/step - loss: 2.6052e-04 - accuracy: 1.0000 - val_loss: 4.7684e-07 - val_accuracy: 1.0000\n",
            "Epoch 20/30\n",
            "5/5 [==============================] - 4s 768ms/step - loss: 0.0031 - accuracy: 1.0000 - val_loss: 2.3984e-05 - val_accuracy: 1.0000\n",
            "Epoch 21/30\n",
            "5/5 [==============================] - 3s 713ms/step - loss: 0.0014 - accuracy: 1.0000 - val_loss: 0.0044 - val_accuracy: 1.0000\n",
            "Epoch 22/30\n",
            "5/5 [==============================] - 3s 674ms/step - loss: 0.0080 - accuracy: 1.0000 - val_loss: 0.0123 - val_accuracy: 1.0000\n",
            "Epoch 23/30\n",
            "5/5 [==============================] - 3s 704ms/step - loss: 4.4411e-04 - accuracy: 1.0000 - val_loss: 0.0038 - val_accuracy: 1.0000\n",
            "Epoch 24/30\n",
            "5/5 [==============================] - 4s 794ms/step - loss: 0.0048 - accuracy: 1.0000 - val_loss: 1.2032e-04 - val_accuracy: 1.0000\n",
            "Epoch 25/30\n",
            "5/5 [==============================] - 4s 769ms/step - loss: 5.3593e-04 - accuracy: 1.0000 - val_loss: 0.0094 - val_accuracy: 1.0000\n",
            "Epoch 26/30\n",
            "5/5 [==============================] - 4s 903ms/step - loss: 0.0262 - accuracy: 1.0000 - val_loss: 1.1206e-06 - val_accuracy: 1.0000\n",
            "Epoch 27/30\n",
            "5/5 [==============================] - 4s 780ms/step - loss: 0.0232 - accuracy: 1.0000 - val_loss: 0.0599 - val_accuracy: 1.0000\n",
            "Epoch 28/30\n",
            "5/5 [==============================] - 4s 858ms/step - loss: 0.0059 - accuracy: 1.0000 - val_loss: 0.3926 - val_accuracy: 0.8000\n",
            "Epoch 29/30\n",
            "5/5 [==============================] - 4s 914ms/step - loss: 0.0198 - accuracy: 1.0000 - val_loss: 2.0145e-04 - val_accuracy: 1.0000\n",
            "Epoch 30/30\n",
            "5/5 [==============================] - 4s 904ms/step - loss: 0.1023 - accuracy: 0.9600 - val_loss: 0.0044 - val_accuracy: 1.0000\n",
            "dict_keys(['loss', 'accuracy', 'val_loss', 'val_accuracy'])\n",
            "dict_values([[0.000989992287941277, 0.0012451679212972522, 0.020198380574584007, 0.11436589062213898, 0.07465214282274246, 0.00800379179418087, 0.03978447616100311, 0.014705350622534752, 0.0028345019090920687, 0.007563375402241945, 0.017329871654510498, 0.004068122711032629, 0.006912666372954845, 0.002317872131243348, 0.00013956695329397917, 0.001054537482559681, 0.0023199492134153843, 0.012414641678333282, 0.0002605179906822741, 0.0030901343561708927, 0.0014323219656944275, 0.008036227896809578, 0.0004441149649210274, 0.004803560208529234, 0.0005359338247217238, 0.026180405169725418, 0.02317732572555542, 0.005948820151388645, 0.019843814894557, 0.10230442136526108], [1.0, 1.0, 1.0, 0.9545454382896423, 0.9545454382896423, 1.0, 1.0, 1.0, 1.0, 1.0, 1.0, 1.0, 1.0, 1.0, 1.0, 1.0, 1.0, 1.0, 1.0, 1.0, 1.0, 1.0, 1.0, 1.0, 1.0, 1.0, 1.0, 1.0, 1.0, 0.9599999785423279], [0.0004618826205842197, 0.3254607319831848, 0.0031086450908333063, 7.003840437391773e-05, 0.00025861134054139256, 8.698929741512984e-05, 0.03505893796682358, 0.004673204384744167, 0.048310644924640656, 0.016080286353826523, 0.007595706731081009, 7.63595598982647e-05, 0.007063582539558411, 1.6927676824707305e-06, 6.134008435765281e-05, 6.615128222620115e-05, 0.00023072406474966556, 0.0019387705251574516, 4.768368739860307e-07, 2.3984213839867152e-05, 0.0044029331766068935, 0.012345005758106709, 0.003832974238321185, 0.0001203175270347856, 0.009377076290547848, 1.120564320444828e-06, 0.059875912964344025, 0.39259791374206543, 0.00020144795416854322, 0.00442015565931797], [1.0, 0.800000011920929, 1.0, 1.0, 1.0, 1.0, 1.0, 1.0, 1.0, 1.0, 1.0, 1.0, 1.0, 1.0, 1.0, 1.0, 1.0, 1.0, 1.0, 1.0, 1.0, 1.0, 1.0, 1.0, 1.0, 1.0, 1.0, 0.800000011920929, 1.0, 1.0]])\n"
          ]
        }
      ],
      "source": [
        "# model training\n",
        "history = model.fit( \n",
        "            train_generator,\n",
        "            steps_per_epoch = 5 ,\n",
        "            epochs = 30,\n",
        "            validation_data = val_generator,\n",
        "            validation_steps = 1,\n",
        "            verbose = 1\n",
        ")\n",
        "\n",
        "# print(result)\n",
        "print(history.history.keys())\n",
        "print((history.history.values()))"
      ]
    },
    {
      "cell_type": "code",
      "execution_count": 11,
      "metadata": {
        "colab": {
          "base_uri": "https://localhost:8080/",
          "height": 545
        },
        "id": "nWsAKoILd0GT",
        "outputId": "ae46dcda-2c6f-4f1e-dd29-ecd33cadad67"
      },
      "outputs": [
        {
          "data": {
            "image/png": "[encoded data removed]",
            "text/plain": [
              "<Figure size 432x288 with 1 Axes>"
            ]
          },
          "metadata": {
            "needs_background": "light"
          },
          "output_type": "display_data"
        },
        {
          "data": {
            "image/png": "[encoded data removed]",
            "text/plain": [
              "<Figure size 432x288 with 1 Axes>"
            ]
          },
          "metadata": {
            "needs_background": "light"
          },
          "output_type": "display_data"
        }
      ],
      "source": [
        "# grafik akurasi\n",
        "\n",
        "%matplotlib inline\n",
        "\n",
        "import matplotlib.image as mpimg\n",
        "import matplotlib.pyplot as plt\n",
        "\n",
        "acc = history.history['accuracy']\n",
        "val_acc = history.history['val_accuracy']\n",
        "loss = history.history['loss']\n",
        "val_loss = history.history['val_loss']\n",
        "\n",
        "epochs = range(len(acc))\n",
        "\n",
        "plt.plot(epochs, acc, 'r', label = 'Training Accuracy')\n",
        "plt.plot(epochs, val_acc, 'b', label = 'Validation Accuracy')\n",
        "plt.title('Trainign and Validation Accuracy')\n",
        "plt.legend(loc = 'best')\n",
        "plt.show()\n",
        "\n",
        "plt.plot(epochs, loss, 'r', label = 'Training Loss')\n",
        "plt.plot(epochs, val_loss, 'b', label = 'Validation Loss')\n",
        "plt.title('Trainign and Validation Loss')\n",
        "plt.legend(loc = 'best')\n",
        "plt.show()\n"
      ]
    }
  ],
  "metadata": {
    "colab": {
      "name": "trial 3",
      "provenance": []
    },
    "kernelspec": {
      "display_name": "Python 3",
      "name": "python3"
    },
    "language_info": {
      "codemirror_mode": {
        "name": "ipython",
        "version": 3
      },
      "file_extension": ".py",
      "mimetype": "text/x-python",
      "name": "python",
      "nbconvert_exporter": "python",
      "pygments_lexer": "ipython3",
      "version": "3.10.2"
    }
  },
  "nbformat": 4,
  "nbformat_minor": 0
}
