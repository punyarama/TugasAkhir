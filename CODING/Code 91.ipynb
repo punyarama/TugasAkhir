{
  "cells": [
    {
      "cell_type": "code",
      "execution_count": 1,
      "metadata": {
        "colab": {
          "base_uri": "https://localhost:8080/",
          "height": 0
        },
        "id": "91OaXBVb4NcS",
        "outputId": "f3e0f888-8f2d-40d7-bda6-9c87cf062a7d"
      },
      "outputs": [],
      "source": [
        "import os\n",
        "from PIL import Image\n",
        "\n",
        "base_dir = ('D:\\KULIAH\\Skripsi\\DATASET\\Warung Botol')"
      ]
    },
    {
      "cell_type": "code",
      "execution_count": 2,
      "metadata": {
        "id": "o44FEQXo4xHe"
      },
      "outputs": [],
      "source": [
        "# menentukan direktori\n",
        "train_dir = os.path.join(base_dir, 'train_multi')\n",
        "validation_dir = os.path.join(base_dir, 'validasi_multi')"
      ]
    },
    {
      "cell_type": "code",
      "execution_count": 3,
      "metadata": {
        "colab": {
          "base_uri": "https://localhost:8080/",
          "height": 0
        },
        "id": "ezhebQCz435U",
        "outputId": "a2d14076-b8c1-4812-8a77-ff79f9095797"
      },
      "outputs": [
        {
          "name": "stdout",
          "output_type": "stream",
          "text": [
            "Jumlah Data Train Tiap Kelas\n",
            "jumlah gambar train tutup : 76\n",
            "jumlah gambar train kotor : 76\n",
            "jumlah gambar train remuk : 76\n"
          ]
        }
      ],
      "source": [
        "# menentukan direktori isi folder training\n",
        "\n",
        "tutup_train_dir = os.path.join(train_dir, 'tutup')\n",
        "kotor_train_dir = os.path.join(train_dir, 'kotor')\n",
        "remuk_train_dir = os.path.join(train_dir, 'remuk')\n",
        "\n",
        "print(\"Jumlah Data Train Tiap Kelas\")\n",
        "print('jumlah gambar train tutup :', len(os.listdir(tutup_train_dir)))\n",
        "print('jumlah gambar train kotor :', len(os.listdir(kotor_train_dir)))\n",
        "print('jumlah gambar train remuk :', len(os.listdir(remuk_train_dir)))"
      ]
    },
    {
      "cell_type": "code",
      "execution_count": 4,
      "metadata": {
        "colab": {
          "base_uri": "https://localhost:8080/",
          "height": 0
        },
        "id": "B2LHx4hv45Om",
        "outputId": "ec736886-dc79-44d9-ecdb-824350632c44"
      },
      "outputs": [
        {
          "name": "stdout",
          "output_type": "stream",
          "text": [
            "Jumlah Data Validasi Tiap Kelas\n",
            "jumlah gambar validasi tutup : 16\n",
            "jumlah gambar validasi kotor : 18\n",
            "jumlah gambar validasi remuk : 18\n"
          ]
        }
      ],
      "source": [
        "# menentukan direktori isi folder validasi\n",
        "tutup_val_dir = os.path.join(validation_dir, 'tutup')\n",
        "kotor_val_dir = os.path.join(validation_dir, 'kotor')\n",
        "remuk_val_dir = os.path.join(validation_dir, 'remuk')\n",
        "\n",
        "print(\"Jumlah Data Validasi Tiap Kelas\")\n",
        "print('jumlah gambar validasi tutup :', len(os.listdir(tutup_val_dir)))\n",
        "print('jumlah gambar validasi kotor :', len(os.listdir(kotor_val_dir)))\n",
        "print('jumlah gambar validasi remuk :', len(os.listdir(remuk_val_dir)))"
      ]
    },
    {
      "cell_type": "code",
      "execution_count": 5,
      "metadata": {
        "id": "MViyrg-_48ZT"
      },
      "outputs": [],
      "source": [
        "# preprocessing\n",
        "\n",
        "import tensorflow as tf\n",
        "from tensorflow.keras.optimizers import Adam\n",
        "from tensorflow.keras.preprocessing.image import ImageDataGenerator\n",
        "\n",
        "train_datagen = ImageDataGenerator(\n",
        "                  rescale = 1/64,\n",
        "                  rotation_range = 15,\n",
        "                  horizontal_flip = True,\n",
        "                  shear_range = 0.2,\n",
        "                  fill_mode = 'nearest',\n",
        "                  width_shift_range = 0.1,\n",
        "                  height_shift_range = 0.3,\n",
        "                  zoom_range = 0.4\n",
        ")\n",
        "\n",
        "val_datagen = ImageDataGenerator(\n",
        "                  rescale = 1/64,\n",
        "                  rotation_range = 15,\n",
        "                  horizontal_flip = True,\n",
        "                  shear_range = 0.2,\n",
        "                  fill_mode = 'nearest',\n",
        "                  width_shift_range = 0.1,\n",
        "                  height_shift_range = 0.3,\n",
        "                  zoom_range = 0.4\n",
        ")\n",
        " "
      ]
    },
    {
      "cell_type": "code",
      "execution_count": 6,
      "metadata": {
        "colab": {
          "base_uri": "https://localhost:8080/",
          "height": 0
        },
        "id": "MNZAmpzI5BnI",
        "outputId": "cc60d92f-47f7-4bad-aefa-9219dda3731e"
      },
      "outputs": [
        {
          "name": "stdout",
          "output_type": "stream",
          "text": [
            "Found 228 images belonging to 3 classes.\n",
            "Found 52 images belonging to 3 classes.\n"
          ]
        }
      ],
      "source": [
        "# target\n",
        "\n",
        "train_generator = train_datagen.flow_from_directory(\n",
        "    train_dir,\n",
        "    target_size = (150, 150),\n",
        "    batch_size = 5,\n",
        "    class_mode = 'categorical'\n",
        ")\n",
        "\n",
        "val_generator = val_datagen.flow_from_directory(\n",
        "    validation_dir,\n",
        "    target_size = (150, 150),\n",
        "    batch_size = 5,\n",
        "    class_mode = 'categorical'\n",
        ")"
      ]
    },
    {
      "cell_type": "code",
      "execution_count": 7,
      "metadata": {
        "id": "_QSMdRL45Fhe"
      },
      "outputs": [],
      "source": [
        "# model CNN\n",
        "\n",
        "model = tf.keras.models.Sequential([\n",
        "          tf.keras.layers.Conv2D(16,(4,4), activation = 'relu', input_shape = (150,150,3)),\n",
        "          tf.keras.layers.MaxPooling2D(3,3),\n",
        "          tf.keras.layers.Conv2D(16,(4,4), activation = 'relu'),\n",
        "          tf.keras.layers.MaxPooling2D(3,3),\n",
        "          tf.keras.layers.Conv2D(16,(4,4), activation = 'relu'),\n",
        "          tf.keras.layers.MaxPooling2D(3,3),\n",
        "          tf.keras.layers.Flatten(),\n",
        "          tf.keras.layers.Dense(128,activation = 'relu'),\n",
        "          tf.keras.layers.Dropout(0.5, seed = 128),\n",
        "          tf.keras.layers.Dense(3,activation = 'sigmoid'),\n",
        "])"
      ]
    },
    {
      "cell_type": "code",
      "execution_count": 8,
      "metadata": {
        "colab": {
          "base_uri": "https://localhost:8080/",
          "height": 0
        },
        "id": "jXw8HWTg5IcI",
        "outputId": "aa0c4012-ef81-414b-b4a8-46f5a3331050"
      },
      "outputs": [
        {
          "name": "stdout",
          "output_type": "stream",
          "text": [
            "Model: \"sequential\"\n",
            "_________________________________________________________________\n",
            " Layer (type)                Output Shape              Param #   \n",
            "=================================================================\n",
            " conv2d (Conv2D)             (None, 147, 147, 16)      784       \n",
            "                                                                 \n",
            " max_pooling2d (MaxPooling2D  (None, 49, 49, 16)       0         \n",
            " )                                                               \n",
            "                                                                 \n",
            " conv2d_1 (Conv2D)           (None, 46, 46, 16)        4112      \n",
            "                                                                 \n",
            " max_pooling2d_1 (MaxPooling  (None, 15, 15, 16)       0         \n",
            " 2D)                                                             \n",
            "                                                                 \n",
            " conv2d_2 (Conv2D)           (None, 12, 12, 16)        4112      \n",
            "                                                                 \n",
            " max_pooling2d_2 (MaxPooling  (None, 4, 4, 16)         0         \n",
            " 2D)                                                             \n",
            "                                                                 \n",
            " flatten (Flatten)           (None, 256)               0         \n",
            "                                                                 \n",
            " dense (Dense)               (None, 128)               32896     \n",
            "                                                                 \n",
            " dropout (Dropout)           (None, 128)               0         \n",
            "                                                                 \n",
            " dense_1 (Dense)             (None, 3)                 387       \n",
            "                                                                 \n",
            "=================================================================\n",
            "Total params: 42,291\n",
            "Trainable params: 42,291\n",
            "Non-trainable params: 0\n",
            "_________________________________________________________________\n"
          ]
        }
      ],
      "source": [
        "# ringkasan model CNN\n",
        "\n",
        "model.summary()"
      ]
    },
    {
      "cell_type": "code",
      "execution_count": 9,
      "metadata": {
        "id": "FvFvXonN5LI1"
      },
      "outputs": [],
      "source": [
        "# compile model\n",
        "\n",
        "model.compile(loss = 'categorical_crossentropy',\n",
        "              optimizer = 'Adam',\n",
        "              metrics = ['accuracy'])"
      ]
    },
    {
      "cell_type": "code",
      "execution_count": 16,
      "metadata": {
        "colab": {
          "base_uri": "https://localhost:8080/",
          "height": 0
        },
        "id": "Xwewi5CncOgI",
        "outputId": "3d7691bd-4151-4d23-af1b-e118d8033909"
      },
      "outputs": [
        {
          "name": "stdout",
          "output_type": "stream",
          "text": [
            "Epoch 1/50\n",
            "4/4 [==============================] - 6s 2s/step - loss: 0.1702 - accuracy: 0.9000 - val_loss: 0.0252 - val_accuracy: 1.0000\n",
            "Epoch 2/50\n",
            "4/4 [==============================] - 4s 1s/step - loss: 0.2125 - accuracy: 0.9000 - val_loss: 0.0568 - val_accuracy: 1.0000\n",
            "Epoch 3/50\n",
            "4/4 [==============================] - 4s 1s/step - loss: 0.2497 - accuracy: 0.9000 - val_loss: 1.9192e-05 - val_accuracy: 1.0000\n",
            "Epoch 4/50\n",
            "4/4 [==============================] - 6s 2s/step - loss: 0.1468 - accuracy: 0.9000 - val_loss: 0.0723 - val_accuracy: 1.0000\n",
            "Epoch 5/50\n",
            "4/4 [==============================] - 4s 947ms/step - loss: 0.1442 - accuracy: 0.9500 - val_loss: 0.0048 - val_accuracy: 1.0000\n",
            "Epoch 6/50\n",
            "4/4 [==============================] - 3s 988ms/step - loss: 0.3686 - accuracy: 0.8500 - val_loss: 0.1117 - val_accuracy: 1.0000\n",
            "Epoch 7/50\n",
            "4/4 [==============================] - 4s 1s/step - loss: 0.3890 - accuracy: 0.8500 - val_loss: 0.0060 - val_accuracy: 1.0000\n",
            "Epoch 8/50\n",
            "4/4 [==============================] - 4s 1s/step - loss: 0.2078 - accuracy: 0.9500 - val_loss: 0.1767 - val_accuracy: 0.8000\n",
            "Epoch 9/50\n",
            "4/4 [==============================] - 4s 1s/step - loss: 0.2210 - accuracy: 0.9000 - val_loss: 0.0349 - val_accuracy: 1.0000\n",
            "Epoch 10/50\n",
            "4/4 [==============================] - 4s 1s/step - loss: 0.1442 - accuracy: 0.9500 - val_loss: 0.0241 - val_accuracy: 1.0000\n",
            "Epoch 11/50\n",
            "4/4 [==============================] - 4s 1s/step - loss: 0.0496 - accuracy: 1.0000 - val_loss: 0.0184 - val_accuracy: 1.0000\n",
            "Epoch 12/50\n",
            "4/4 [==============================] - 4s 1s/step - loss: 0.2770 - accuracy: 0.9500 - val_loss: 0.0184 - val_accuracy: 1.0000\n",
            "Epoch 13/50\n",
            "4/4 [==============================] - 5s 1s/step - loss: 0.4248 - accuracy: 0.9000 - val_loss: 0.0247 - val_accuracy: 1.0000\n",
            "Epoch 14/50\n",
            "4/4 [==============================] - 6s 2s/step - loss: 0.0700 - accuracy: 1.0000 - val_loss: 0.0491 - val_accuracy: 1.0000\n",
            "Epoch 15/50\n",
            "4/4 [==============================] - 6s 2s/step - loss: 0.1091 - accuracy: 0.9500 - val_loss: 0.0074 - val_accuracy: 1.0000\n",
            "Epoch 16/50\n",
            "4/4 [==============================] - 4s 1s/step - loss: 0.1133 - accuracy: 0.9500 - val_loss: 0.0360 - val_accuracy: 1.0000\n",
            "Epoch 17/50\n",
            "4/4 [==============================] - 5s 1s/step - loss: 0.4244 - accuracy: 0.7500 - val_loss: 0.0098 - val_accuracy: 1.0000\n",
            "Epoch 18/50\n",
            "4/4 [==============================] - 4s 1s/step - loss: 0.0987 - accuracy: 0.9500 - val_loss: 0.2484 - val_accuracy: 0.8000\n",
            "Epoch 19/50\n",
            "4/4 [==============================] - 3s 928ms/step - loss: 0.2008 - accuracy: 0.9000 - val_loss: 0.0653 - val_accuracy: 1.0000\n",
            "Epoch 20/50\n",
            "4/4 [==============================] - 5s 1s/step - loss: 0.0914 - accuracy: 0.9500 - val_loss: 0.0182 - val_accuracy: 1.0000\n",
            "Epoch 21/50\n",
            "4/4 [==============================] - 5s 1s/step - loss: 0.0990 - accuracy: 0.9500 - val_loss: 0.0323 - val_accuracy: 1.0000\n",
            "Epoch 22/50\n",
            "4/4 [==============================] - 6s 1s/step - loss: 0.2883 - accuracy: 0.8889 - val_loss: 0.0184 - val_accuracy: 1.0000\n",
            "Epoch 23/50\n",
            "4/4 [==============================] - 5s 1s/step - loss: 0.3932 - accuracy: 0.8500 - val_loss: 0.0052 - val_accuracy: 1.0000\n",
            "Epoch 24/50\n",
            "4/4 [==============================] - 5s 1s/step - loss: 0.0640 - accuracy: 1.0000 - val_loss: 0.0566 - val_accuracy: 1.0000\n",
            "Epoch 25/50\n",
            "4/4 [==============================] - 5s 2s/step - loss: 0.0980 - accuracy: 0.9500 - val_loss: 0.1136 - val_accuracy: 1.0000\n",
            "Epoch 26/50\n",
            "4/4 [==============================] - 4s 1s/step - loss: 0.4070 - accuracy: 0.8500 - val_loss: 0.0071 - val_accuracy: 1.0000\n",
            "Epoch 27/50\n",
            "4/4 [==============================] - 5s 1s/step - loss: 0.1616 - accuracy: 0.9500 - val_loss: 0.0543 - val_accuracy: 1.0000\n",
            "Epoch 28/50\n",
            "4/4 [==============================] - 5s 1s/step - loss: 0.1926 - accuracy: 0.9000 - val_loss: 0.2071 - val_accuracy: 0.8000\n",
            "Epoch 29/50\n",
            "4/4 [==============================] - 4s 1s/step - loss: 0.4361 - accuracy: 0.7778 - val_loss: 0.6611 - val_accuracy: 0.8000\n",
            "Epoch 30/50\n",
            "4/4 [==============================] - 4s 1s/step - loss: 0.2266 - accuracy: 0.9500 - val_loss: 0.0417 - val_accuracy: 1.0000\n",
            "Epoch 31/50\n",
            "4/4 [==============================] - 5s 2s/step - loss: 0.2149 - accuracy: 0.8500 - val_loss: 0.4237 - val_accuracy: 0.8000\n",
            "Epoch 32/50\n",
            "4/4 [==============================] - 5s 1s/step - loss: 0.1201 - accuracy: 1.0000 - val_loss: 0.0892 - val_accuracy: 1.0000\n",
            "Epoch 33/50\n",
            "4/4 [==============================] - 4s 1s/step - loss: 0.2393 - accuracy: 0.9000 - val_loss: 0.0846 - val_accuracy: 1.0000\n",
            "Epoch 34/50\n",
            "4/4 [==============================] - 5s 1s/step - loss: 0.2548 - accuracy: 0.8500 - val_loss: 2.4675e-05 - val_accuracy: 1.0000\n",
            "Epoch 35/50\n",
            "4/4 [==============================] - 5s 1s/step - loss: 0.2116 - accuracy: 0.9000 - val_loss: 0.0359 - val_accuracy: 1.0000\n",
            "Epoch 36/50\n",
            "4/4 [==============================] - 4s 1s/step - loss: 0.1456 - accuracy: 0.9500 - val_loss: 0.1080 - val_accuracy: 1.0000\n",
            "Epoch 37/50\n",
            "4/4 [==============================] - 4s 1s/step - loss: 0.6214 - accuracy: 0.7222 - val_loss: 0.0738 - val_accuracy: 1.0000\n",
            "Epoch 38/50\n",
            "4/4 [==============================] - 6s 2s/step - loss: 0.1958 - accuracy: 0.9000 - val_loss: 0.1847 - val_accuracy: 0.8000\n",
            "Epoch 39/50\n",
            "4/4 [==============================] - 5s 1s/step - loss: 0.3369 - accuracy: 0.8500 - val_loss: 0.0129 - val_accuracy: 1.0000\n",
            "Epoch 40/50\n",
            "4/4 [==============================] - 5s 1s/step - loss: 0.4855 - accuracy: 0.8500 - val_loss: 0.1226 - val_accuracy: 1.0000\n",
            "Epoch 41/50\n",
            "4/4 [==============================] - 4s 1s/step - loss: 0.1046 - accuracy: 0.9500 - val_loss: 0.1531 - val_accuracy: 1.0000\n",
            "Epoch 42/50\n",
            "4/4 [==============================] - 5s 1s/step - loss: 0.4405 - accuracy: 0.8500 - val_loss: 0.5968 - val_accuracy: 0.8000\n",
            "Epoch 43/50\n",
            "4/4 [==============================] - 4s 1s/step - loss: 0.3266 - accuracy: 0.9000 - val_loss: 1.3726 - val_accuracy: 0.4000\n",
            "Epoch 44/50\n",
            "4/4 [==============================] - 4s 1s/step - loss: 0.4330 - accuracy: 0.7500 - val_loss: 9.2774e-05 - val_accuracy: 1.0000\n",
            "Epoch 45/50\n",
            "4/4 [==============================] - 5s 1s/step - loss: 0.2593 - accuracy: 0.9500 - val_loss: 0.2139 - val_accuracy: 1.0000\n",
            "Epoch 46/50\n",
            "4/4 [==============================] - 4s 1s/step - loss: 0.2378 - accuracy: 0.7778 - val_loss: 0.0939 - val_accuracy: 1.0000\n",
            "Epoch 47/50\n",
            "4/4 [==============================] - 4s 1s/step - loss: 0.1971 - accuracy: 0.9500 - val_loss: 0.0424 - val_accuracy: 1.0000\n",
            "Epoch 48/50\n",
            "4/4 [==============================] - 4s 1s/step - loss: 0.1158 - accuracy: 1.0000 - val_loss: 0.0275 - val_accuracy: 1.0000\n",
            "Epoch 49/50\n",
            "4/4 [==============================] - 4s 1s/step - loss: 0.1298 - accuracy: 0.9500 - val_loss: 0.0975 - val_accuracy: 1.0000\n",
            "Epoch 50/50\n",
            "4/4 [==============================] - 5s 1s/step - loss: 0.3469 - accuracy: 0.9000 - val_loss: 0.0200 - val_accuracy: 1.0000\n",
            "dict_keys(['loss', 'accuracy', 'val_loss', 'val_accuracy'])\n",
            "dict_values([[0.17020167410373688, 0.2125207930803299, 0.2497190535068512, 0.1467823088169098, 0.1442299783229828, 0.3686099052429199, 0.3889795243740082, 0.20778699219226837, 0.22099795937538147, 0.14419664442539215, 0.049569543451070786, 0.2770138680934906, 0.42478376626968384, 0.06996896862983704, 0.10905618965625763, 0.11329273134469986, 0.4243752360343933, 0.09874610602855682, 0.2007889300584793, 0.09142424911260605, 0.09897999465465546, 0.28827932476997375, 0.3932052552700043, 0.06396128237247467, 0.09801041334867477, 0.4070141315460205, 0.16156023740768433, 0.19259057939052582, 0.4360668361186981, 0.2265852689743042, 0.21493563055992126, 0.12010171264410019, 0.23927660286426544, 0.25480520725250244, 0.21156100928783417, 0.14558197557926178, 0.6214196681976318, 0.19581466913223267, 0.3368813693523407, 0.48547855019569397, 0.10458236932754517, 0.4405394196510315, 0.3265853524208069, 0.43296656012535095, 0.2592513859272003, 0.2378324419260025, 0.19706711173057556, 0.11580906063318253, 0.1298094540834427, 0.34694695472717285], [0.8999999761581421, 0.8999999761581421, 0.8999999761581421, 0.8999999761581421, 0.949999988079071, 0.8500000238418579, 0.8500000238418579, 0.949999988079071, 0.8999999761581421, 0.949999988079071, 1.0, 0.949999988079071, 0.8999999761581421, 1.0, 0.949999988079071, 0.949999988079071, 0.75, 0.949999988079071, 0.8999999761581421, 0.949999988079071, 0.949999988079071, 0.8888888955116272, 0.8500000238418579, 1.0, 0.949999988079071, 0.8500000238418579, 0.949999988079071, 0.8999999761581421, 0.7777777910232544, 0.949999988079071, 0.8500000238418579, 1.0, 0.8999999761581421, 0.8500000238418579, 0.8999999761581421, 0.949999988079071, 0.7222222089767456, 0.8999999761581421, 0.8500000238418579, 0.8500000238418579, 0.949999988079071, 0.8500000238418579, 0.8999999761581421, 0.75, 0.949999988079071, 0.7777777910232544, 0.949999988079071, 1.0, 0.949999988079071, 0.8999999761581421], [0.025163481011986732, 0.05679696798324585, 1.919225906021893e-05, 0.0723235011100769, 0.004848596639931202, 0.11170060932636261, 0.005975709762424231, 0.17670440673828125, 0.03488598391413689, 0.024051019921898842, 0.018419919535517693, 0.01843847706913948, 0.02466406114399433, 0.04905441403388977, 0.007376800291240215, 0.03600176423788071, 0.009842057712376118, 0.24839361011981964, 0.0653357058763504, 0.01819993555545807, 0.03228335827589035, 0.01837405562400818, 0.005217493511736393, 0.05660106986761093, 0.11361293494701385, 0.00705447793006897, 0.054290540516376495, 0.20707738399505615, 0.661102831363678, 0.04168347269296646, 0.42369943857192993, 0.08920763432979584, 0.08464924991130829, 2.4675264285178855e-05, 0.035884417593479156, 0.10803079605102539, 0.0737810879945755, 0.18470576405525208, 0.012856772169470787, 0.12258223444223404, 0.1531200259923935, 0.5968064069747925, 1.3726420402526855, 9.27735964069143e-05, 0.213868647813797, 0.09393205493688583, 0.04242105409502983, 0.02752155065536499, 0.09753358364105225, 0.01995985582470894], [1.0, 1.0, 1.0, 1.0, 1.0, 1.0, 1.0, 0.800000011920929, 1.0, 1.0, 1.0, 1.0, 1.0, 1.0, 1.0, 1.0, 1.0, 0.800000011920929, 1.0, 1.0, 1.0, 1.0, 1.0, 1.0, 1.0, 1.0, 1.0, 0.800000011920929, 0.800000011920929, 1.0, 0.800000011920929, 1.0, 1.0, 1.0, 1.0, 1.0, 1.0, 0.800000011920929, 1.0, 1.0, 1.0, 0.800000011920929, 0.4000000059604645, 1.0, 1.0, 1.0, 1.0, 1.0, 1.0, 1.0]])\n"
          ]
        }
      ],
      "source": [
        "# model training\n",
        "history = model.fit( \n",
        "            train_generator,\n",
        "            steps_per_epoch = 4 ,\n",
        "            epochs = 50,\n",
        "            validation_data = val_generator,\n",
        "            validation_steps = 1,\n",
        "            verbose = 1\n",
        ")\n",
        "\n",
        "# print(result)\n",
        "print(history.history.keys())\n",
        "print((history.history.values()))"
      ]
    },
    {
      "cell_type": "code",
      "execution_count": 11,
      "metadata": {
        "colab": {
          "base_uri": "https://localhost:8080/",
          "height": 545
        },
        "id": "nWsAKoILd0GT",
        "outputId": "ae46dcda-2c6f-4f1e-dd29-ecd33cadad67"
      },
      "outputs": [
        {
          "data": {
            "image/png": "[encoded data removed]",
            "text/plain": [
              "<Figure size 432x288 with 1 Axes>"
            ]
          },
          "metadata": {
            "needs_background": "light"
          },
          "output_type": "display_data"
        },
        {
          "data": {
            "image/png": "[encoded data removed]",
            "text/plain": [
              "<Figure size 432x288 with 1 Axes>"
            ]
          },
          "metadata": {
            "needs_background": "light"
          },
          "output_type": "display_data"
        }
      ],
      "source": [
        "# grafik akurasi\n",
        "\n",
        "%matplotlib inline\n",
        "\n",
        "import matplotlib.image as mpimg\n",
        "import matplotlib.pyplot as plt\n",
        "\n",
        "acc = history.history['accuracy']\n",
        "val_acc = history.history['val_accuracy']\n",
        "loss = history.history['loss']\n",
        "val_loss = history.history['val_loss']\n",
        "\n",
        "epochs = range(len(acc))\n",
        "\n",
        "plt.plot(epochs, acc, 'r', label = 'Training Accuracy')\n",
        "plt.plot(epochs, val_acc, 'b', label = 'Validation Accuracy')\n",
        "plt.title('Trainign and Validation Accuracy')\n",
        "plt.legend(loc = 'best')\n",
        "plt.show()\n",
        "\n",
        "plt.plot(epochs, loss, 'r', label = 'Training Loss')\n",
        "plt.plot(epochs, val_loss, 'b', label = 'Validation Loss')\n",
        "plt.title('Trainign and Validation Loss')\n",
        "plt.legend(loc = 'best')\n",
        "plt.show()\n"
      ]
    },
    {
      "cell_type": "code",
      "execution_count": 1,
      "metadata": {},
      "outputs": [
        {
          "ename": "ModuleNotFoundError",
          "evalue": "No module named 'google.colab'",
          "output_type": "error",
          "traceback": [
            "\u001b[1;31m---------------------------------------------------------------------------\u001b[0m",
            "\u001b[1;31mModuleNotFoundError\u001b[0m                       Traceback (most recent call last)",
            "Input \u001b[1;32mIn [1]\u001b[0m, in \u001b[0;36m<module>\u001b[1;34m\u001b[0m\n\u001b[0;32m      1\u001b[0m \u001b[38;5;28;01mimport\u001b[39;00m \u001b[38;5;21;01mnumpy\u001b[39;00m \u001b[38;5;28;01mas\u001b[39;00m \u001b[38;5;21;01mnp\u001b[39;00m\n\u001b[0;32m      2\u001b[0m \u001b[38;5;28;01mfrom\u001b[39;00m \u001b[38;5;21;01mkeras\u001b[39;00m\u001b[38;5;21;01m.\u001b[39;00m\u001b[38;5;21;01mpreprocessing\u001b[39;00m \u001b[38;5;28;01mimport\u001b[39;00m image\n\u001b[1;32m----> 3\u001b[0m \u001b[38;5;28;01mfrom\u001b[39;00m \u001b[38;5;21;01mgoogle\u001b[39;00m\u001b[38;5;21;01m.\u001b[39;00m\u001b[38;5;21;01mcolab\u001b[39;00m \u001b[38;5;28;01mimport\u001b[39;00m files\n\u001b[0;32m      5\u001b[0m uploaded \u001b[38;5;241m=\u001b[39m files\u001b[38;5;241m.\u001b[39mupload()\n\u001b[0;32m      7\u001b[0m \u001b[38;5;28;01mfor\u001b[39;00m fn \u001b[38;5;129;01min\u001b[39;00m uploaded\u001b[38;5;241m.\u001b[39mkeys():\n\u001b[0;32m      8\u001b[0m \n\u001b[0;32m      9\u001b[0m \u001b[38;5;66;03m# prediction images - Silahkan di Running di google\u001b[39;00m\n",
            "\u001b[1;31mModuleNotFoundError\u001b[0m: No module named 'google.colab'"
          ]
        }
      ],
      "source": [
        "import numpy as np\n",
        "from keras.preprocessing import image\n",
        "from google.colab import files\n",
        "\n",
        "uploaded = files.upload()\n",
        "\n",
        "for fn in uploaded.keys():\n",
        "\n",
        "# prediction images - Silahkan di Running di google collab\n",
        "\n",
        "  path = fn\n",
        "  img = image.load_img(path, target_size = (150, 150))\n",
        "  imgplot = plt.imshow(img)\n",
        "  x = image.img_to_array(img)\n",
        "  x = np.expand_dims(x, axis = 0)\n",
        "\n",
        "  images = np.vstack([x])\n",
        "  classes = model.predict(images, batch_size = 100)\n",
        "\n",
        "  print(fn)\n",
        "\n",
        "  class_list = os.listdir(train_dir)\n",
        "\n",
        "  print(fn)\n",
        "  if classes[0][1]==10:\n",
        "    print('PLASTIK KOTOR')\n",
        "  elif classes[0][2]==1:\n",
        "    print('PLASTIK TUTUP')\n",
        "  elif classes[0][-2]==1:\n",
        "    print('PLASTIK REMUK')"
      ]
    }
  ],
  "metadata": {
    "colab": {
      "name": "trial 3",
      "provenance": []
    },
    "kernelspec": {
      "display_name": "Python 3",
      "name": "python3"
    },
    "language_info": {
      "codemirror_mode": {
        "name": "ipython",
        "version": 3
      },
      "file_extension": ".py",
      "mimetype": "text/x-python",
      "name": "python",
      "nbconvert_exporter": "python",
      "pygments_lexer": "ipython3",
      "version": "3.10.2"
    }
  },
  "nbformat": 4,
  "nbformat_minor": 0
}
