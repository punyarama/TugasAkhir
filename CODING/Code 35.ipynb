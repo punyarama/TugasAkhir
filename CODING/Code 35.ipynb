{
  "cells": [
    {
      "cell_type": "code",
      "execution_count": 1,
      "metadata": {
        "colab": {
          "base_uri": "https://localhost:8080/",
          "height": 0
        },
        "id": "91OaXBVb4NcS",
        "outputId": "f3e0f888-8f2d-40d7-bda6-9c87cf062a7d"
      },
      "outputs": [],
      "source": [
        "import os\n",
        "from PIL import Image\n",
        "\n",
        "base_dir = ('D:\\KULIAH\\Skripsi\\DATASET\\Warung Botol')"
      ]
    },
    {
      "cell_type": "code",
      "execution_count": 2,
      "metadata": {
        "id": "o44FEQXo4xHe"
      },
      "outputs": [],
      "source": [
        "# menentukan direktori\n",
        "train_dir = os.path.join(base_dir, 'train')\n",
        "validation_dir = os.path.join(base_dir, 'validasi')"
      ]
    },
    {
      "cell_type": "code",
      "execution_count": 3,
      "metadata": {
        "colab": {
          "base_uri": "https://localhost:8080/",
          "height": 0
        },
        "id": "ezhebQCz435U",
        "outputId": "a2d14076-b8c1-4812-8a77-ff79f9095797"
      },
      "outputs": [
        {
          "name": "stdout",
          "output_type": "stream",
          "text": [
            "Jumlah Data Train Tiap Kelas\n",
            "jumlah gambar train PET : 77\n",
            "jumlah gambar train HDPE : 75\n"
          ]
        }
      ],
      "source": [
        "# menentukan direktori isi folder training\n",
        "\n",
        "PET_train_dir = os.path.join(train_dir, 'PET')\n",
        "HDPE_train_dir = os.path.join(train_dir, 'HDPE')\n",
        "\n",
        "print(\"Jumlah Data Train Tiap Kelas\")\n",
        "print('jumlah gambar train PET :', len(os.listdir(PET_train_dir)))\n",
        "print('jumlah gambar train HDPE :', len(os.listdir(HDPE_train_dir)))"
      ]
    },
    {
      "cell_type": "code",
      "execution_count": 4,
      "metadata": {
        "colab": {
          "base_uri": "https://localhost:8080/",
          "height": 0
        },
        "id": "B2LHx4hv45Om",
        "outputId": "ec736886-dc79-44d9-ecdb-824350632c44"
      },
      "outputs": [
        {
          "name": "stdout",
          "output_type": "stream",
          "text": [
            "Jumlah Data Validasi Tiap Kelas\n",
            "jumlah gambar validasi PET : 18\n",
            "jumlah gambar validasi HDPE : 13\n"
          ]
        }
      ],
      "source": [
        "# menentukan direktori isi folder validasi\n",
        "PET_val_dir = os.path.join(validation_dir, 'PET')\n",
        "HDPE_val_dir = os.path.join(validation_dir, 'HDPE')\n",
        "\n",
        "print(\"Jumlah Data Validasi Tiap Kelas\")\n",
        "print('jumlah gambar validasi PET :', len(os.listdir(PET_val_dir)))\n",
        "print('jumlah gambar validasi HDPE :', len(os.listdir(HDPE_val_dir)))"
      ]
    },
    {
      "cell_type": "code",
      "execution_count": 5,
      "metadata": {
        "id": "MViyrg-_48ZT"
      },
      "outputs": [],
      "source": [
        "# preprocessing\n",
        "\n",
        "import tensorflow as tf\n",
        "from tensorflow.keras.optimizers import Adam\n",
        "from tensorflow.keras.preprocessing.image import ImageDataGenerator\n",
        "\n",
        "train_datagen = ImageDataGenerator(\n",
        "                  rescale = 1/64,\n",
        "                  rotation_range = 15,\n",
        "                  horizontal_flip = True,\n",
        "                  shear_range = 0.2,\n",
        "                  fill_mode = 'nearest',\n",
        "                  width_shift_range = 0.3,\n",
        "                  height_shift_range = 0.2,\n",
        "                  zoom_range = 0.1\n",
        ")\n",
        "\n",
        "val_datagen = ImageDataGenerator(\n",
        "                  rescale = 1/64,\n",
        "                  rotation_range = 15,\n",
        "                  horizontal_flip = True,\n",
        "                  shear_range = 0.2,\n",
        "                  fill_mode = 'nearest',\n",
        "                  width_shift_range = 0.3,\n",
        "                  height_shift_range = 0.2,\n",
        "                  zoom_range = 0.1\n",
        ")\n",
        " "
      ]
    },
    {
      "cell_type": "code",
      "execution_count": 6,
      "metadata": {
        "colab": {
          "base_uri": "https://localhost:8080/",
          "height": 0
        },
        "id": "MNZAmpzI5BnI",
        "outputId": "cc60d92f-47f7-4bad-aefa-9219dda3731e"
      },
      "outputs": [
        {
          "name": "stdout",
          "output_type": "stream",
          "text": [
            "Found 152 images belonging to 2 classes.\n",
            "Found 31 images belonging to 2 classes.\n"
          ]
        }
      ],
      "source": [
        "# target\n",
        "\n",
        "train_generator = train_datagen.flow_from_directory(\n",
        "    train_dir,\n",
        "    target_size = (150, 150),\n",
        "    batch_size = 5,\n",
        "    class_mode = 'categorical'\n",
        ")\n",
        "\n",
        "val_generator = val_datagen.flow_from_directory(\n",
        "    validation_dir,\n",
        "    target_size = (150, 150),\n",
        "    batch_size = 5,\n",
        "    class_mode = 'categorical'\n",
        ")"
      ]
    },
    {
      "cell_type": "code",
      "execution_count": 7,
      "metadata": {
        "id": "_QSMdRL45Fhe"
      },
      "outputs": [],
      "source": [
        "# model CNN\n",
        "\n",
        "model = tf.keras.models.Sequential([\n",
        "          tf.keras.layers.Conv2D(16,(4,4), activation = 'relu', input_shape = (150,150,3)),\n",
        "          tf.keras.layers.MaxPooling2D(3,3),\n",
        "          tf.keras.layers.Conv2D(16,(4,4), activation = 'relu'),\n",
        "          tf.keras.layers.MaxPooling2D(3,3),\n",
        "          tf.keras.layers.Conv2D(16,(4,4), activation = 'relu'),\n",
        "          tf.keras.layers.MaxPooling2D(3,3),\n",
        "          tf.keras.layers.Flatten(),\n",
        "          tf.keras.layers.Dense(128,activation = 'relu'),\n",
        "          tf.keras.layers.Dropout(0.5, seed = 128),\n",
        "          tf.keras.layers.Dense(2,activation = 'sigmoid'),\n",
        "])"
      ]
    },
    {
      "cell_type": "code",
      "execution_count": 8,
      "metadata": {
        "colab": {
          "base_uri": "https://localhost:8080/",
          "height": 0
        },
        "id": "jXw8HWTg5IcI",
        "outputId": "aa0c4012-ef81-414b-b4a8-46f5a3331050"
      },
      "outputs": [
        {
          "name": "stdout",
          "output_type": "stream",
          "text": [
            "Model: \"sequential\"\n",
            "_________________________________________________________________\n",
            " Layer (type)                Output Shape              Param #   \n",
            "=================================================================\n",
            " conv2d (Conv2D)             (None, 147, 147, 16)      784       \n",
            "                                                                 \n",
            " max_pooling2d (MaxPooling2D  (None, 49, 49, 16)       0         \n",
            " )                                                               \n",
            "                                                                 \n",
            " conv2d_1 (Conv2D)           (None, 46, 46, 16)        4112      \n",
            "                                                                 \n",
            " max_pooling2d_1 (MaxPooling  (None, 15, 15, 16)       0         \n",
            " 2D)                                                             \n",
            "                                                                 \n",
            " conv2d_2 (Conv2D)           (None, 12, 12, 16)        4112      \n",
            "                                                                 \n",
            " max_pooling2d_2 (MaxPooling  (None, 4, 4, 16)         0         \n",
            " 2D)                                                             \n",
            "                                                                 \n",
            " flatten (Flatten)           (None, 256)               0         \n",
            "                                                                 \n",
            " dense (Dense)               (None, 128)               32896     \n",
            "                                                                 \n",
            " dropout (Dropout)           (None, 128)               0         \n",
            "                                                                 \n",
            " dense_1 (Dense)             (None, 2)                 258       \n",
            "                                                                 \n",
            "=================================================================\n",
            "Total params: 42,162\n",
            "Trainable params: 42,162\n",
            "Non-trainable params: 0\n",
            "_________________________________________________________________\n"
          ]
        }
      ],
      "source": [
        "# ringkasan model CNN\n",
        "\n",
        "model.summary()"
      ]
    },
    {
      "cell_type": "code",
      "execution_count": 9,
      "metadata": {
        "id": "FvFvXonN5LI1"
      },
      "outputs": [],
      "source": [
        "# compile model\n",
        "\n",
        "model.compile(loss = 'categorical_crossentropy',\n",
        "              optimizer = 'Adam',\n",
        "              metrics = ['accuracy'])"
      ]
    },
    {
      "cell_type": "code",
      "execution_count": 21,
      "metadata": {
        "colab": {
          "base_uri": "https://localhost:8080/",
          "height": 0
        },
        "id": "Xwewi5CncOgI",
        "outputId": "3d7691bd-4151-4d23-af1b-e118d8033909"
      },
      "outputs": [
        {
          "name": "stdout",
          "output_type": "stream",
          "text": [
            "Epoch 1/30\n",
            "5/5 [==============================] - 2s 429ms/step - loss: 0.0316 - accuracy: 1.0000 - val_loss: 0.0020 - val_accuracy: 1.0000\n",
            "Epoch 2/30\n",
            "5/5 [==============================] - 2s 365ms/step - loss: 0.0809 - accuracy: 0.9600 - val_loss: 0.0107 - val_accuracy: 1.0000\n",
            "Epoch 3/30\n",
            "5/5 [==============================] - 2s 421ms/step - loss: 0.0082 - accuracy: 1.0000 - val_loss: 2.1115e-04 - val_accuracy: 1.0000\n",
            "Epoch 4/30\n",
            "5/5 [==============================] - 2s 443ms/step - loss: 0.0107 - accuracy: 1.0000 - val_loss: 3.4951e-05 - val_accuracy: 1.0000\n",
            "Epoch 5/30\n",
            "5/5 [==============================] - 1s 184ms/step - loss: 0.0504 - accuracy: 0.9600 - val_loss: 1.0647e-04 - val_accuracy: 1.0000\n",
            "Epoch 6/30\n",
            "5/5 [==============================] - 1s 185ms/step - loss: 2.6338e-05 - accuracy: 1.0000 - val_loss: 0.0016 - val_accuracy: 1.0000\n",
            "Epoch 7/30\n",
            "5/5 [==============================] - 1s 192ms/step - loss: 0.0054 - accuracy: 1.0000 - val_loss: 4.8956e-04 - val_accuracy: 1.0000\n",
            "Epoch 8/30\n",
            "5/5 [==============================] - 1s 159ms/step - loss: 0.0025 - accuracy: 1.0000 - val_loss: 1.2771e-04 - val_accuracy: 1.0000\n",
            "Epoch 9/30\n",
            "5/5 [==============================] - 1s 211ms/step - loss: 0.0021 - accuracy: 1.0000 - val_loss: 0.0330 - val_accuracy: 1.0000\n",
            "Epoch 10/30\n",
            "5/5 [==============================] - 2s 368ms/step - loss: 0.0018 - accuracy: 1.0000 - val_loss: 1.7376e-04 - val_accuracy: 1.0000\n",
            "Epoch 11/30\n",
            "5/5 [==============================] - 2s 309ms/step - loss: 7.0987e-04 - accuracy: 1.0000 - val_loss: 3.4473e-05 - val_accuracy: 1.0000\n",
            "Epoch 12/30\n",
            "5/5 [==============================] - 1s 188ms/step - loss: 4.0708e-05 - accuracy: 1.0000 - val_loss: 1.7690e-05 - val_accuracy: 1.0000\n",
            "Epoch 13/30\n",
            "5/5 [==============================] - 1s 198ms/step - loss: 1.7009e-04 - accuracy: 1.0000 - val_loss: 1.6910e-04 - val_accuracy: 1.0000\n",
            "Epoch 14/30\n",
            "5/5 [==============================] - 1s 263ms/step - loss: 7.5015e-05 - accuracy: 1.0000 - val_loss: 6.8902e-06 - val_accuracy: 1.0000\n",
            "Epoch 15/30\n",
            "5/5 [==============================] - 1s 221ms/step - loss: 1.7582e-04 - accuracy: 1.0000 - val_loss: 3.9932e-05 - val_accuracy: 1.0000\n",
            "Epoch 16/30\n",
            "5/5 [==============================] - 1s 270ms/step - loss: 0.0022 - accuracy: 1.0000 - val_loss: 6.5748e-04 - val_accuracy: 1.0000\n",
            "Epoch 17/30\n",
            "5/5 [==============================] - 1s 211ms/step - loss: 1.1270e-04 - accuracy: 1.0000 - val_loss: 0.0048 - val_accuracy: 1.0000\n",
            "Epoch 18/30\n",
            "5/5 [==============================] - 1s 231ms/step - loss: 8.1157e-05 - accuracy: 1.0000 - val_loss: 2.1337e-05 - val_accuracy: 1.0000\n",
            "Epoch 19/30\n",
            "5/5 [==============================] - 1s 214ms/step - loss: 3.9262e-05 - accuracy: 1.0000 - val_loss: 7.1763e-06 - val_accuracy: 1.0000\n",
            "Epoch 20/30\n",
            "5/5 [==============================] - 1s 299ms/step - loss: 0.0689 - accuracy: 0.9600 - val_loss: 0.0016 - val_accuracy: 1.0000\n",
            "Epoch 21/30\n",
            "5/5 [==============================] - 2s 426ms/step - loss: 0.0251 - accuracy: 1.0000 - val_loss: 2.3231 - val_accuracy: 0.8000\n",
            "Epoch 22/30\n",
            "5/5 [==============================] - 1s 160ms/step - loss: 0.1708 - accuracy: 0.9545 - val_loss: 0.0061 - val_accuracy: 1.0000\n",
            "Epoch 23/30\n",
            "5/5 [==============================] - 1s 193ms/step - loss: 0.0997 - accuracy: 0.9600 - val_loss: 3.6001e-06 - val_accuracy: 1.0000\n",
            "Epoch 24/30\n",
            "5/5 [==============================] - 1s 263ms/step - loss: 0.0028 - accuracy: 1.0000 - val_loss: 0.0019 - val_accuracy: 1.0000\n",
            "Epoch 25/30\n",
            "5/5 [==============================] - 1s 254ms/step - loss: 0.0031 - accuracy: 1.0000 - val_loss: 4.4486e-05 - val_accuracy: 1.0000\n",
            "Epoch 26/30\n",
            "5/5 [==============================] - 1s 245ms/step - loss: 0.0064 - accuracy: 1.0000 - val_loss: 0.0672 - val_accuracy: 1.0000\n",
            "Epoch 27/30\n",
            "5/5 [==============================] - 1s 207ms/step - loss: 0.0306 - accuracy: 1.0000 - val_loss: 0.0019 - val_accuracy: 1.0000\n",
            "Epoch 28/30\n",
            "5/5 [==============================] - 2s 402ms/step - loss: 0.1283 - accuracy: 0.9600 - val_loss: 2.5783e-04 - val_accuracy: 1.0000\n",
            "Epoch 29/30\n",
            "5/5 [==============================] - 2s 318ms/step - loss: 0.0165 - accuracy: 1.0000 - val_loss: 0.0253 - val_accuracy: 1.0000\n",
            "Epoch 30/30\n",
            "5/5 [==============================] - 2s 544ms/step - loss: 0.1543 - accuracy: 0.8800 - val_loss: 0.0050 - val_accuracy: 1.0000\n",
            "dict_keys(['loss', 'accuracy', 'val_loss', 'val_accuracy'])\n",
            "dict_values([[0.031557947397232056, 0.0809200182557106, 0.008196334354579449, 0.010743899270892143, 0.05039765685796738, 2.6338368115830235e-05, 0.005444060079753399, 0.002489483216777444, 0.002051320392638445, 0.0017862371169030666, 0.0007098687347024679, 4.070848081028089e-05, 0.00017008816939778626, 7.501499203499407e-05, 0.00017582497093826532, 0.002195359207689762, 0.0001127032155636698, 8.115690434351563e-05, 3.926216595573351e-05, 0.06887486577033997, 0.025105681270360947, 0.1707751601934433, 0.09967604279518127, 0.0028031242545694113, 0.003113023703917861, 0.006437128875404596, 0.03062097541987896, 0.12830568850040436, 0.016507236286997795, 0.15428990125656128], [1.0, 0.9599999785423279, 1.0, 1.0, 0.9599999785423279, 1.0, 1.0, 1.0, 1.0, 1.0, 1.0, 1.0, 1.0, 1.0, 1.0, 1.0, 1.0, 1.0, 1.0, 0.9599999785423279, 1.0, 0.9545454382896423, 0.9599999785423279, 1.0, 1.0, 1.0, 1.0, 0.9599999785423279, 1.0, 0.8799999952316284], [0.001980841625481844, 0.010725506581366062, 0.00021114996343385428, 3.495123746688478e-05, 0.0001064749521901831, 0.001565615413710475, 0.0004895617021247745, 0.00012771211913786829, 0.033021725714206696, 0.0001737602287903428, 3.447271228651516e-05, 1.7690379536361434e-05, 0.00016909503028728068, 6.890205895615509e-06, 3.993164864368737e-05, 0.0006574811413884163, 0.00477211456745863, 2.1337467842386104e-05, 7.1763270170777105e-06, 0.0016066277166828513, 2.3230984210968018, 0.006100819446146488, 3.600108811951941e-06, 0.0018956217681989074, 4.44858887931332e-05, 0.06720218807458878, 0.0019198812078684568, 0.0002578295534476638, 0.02532423660159111, 0.004955321084707975], [1.0, 1.0, 1.0, 1.0, 1.0, 1.0, 1.0, 1.0, 1.0, 1.0, 1.0, 1.0, 1.0, 1.0, 1.0, 1.0, 1.0, 1.0, 1.0, 1.0, 0.800000011920929, 1.0, 1.0, 1.0, 1.0, 1.0, 1.0, 1.0, 1.0, 1.0]])\n"
          ]
        }
      ],
      "source": [
        "# model training\n",
        "history = model.fit( \n",
        "            train_generator,\n",
        "            steps_per_epoch = 5 ,\n",
        "            epochs = 30,\n",
        "            validation_data = val_generator,\n",
        "            validation_steps = 1,\n",
        "            verbose = 1\n",
        ")\n",
        "\n",
        "# print(result)\n",
        "print(history.history.keys())\n",
        "print((history.history.values()))"
      ]
    },
    {
      "cell_type": "code",
      "execution_count": 11,
      "metadata": {
        "colab": {
          "base_uri": "https://localhost:8080/",
          "height": 545
        },
        "id": "nWsAKoILd0GT",
        "outputId": "ae46dcda-2c6f-4f1e-dd29-ecd33cadad67"
      },
      "outputs": [
        {
          "data": {
            "image/png": "[encoded data removed]",
            "text/plain": [
              "<Figure size 432x288 with 1 Axes>"
            ]
          },
          "metadata": {
            "needs_background": "light"
          },
          "output_type": "display_data"
        },
        {
          "data": {
            "image/png": "[encoded data removed]",
            "text/plain": [
              "<Figure size 432x288 with 1 Axes>"
            ]
          },
          "metadata": {
            "needs_background": "light"
          },
          "output_type": "display_data"
        }
      ],
      "source": [
        "# grafik akurasi\n",
        "\n",
        "%matplotlib inline\n",
        "\n",
        "import matplotlib.image as mpimg\n",
        "import matplotlib.pyplot as plt\n",
        "\n",
        "acc = history.history['accuracy']\n",
        "val_acc = history.history['val_accuracy']\n",
        "loss = history.history['loss']\n",
        "val_loss = history.history['val_loss']\n",
        "\n",
        "epochs = range(len(acc))\n",
        "\n",
        "plt.plot(epochs, acc, 'r', label = 'Training Accuracy')\n",
        "plt.plot(epochs, val_acc, 'b', label = 'Validation Accuracy')\n",
        "plt.title('Trainign and Validation Accuracy')\n",
        "plt.legend(loc = 'best')\n",
        "plt.show()\n",
        "\n",
        "plt.plot(epochs, loss, 'r', label = 'Training Loss')\n",
        "plt.plot(epochs, val_loss, 'b', label = 'Validation Loss')\n",
        "plt.title('Trainign and Validation Loss')\n",
        "plt.legend(loc = 'best')\n",
        "plt.show()\n"
      ]
    }
  ],
  "metadata": {
    "colab": {
      "name": "trial 3",
      "provenance": []
    },
    "kernelspec": {
      "display_name": "Python 3",
      "name": "python3"
    },
    "language_info": {
      "codemirror_mode": {
        "name": "ipython",
        "version": 3
      },
      "file_extension": ".py",
      "mimetype": "text/x-python",
      "name": "python",
      "nbconvert_exporter": "python",
      "pygments_lexer": "ipython3",
      "version": "3.10.2"
    }
  },
  "nbformat": 4,
  "nbformat_minor": 0
}
