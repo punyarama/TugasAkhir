{
  "cells": [
    {
      "cell_type": "code",
      "execution_count": 1,
      "metadata": {
        "colab": {
          "base_uri": "https://localhost:8080/",
          "height": 0
        },
        "id": "91OaXBVb4NcS",
        "outputId": "f3e0f888-8f2d-40d7-bda6-9c87cf062a7d"
      },
      "outputs": [],
      "source": [
        "import os\n",
        "from PIL import Image\n",
        "\n",
        "base_dir = ('D:\\KULIAH\\Skripsi\\DATASET\\Warung Botol')"
      ]
    },
    {
      "cell_type": "code",
      "execution_count": 2,
      "metadata": {
        "id": "o44FEQXo4xHe"
      },
      "outputs": [],
      "source": [
        "# menentukan direktori\n",
        "train_dir = os.path.join(base_dir, 'train_gabungan')\n",
        "validation_dir = os.path.join(base_dir, 'validasi_gabungan')"
      ]
    },
    {
      "cell_type": "code",
      "execution_count": 3,
      "metadata": {
        "colab": {
          "base_uri": "https://localhost:8080/",
          "height": 0
        },
        "id": "ezhebQCz435U",
        "outputId": "a2d14076-b8c1-4812-8a77-ff79f9095797"
      },
      "outputs": [
        {
          "name": "stdout",
          "output_type": "stream",
          "text": [
            "Jumlah Data Train Tiap Kelas\n",
            "jumlah gambar train PET : 76\n",
            "jumlah gambar train HDPE : 74\n",
            "jumlah gambar train LDPE : 72\n",
            "jumlah gambar train PP : 79\n"
          ]
        }
      ],
      "source": [
        "# menentukan direktori isi folder training\n",
        "\n",
        "PET_train_dir = os.path.join(train_dir, 'PET')\n",
        "HDPE_train_dir = os.path.join(train_dir, 'HDPE')\n",
        "LDPE_train_dir = os.path.join(train_dir, 'LDPE')\n",
        "PP_train_dir = os.path.join(train_dir, 'PP')\n",
        "\n",
        "print(\"Jumlah Data Train Tiap Kelas\")\n",
        "print('jumlah gambar train PET :', len(os.listdir(PET_train_dir)))\n",
        "print('jumlah gambar train HDPE :', len(os.listdir(HDPE_train_dir)))\n",
        "print('jumlah gambar train LDPE :', len(os.listdir(LDPE_train_dir)))\n",
        "print('jumlah gambar train PP :', len(os.listdir(PP_train_dir)))"
      ]
    },
    {
      "cell_type": "code",
      "execution_count": 4,
      "metadata": {
        "colab": {
          "base_uri": "https://localhost:8080/",
          "height": 0
        },
        "id": "B2LHx4hv45Om",
        "outputId": "ec736886-dc79-44d9-ecdb-824350632c44"
      },
      "outputs": [
        {
          "name": "stdout",
          "output_type": "stream",
          "text": [
            "Jumlah Data Validasi Tiap Kelas\n",
            "jumlah gambar validasi PET : 16\n",
            "jumlah gambar validasi HDPE : 15\n",
            "jumlah gambar validasi LDPE : 16\n",
            "jumlah gambar validasi PP : 18\n"
          ]
        }
      ],
      "source": [
        "# menentukan direktori isi folder validasi\n",
        "PET_val_dir = os.path.join(validation_dir, 'PET')\n",
        "HDPE_val_dir = os.path.join(validation_dir, 'HDPE')\n",
        "LDPE_val_dir = os.path.join(validation_dir, 'LDPE')\n",
        "PP_val_dir = os.path.join(validation_dir, 'PP')\n",
        "\n",
        "print(\"Jumlah Data Validasi Tiap Kelas\")\n",
        "print('jumlah gambar validasi PET :', len(os.listdir(PET_val_dir)))\n",
        "print('jumlah gambar validasi HDPE :', len(os.listdir(HDPE_val_dir)))\n",
        "print('jumlah gambar validasi LDPE :', len(os.listdir(LDPE_val_dir)))\n",
        "print('jumlah gambar validasi PP :', len(os.listdir(PP_val_dir)))"
      ]
    },
    {
      "cell_type": "code",
      "execution_count": 5,
      "metadata": {
        "id": "MViyrg-_48ZT"
      },
      "outputs": [],
      "source": [
        "# preprocessing\n",
        "\n",
        "import tensorflow as tf\n",
        "from tensorflow.keras.optimizers import Adam\n",
        "from tensorflow.keras.preprocessing.image import ImageDataGenerator\n",
        "\n",
        "train_datagen = ImageDataGenerator(\n",
        "                  rescale = 1/64,\n",
        "                  rotation_range = 15,\n",
        "                  horizontal_flip = True,\n",
        "                  shear_range = 0.2,\n",
        "                  fill_mode = 'nearest',\n",
        "                  width_shift_range = 0.1,\n",
        "                  height_shift_range = 0.3,\n",
        "                  zoom_range = 0.4\n",
        ")\n",
        "\n",
        "val_datagen = ImageDataGenerator(\n",
        "                  rescale = 1/64,\n",
        "                  rotation_range = 15,\n",
        "                  horizontal_flip = True,\n",
        "                  shear_range = 0.2,\n",
        "                  fill_mode = 'nearest',\n",
        "                  width_shift_range = 0.1,\n",
        "                  height_shift_range = 0.3,\n",
        "                  zoom_range = 0.4\n",
        ")\n",
        " "
      ]
    },
    {
      "cell_type": "code",
      "execution_count": 6,
      "metadata": {
        "colab": {
          "base_uri": "https://localhost:8080/",
          "height": 0
        },
        "id": "MNZAmpzI5BnI",
        "outputId": "cc60d92f-47f7-4bad-aefa-9219dda3731e"
      },
      "outputs": [
        {
          "name": "stdout",
          "output_type": "stream",
          "text": [
            "Found 268 images belonging to 4 classes.\n",
            "Found 60 images belonging to 4 classes.\n"
          ]
        }
      ],
      "source": [
        "# target\n",
        "\n",
        "train_generator = train_datagen.flow_from_directory(\n",
        "    train_dir,\n",
        "    target_size = (150, 150),\n",
        "    batch_size = 5,\n",
        "    class_mode = 'categorical'\n",
        ")\n",
        "\n",
        "val_generator = val_datagen.flow_from_directory(\n",
        "    validation_dir,\n",
        "    target_size = (150, 150),\n",
        "    batch_size = 5,\n",
        "    class_mode = 'categorical'\n",
        ")"
      ]
    },
    {
      "cell_type": "code",
      "execution_count": 7,
      "metadata": {
        "id": "_QSMdRL45Fhe"
      },
      "outputs": [],
      "source": [
        "# model CNN\n",
        "\n",
        "model = tf.keras.models.Sequential([\n",
        "          tf.keras.layers.Conv2D(16,(4,4), activation = 'relu', input_shape = (150,150,3)),\n",
        "          tf.keras.layers.MaxPooling2D(3,3),\n",
        "          tf.keras.layers.Conv2D(16,(4,4), activation = 'relu'),\n",
        "          tf.keras.layers.MaxPooling2D(3,3),\n",
        "          tf.keras.layers.Conv2D(16,(4,4), activation = 'relu'),\n",
        "          tf.keras.layers.MaxPooling2D(3,3),\n",
        "          tf.keras.layers.Flatten(),\n",
        "          tf.keras.layers.Dense(128,activation = 'relu'),\n",
        "          tf.keras.layers.Dropout(0.5, seed = 128),\n",
        "          tf.keras.layers.Dense(4,activation = 'sigmoid'),\n",
        "])"
      ]
    },
    {
      "cell_type": "code",
      "execution_count": 8,
      "metadata": {
        "colab": {
          "base_uri": "https://localhost:8080/",
          "height": 0
        },
        "id": "jXw8HWTg5IcI",
        "outputId": "aa0c4012-ef81-414b-b4a8-46f5a3331050"
      },
      "outputs": [
        {
          "name": "stdout",
          "output_type": "stream",
          "text": [
            "Model: \"sequential\"\n",
            "_________________________________________________________________\n",
            " Layer (type)                Output Shape              Param #   \n",
            "=================================================================\n",
            " conv2d (Conv2D)             (None, 147, 147, 16)      784       \n",
            "                                                                 \n",
            " max_pooling2d (MaxPooling2D  (None, 49, 49, 16)       0         \n",
            " )                                                               \n",
            "                                                                 \n",
            " conv2d_1 (Conv2D)           (None, 46, 46, 16)        4112      \n",
            "                                                                 \n",
            " max_pooling2d_1 (MaxPooling  (None, 15, 15, 16)       0         \n",
            " 2D)                                                             \n",
            "                                                                 \n",
            " conv2d_2 (Conv2D)           (None, 12, 12, 16)        4112      \n",
            "                                                                 \n",
            " max_pooling2d_2 (MaxPooling  (None, 4, 4, 16)         0         \n",
            " 2D)                                                             \n",
            "                                                                 \n",
            " flatten (Flatten)           (None, 256)               0         \n",
            "                                                                 \n",
            " dense (Dense)               (None, 128)               32896     \n",
            "                                                                 \n",
            " dropout (Dropout)           (None, 128)               0         \n",
            "                                                                 \n",
            " dense_1 (Dense)             (None, 4)                 516       \n",
            "                                                                 \n",
            "=================================================================\n",
            "Total params: 42,420\n",
            "Trainable params: 42,420\n",
            "Non-trainable params: 0\n",
            "_________________________________________________________________\n"
          ]
        }
      ],
      "source": [
        "# ringkasan model CNN\n",
        "\n",
        "model.summary()"
      ]
    },
    {
      "cell_type": "code",
      "execution_count": 9,
      "metadata": {
        "id": "FvFvXonN5LI1"
      },
      "outputs": [],
      "source": [
        "# compile model\n",
        "\n",
        "model.compile(loss = 'categorical_crossentropy',\n",
        "              optimizer = 'Adam',\n",
        "              metrics = ['accuracy'])"
      ]
    },
    {
      "cell_type": "code",
      "execution_count": 16,
      "metadata": {
        "colab": {
          "base_uri": "https://localhost:8080/",
          "height": 0
        },
        "id": "Xwewi5CncOgI",
        "outputId": "3d7691bd-4151-4d23-af1b-e118d8033909"
      },
      "outputs": [
        {
          "name": "stdout",
          "output_type": "stream",
          "text": [
            "Epoch 1/50\n",
            "5/5 [==============================] - 8s 2s/step - loss: 0.1594 - accuracy: 0.9200 - val_loss: 0.0174 - val_accuracy: 1.0000\n",
            "Epoch 2/50\n",
            "5/5 [==============================] - 5s 976ms/step - loss: 0.1343 - accuracy: 0.9200 - val_loss: 0.1859 - val_accuracy: 1.0000\n",
            "Epoch 3/50\n",
            "5/5 [==============================] - 4s 935ms/step - loss: 0.2034 - accuracy: 0.9200 - val_loss: 0.1125 - val_accuracy: 1.0000\n",
            "Epoch 4/50\n",
            "5/5 [==============================] - 4s 923ms/step - loss: 0.1681 - accuracy: 0.9600 - val_loss: 1.8521 - val_accuracy: 0.6000\n",
            "Epoch 5/50\n",
            "5/5 [==============================] - 4s 718ms/step - loss: 0.1688 - accuracy: 0.9130 - val_loss: 0.0126 - val_accuracy: 1.0000\n",
            "Epoch 6/50\n",
            "5/5 [==============================] - 3s 684ms/step - loss: 0.0527 - accuracy: 0.9600 - val_loss: 0.0221 - val_accuracy: 1.0000\n",
            "Epoch 7/50\n",
            "5/5 [==============================] - 5s 1s/step - loss: 0.3282 - accuracy: 0.8000 - val_loss: 0.1359 - val_accuracy: 1.0000\n",
            "Epoch 8/50\n",
            "5/5 [==============================] - 6s 1s/step - loss: 0.4088 - accuracy: 0.8800 - val_loss: 0.1019 - val_accuracy: 1.0000\n",
            "Epoch 9/50\n",
            "5/5 [==============================] - 6s 1s/step - loss: 0.1910 - accuracy: 0.8261 - val_loss: 0.0244 - val_accuracy: 1.0000\n",
            "Epoch 10/50\n",
            "5/5 [==============================] - 5s 1s/step - loss: 0.1724 - accuracy: 0.9200 - val_loss: 0.3147 - val_accuracy: 0.8000\n",
            "Epoch 11/50\n",
            "5/5 [==============================] - 5s 1s/step - loss: 0.0791 - accuracy: 0.9600 - val_loss: 0.5033 - val_accuracy: 0.8000\n",
            "Epoch 12/50\n",
            "5/5 [==============================] - 4s 773ms/step - loss: 0.2385 - accuracy: 0.8800 - val_loss: 0.0025 - val_accuracy: 1.0000\n",
            "Epoch 13/50\n",
            "5/5 [==============================] - 3s 633ms/step - loss: 0.1208 - accuracy: 0.9600 - val_loss: 0.5699 - val_accuracy: 0.8000\n",
            "Epoch 14/50\n",
            "5/5 [==============================] - 4s 932ms/step - loss: 0.1709 - accuracy: 0.9200 - val_loss: 0.0434 - val_accuracy: 1.0000\n",
            "Epoch 15/50\n",
            "5/5 [==============================] - 5s 949ms/step - loss: 0.0714 - accuracy: 0.9600 - val_loss: 0.0745 - val_accuracy: 1.0000\n",
            "Epoch 16/50\n",
            "5/5 [==============================] - 4s 890ms/step - loss: 0.1805 - accuracy: 0.9600 - val_loss: 0.2572 - val_accuracy: 0.8000\n",
            "Epoch 17/50\n",
            "5/5 [==============================] - 4s 857ms/step - loss: 0.0818 - accuracy: 0.9600 - val_loss: 0.3134 - val_accuracy: 0.8000\n",
            "Epoch 18/50\n",
            "5/5 [==============================] - 3s 652ms/step - loss: 0.4418 - accuracy: 0.8696 - val_loss: 0.2226 - val_accuracy: 1.0000\n",
            "Epoch 19/50\n",
            "5/5 [==============================] - 6s 1s/step - loss: 0.3759 - accuracy: 0.8800 - val_loss: 0.0110 - val_accuracy: 1.0000\n",
            "Epoch 20/50\n",
            "5/5 [==============================] - 5s 1s/step - loss: 0.1854 - accuracy: 0.9200 - val_loss: 0.2126 - val_accuracy: 0.8000\n",
            "Epoch 21/50\n",
            "5/5 [==============================] - 4s 890ms/step - loss: 0.5230 - accuracy: 0.7600 - val_loss: 0.0752 - val_accuracy: 1.0000\n",
            "Epoch 22/50\n",
            "5/5 [==============================] - 4s 837ms/step - loss: 0.1455 - accuracy: 0.9200 - val_loss: 0.1516 - val_accuracy: 1.0000\n",
            "Epoch 23/50\n",
            "5/5 [==============================] - 4s 905ms/step - loss: 0.2097 - accuracy: 0.9600 - val_loss: 0.0211 - val_accuracy: 1.0000\n",
            "Epoch 24/50\n",
            "5/5 [==============================] - 4s 806ms/step - loss: 0.1076 - accuracy: 0.9600 - val_loss: 0.1910 - val_accuracy: 0.8000\n",
            "Epoch 25/50\n",
            "5/5 [==============================] - 4s 662ms/step - loss: 0.1961 - accuracy: 0.9600 - val_loss: 0.1727 - val_accuracy: 1.0000\n",
            "Epoch 26/50\n",
            "5/5 [==============================] - 6s 1s/step - loss: 0.1970 - accuracy: 0.9200 - val_loss: 0.1298 - val_accuracy: 1.0000\n",
            "Epoch 27/50\n",
            "5/5 [==============================] - 4s 871ms/step - loss: 0.1432 - accuracy: 0.9600 - val_loss: 0.0598 - val_accuracy: 1.0000\n",
            "Epoch 28/50\n",
            "5/5 [==============================] - 4s 778ms/step - loss: 0.0738 - accuracy: 0.9600 - val_loss: 0.5493 - val_accuracy: 0.8000\n",
            "Epoch 29/50\n",
            "5/5 [==============================] - 4s 880ms/step - loss: 0.2320 - accuracy: 0.9200 - val_loss: 0.0860 - val_accuracy: 1.0000\n",
            "Epoch 30/50\n",
            "5/5 [==============================] - 4s 815ms/step - loss: 0.0902 - accuracy: 0.9600 - val_loss: 0.5921 - val_accuracy: 0.6000\n",
            "Epoch 31/50\n",
            "5/5 [==============================] - 4s 799ms/step - loss: 0.1255 - accuracy: 0.9600 - val_loss: 6.2876e-04 - val_accuracy: 1.0000\n",
            "Epoch 32/50\n",
            "5/5 [==============================] - 4s 880ms/step - loss: 0.0423 - accuracy: 1.0000 - val_loss: 0.6647 - val_accuracy: 0.8000\n",
            "Epoch 33/50\n",
            "5/5 [==============================] - 3s 719ms/step - loss: 0.3058 - accuracy: 0.8800 - val_loss: 0.0044 - val_accuracy: 1.0000\n",
            "Epoch 34/50\n",
            "5/5 [==============================] - 4s 818ms/step - loss: 0.1368 - accuracy: 0.9200 - val_loss: 0.1809 - val_accuracy: 1.0000\n",
            "Epoch 35/50\n",
            "5/5 [==============================] - 4s 742ms/step - loss: 0.4877 - accuracy: 0.7600 - val_loss: 0.0027 - val_accuracy: 1.0000\n",
            "Epoch 36/50\n",
            "5/5 [==============================] - 4s 767ms/step - loss: 0.4045 - accuracy: 0.8000 - val_loss: 1.0180 - val_accuracy: 0.8000\n",
            "Epoch 37/50\n",
            "5/5 [==============================] - 4s 736ms/step - loss: 0.7690 - accuracy: 0.7391 - val_loss: 0.0622 - val_accuracy: 1.0000\n",
            "Epoch 38/50\n",
            "5/5 [==============================] - 4s 791ms/step - loss: 0.3056 - accuracy: 0.9200 - val_loss: 0.3920 - val_accuracy: 0.8000\n",
            "Epoch 39/50\n",
            "5/5 [==============================] - 5s 877ms/step - loss: 0.2714 - accuracy: 0.9200 - val_loss: 0.0577 - val_accuracy: 1.0000\n",
            "Epoch 40/50\n",
            "5/5 [==============================] - 4s 809ms/step - loss: 0.2792 - accuracy: 0.8800 - val_loss: 0.1592 - val_accuracy: 1.0000\n",
            "Epoch 41/50\n",
            "5/5 [==============================] - 4s 735ms/step - loss: 0.1252 - accuracy: 0.9600 - val_loss: 0.1028 - val_accuracy: 1.0000\n",
            "Epoch 42/50\n",
            "5/5 [==============================] - 3s 627ms/step - loss: 0.1584 - accuracy: 0.9600 - val_loss: 0.5165 - val_accuracy: 0.8000\n",
            "Epoch 43/50\n",
            "5/5 [==============================] - 3s 573ms/step - loss: 0.2389 - accuracy: 0.8800 - val_loss: 0.1549 - val_accuracy: 1.0000\n",
            "Epoch 44/50\n",
            "5/5 [==============================] - 4s 834ms/step - loss: 0.1787 - accuracy: 0.9200 - val_loss: 0.1219 - val_accuracy: 1.0000\n",
            "Epoch 45/50\n",
            "5/5 [==============================] - 3s 575ms/step - loss: 0.3257 - accuracy: 0.9200 - val_loss: 0.2167 - val_accuracy: 0.8000\n",
            "Epoch 46/50\n",
            "5/5 [==============================] - 3s 587ms/step - loss: 0.3246 - accuracy: 0.8800 - val_loss: 0.1152 - val_accuracy: 1.0000\n",
            "Epoch 47/50\n",
            "5/5 [==============================] - 4s 941ms/step - loss: 0.1720 - accuracy: 0.8800 - val_loss: 0.3260 - val_accuracy: 0.6000\n",
            "Epoch 48/50\n",
            "5/5 [==============================] - 3s 666ms/step - loss: 0.2147 - accuracy: 0.8800 - val_loss: 0.2150 - val_accuracy: 1.0000\n",
            "Epoch 49/50\n",
            "5/5 [==============================] - 3s 679ms/step - loss: 0.2231 - accuracy: 0.8800 - val_loss: 0.2672 - val_accuracy: 0.8000\n",
            "Epoch 50/50\n",
            "5/5 [==============================] - 4s 818ms/step - loss: 0.1635 - accuracy: 0.8800 - val_loss: 0.3871 - val_accuracy: 0.8000\n",
            "dict_keys(['loss', 'accuracy', 'val_loss', 'val_accuracy'])\n",
            "dict_values([[0.15938402712345123, 0.13431668281555176, 0.2034485936164856, 0.16807568073272705, 0.1687605232000351, 0.05273590609431267, 0.32816383242607117, 0.40876346826553345, 0.1910489946603775, 0.1724172979593277, 0.07909249514341354, 0.23846744000911713, 0.12081731110811234, 0.17088530957698822, 0.07139252871274948, 0.18047836422920227, 0.08175431936979294, 0.44177383184432983, 0.37585872411727905, 0.18542152643203735, 0.5229761004447937, 0.14552730321884155, 0.20969191193580627, 0.10756319761276245, 0.19613517820835114, 0.1970064342021942, 0.14318250119686127, 0.07376959174871445, 0.23197130858898163, 0.0901956781744957, 0.1254553198814392, 0.04225470498204231, 0.30576229095458984, 0.1368335485458374, 0.48766693472862244, 0.40449783205986023, 0.7689924836158752, 0.30555999279022217, 0.27136170864105225, 0.27918675541877747, 0.12520430982112885, 0.15838132798671722, 0.23886796832084656, 0.17873156070709229, 0.3257395923137665, 0.3246381878852844, 0.1720222532749176, 0.21465057134628296, 0.22307118773460388, 0.16350772976875305], [0.9200000166893005, 0.9200000166893005, 0.9200000166893005, 0.9599999785423279, 0.9130434989929199, 0.9599999785423279, 0.800000011920929, 0.8799999952316284, 0.8260869383811951, 0.9200000166893005, 0.9599999785423279, 0.8799999952316284, 0.9599999785423279, 0.9200000166893005, 0.9599999785423279, 0.9599999785423279, 0.9599999785423279, 0.8695651888847351, 0.8799999952316284, 0.9200000166893005, 0.7599999904632568, 0.9200000166893005, 0.9599999785423279, 0.9599999785423279, 0.9599999785423279, 0.9200000166893005, 0.9599999785423279, 0.9599999785423279, 0.9200000166893005, 0.9599999785423279, 0.9599999785423279, 1.0, 0.8799999952316284, 0.9200000166893005, 0.7599999904632568, 0.800000011920929, 0.739130437374115, 0.9200000166893005, 0.9200000166893005, 0.8799999952316284, 0.9599999785423279, 0.9599999785423279, 0.8799999952316284, 0.9200000166893005, 0.9200000166893005, 0.8799999952316284, 0.8799999952316284, 0.8799999952316284, 0.8799999952316284, 0.8799999952316284], [0.01743181049823761, 0.18593069911003113, 0.11247558891773224, 1.85207200050354, 0.012647186405956745, 0.02207721397280693, 0.13592921197414398, 0.10189908742904663, 0.02439124323427677, 0.3147101402282715, 0.5033480525016785, 0.0025490946136415005, 0.5698679089546204, 0.04338304325938225, 0.07453573495149612, 0.257150799036026, 0.3133527636528015, 0.22262421250343323, 0.011025977320969105, 0.2126445770263672, 0.0752011090517044, 0.1515538990497589, 0.021125871688127518, 0.19101886451244354, 0.17270345985889435, 0.12978996336460114, 0.059784434735774994, 0.549289882183075, 0.08600101619958878, 0.5921105146408081, 0.0006287593860179186, 0.6647440195083618, 0.004415254574269056, 0.18091073632240295, 0.002717557828873396, 1.0180277824401855, 0.062220145016908646, 0.3919951319694519, 0.057669807225465775, 0.1592157781124115, 0.10281004756689072, 0.5164972543716431, 0.15492203831672668, 0.12188895791769028, 0.21674272418022156, 0.1151711493730545, 0.3260067403316498, 0.21501486003398895, 0.2671589255332947, 0.38710176944732666], [1.0, 1.0, 1.0, 0.6000000238418579, 1.0, 1.0, 1.0, 1.0, 1.0, 0.800000011920929, 0.800000011920929, 1.0, 0.800000011920929, 1.0, 1.0, 0.800000011920929, 0.800000011920929, 1.0, 1.0, 0.800000011920929, 1.0, 1.0, 1.0, 0.800000011920929, 1.0, 1.0, 1.0, 0.800000011920929, 1.0, 0.6000000238418579, 1.0, 0.800000011920929, 1.0, 1.0, 1.0, 0.800000011920929, 1.0, 0.800000011920929, 1.0, 1.0, 1.0, 0.800000011920929, 1.0, 1.0, 0.800000011920929, 1.0, 0.6000000238418579, 1.0, 0.800000011920929, 0.800000011920929]])\n"
          ]
        }
      ],
      "source": [
        "# model training\n",
        "history = model.fit( \n",
        "            train_generator,\n",
        "            steps_per_epoch = 5 ,\n",
        "            epochs = 50,\n",
        "            validation_data = val_generator,\n",
        "            validation_steps = 1,\n",
        "            verbose = 1\n",
        ")\n",
        "\n",
        "# print(result)\n",
        "print(history.history.keys())\n",
        "print((history.history.values()))"
      ]
    },
    {
      "cell_type": "code",
      "execution_count": 11,
      "metadata": {
        "colab": {
          "base_uri": "https://localhost:8080/",
          "height": 545
        },
        "id": "nWsAKoILd0GT",
        "outputId": "ae46dcda-2c6f-4f1e-dd29-ecd33cadad67"
      },
      "outputs": [
        {
          "data": {
            "image/png": "[encoded data removed]",
            "text/plain": [
              "<Figure size 432x288 with 1 Axes>"
            ]
          },
          "metadata": {
            "needs_background": "light"
          },
          "output_type": "display_data"
        },
        {
          "data": {
            "image/png": "[encoded data removed]",
            "text/plain": [
              "<Figure size 432x288 with 1 Axes>"
            ]
          },
          "metadata": {
            "needs_background": "light"
          },
          "output_type": "display_data"
        }
      ],
      "source": [
        "# grafik akurasi\n",
        "\n",
        "%matplotlib inline\n",
        "\n",
        "import matplotlib.image as mpimg\n",
        "import matplotlib.pyplot as plt\n",
        "\n",
        "acc = history.history['accuracy']\n",
        "val_acc = history.history['val_accuracy']\n",
        "loss = history.history['loss']\n",
        "val_loss = history.history['val_loss']\n",
        "\n",
        "epochs = range(len(acc))\n",
        "\n",
        "plt.plot(epochs, acc, 'r', label = 'Training Accuracy')\n",
        "plt.plot(epochs, val_acc, 'b', label = 'Validation Accuracy')\n",
        "plt.title('Trainign and Validation Accuracy')\n",
        "plt.legend(loc = 'best')\n",
        "plt.show()\n",
        "\n",
        "plt.plot(epochs, loss, 'r', label = 'Training Loss')\n",
        "plt.plot(epochs, val_loss, 'b', label = 'Validation Loss')\n",
        "plt.title('Trainign and Validation Loss')\n",
        "plt.legend(loc = 'best')\n",
        "plt.show()\n"
      ]
    },
    {
      "cell_type": "code",
      "execution_count": 12,
      "metadata": {
        "colab": {
          "base_uri": "https://localhost:8080/",
          "height": 362,
          "resources": {
            "http://localhost:8080/nbextensions/google.colab/files.js": {
              "data": "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",
              "headers": [
                [
                  "content-type",
                  "application/javascript"
                ]
              ],
              "ok": true,
              "status": 200,
              "status_text": ""
            }
          }
        },
        "id": "P-scM7-Fd4WB",
        "outputId": "f661f3cf-d98a-4538-8c2c-5a12a2cf701d"
      },
      "outputs": [
        {
          "ename": "NameError",
          "evalue": "name 'files' is not defined",
          "output_type": "error",
          "traceback": [
            "\u001b[1;31m---------------------------------------------------------------------------\u001b[0m",
            "\u001b[1;31mNameError\u001b[0m                                 Traceback (most recent call last)",
            "Input \u001b[1;32mIn [12]\u001b[0m, in \u001b[0;36m<module>\u001b[1;34m\u001b[0m\n\u001b[0;32m      3\u001b[0m \u001b[38;5;28;01mfrom\u001b[39;00m \u001b[38;5;21;01mkeras\u001b[39;00m\u001b[38;5;21;01m.\u001b[39;00m\u001b[38;5;21;01mpreprocessing\u001b[39;00m \u001b[38;5;28;01mimport\u001b[39;00m image\n\u001b[0;32m      4\u001b[0m \u001b[38;5;28;01mimport\u001b[39;00m \u001b[38;5;21;01mos\u001b[39;00m\u001b[38;5;241m,\u001b[39m \u001b[38;5;21;01mos\u001b[39;00m\u001b[38;5;21;01m.\u001b[39;00m\u001b[38;5;21;01mpath\u001b[39;00m\n\u001b[1;32m----> 6\u001b[0m uploaded \u001b[38;5;241m=\u001b[39m \u001b[43mfiles\u001b[49m\u001b[38;5;241m.\u001b[39mupload()\n\u001b[0;32m      8\u001b[0m \u001b[38;5;28;01mfor\u001b[39;00m fn \u001b[38;5;129;01min\u001b[39;00m uploaded\u001b[38;5;241m.\u001b[39mkeys():\n\u001b[0;32m      9\u001b[0m \n\u001b[0;32m     10\u001b[0m \u001b[38;5;66;03m# prediction images\u001b[39;00m\n\u001b[0;32m     12\u001b[0m   path \u001b[38;5;241m=\u001b[39m fn\n",
            "\u001b[1;31mNameError\u001b[0m: name 'files' is not defined"
          ]
        }
      ],
      "source": [
        "import numpy as np\n",
        "from keras.preprocessing import image\n",
        "from google.colab import files\n",
        "\n",
        "uploaded = files.upload()\n",
        "\n",
        "for fn in uploaded.keys():\n",
        "\n",
        "# prediction images - SIlahkan di Runnig di Google Colab\n",
        "\n",
        "  path = fn\n",
        "  img = image.load_img(path, target_size = (150, 150))\n",
        "  imgplot = plt.imshow(img)\n",
        "  x = image.img_to_array(img)\n",
        "  x = np.expand_dims(x, axis = 0)\n",
        "\n",
        "  images = np.vstack([x])\n",
        "  classes = model.predict(images, batch_size = 100)\n",
        "\n",
        "  print(fn)\n",
        "\n",
        "  class_list = os.listdir(train_dir)\n",
        "\n",
        "  print(fn)\n",
        "  if classes[0][0]==1:\n",
        "    print('Botol Jenis HDPE')\n",
        "  elif classes[0][3]==1:\n",
        "    print('Botol Jenis PP')\n",
        "  elif classes[0][2]==1:\n",
        "    print('Botol Jenis PET')\n",
        "  elif classes[0][1]==1:\n",
        "    print('Botol Jenis LDPE')\n",
        "  else:\n",
        "    print('Botol Jenis unknown')"
      ]
    }
  ],
  "metadata": {
    "colab": {
      "name": "trial 3",
      "provenance": []
    },
    "kernelspec": {
      "display_name": "Python 3",
      "name": "python3"
    },
    "language_info": {
      "codemirror_mode": {
        "name": "ipython",
        "version": 3
      },
      "file_extension": ".py",
      "mimetype": "text/x-python",
      "name": "python",
      "nbconvert_exporter": "python",
      "pygments_lexer": "ipython3",
      "version": "3.10.2"
    }
  },
  "nbformat": 4,
  "nbformat_minor": 0
}
