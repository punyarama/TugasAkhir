{
  "cells": [
    {
      "cell_type": "code",
      "execution_count": 1,
      "metadata": {
        "colab": {
          "base_uri": "https://localhost:8080/",
          "height": 0
        },
        "id": "91OaXBVb4NcS",
        "outputId": "f3e0f888-8f2d-40d7-bda6-9c87cf062a7d"
      },
      "outputs": [],
      "source": [
        "import os\n",
        "from PIL import Image\n",
        "\n",
        "base_dir = ('D:\\KULIAH\\Skripsi\\DATASET\\Warung Botol')"
      ]
    },
    {
      "cell_type": "code",
      "execution_count": 2,
      "metadata": {
        "id": "o44FEQXo4xHe"
      },
      "outputs": [],
      "source": [
        "# menentukan direktori\n",
        "train_dir = os.path.join(base_dir, 'train')\n",
        "validation_dir = os.path.join(base_dir, 'validasi')"
      ]
    },
    {
      "cell_type": "code",
      "execution_count": 3,
      "metadata": {
        "colab": {
          "base_uri": "https://localhost:8080/",
          "height": 0
        },
        "id": "ezhebQCz435U",
        "outputId": "a2d14076-b8c1-4812-8a77-ff79f9095797"
      },
      "outputs": [
        {
          "name": "stdout",
          "output_type": "stream",
          "text": [
            "Jumlah Data Train Tiap Kelas\n",
            "jumlah gambar train PET : 77\n",
            "jumlah gambar train HDPE : 75\n"
          ]
        }
      ],
      "source": [
        "# menentukan direktori isi folder training\n",
        "\n",
        "PET_train_dir = os.path.join(train_dir, 'PET')\n",
        "HDPE_train_dir = os.path.join(train_dir, 'HDPE')\n",
        "\n",
        "print(\"Jumlah Data Train Tiap Kelas\")\n",
        "print('jumlah gambar train PET :', len(os.listdir(PET_train_dir)))\n",
        "print('jumlah gambar train HDPE :', len(os.listdir(HDPE_train_dir)))"
      ]
    },
    {
      "cell_type": "code",
      "execution_count": 4,
      "metadata": {
        "colab": {
          "base_uri": "https://localhost:8080/",
          "height": 0
        },
        "id": "B2LHx4hv45Om",
        "outputId": "ec736886-dc79-44d9-ecdb-824350632c44"
      },
      "outputs": [
        {
          "name": "stdout",
          "output_type": "stream",
          "text": [
            "Jumlah Data Validasi Tiap Kelas\n",
            "jumlah gambar validasi PET : 18\n",
            "jumlah gambar validasi HDPE : 13\n"
          ]
        }
      ],
      "source": [
        "# menentukan direktori isi folder validasi\n",
        "PET_val_dir = os.path.join(validation_dir, 'PET')\n",
        "HDPE_val_dir = os.path.join(validation_dir, 'HDPE')\n",
        "\n",
        "print(\"Jumlah Data Validasi Tiap Kelas\")\n",
        "print('jumlah gambar validasi PET :', len(os.listdir(PET_val_dir)))\n",
        "print('jumlah gambar validasi HDPE :', len(os.listdir(HDPE_val_dir)))"
      ]
    },
    {
      "cell_type": "code",
      "execution_count": 5,
      "metadata": {
        "id": "MViyrg-_48ZT"
      },
      "outputs": [],
      "source": [
        "# preprocessing\n",
        "\n",
        "import tensorflow as tf\n",
        "from tensorflow.keras.optimizers import Adam\n",
        "from tensorflow.keras.preprocessing.image import ImageDataGenerator\n",
        "\n",
        "train_datagen = ImageDataGenerator(\n",
        "                  rescale = 1/255,\n",
        "                  rotation_range = 90,\n",
        "                  horizontal_flip = True,\n",
        "                  shear_range = 0.3,\n",
        "                  fill_mode = 'nearest',\n",
        "                  width_shift_range = 0.2,\n",
        "                  height_shift_range = 0.2,\n",
        "                  zoom_range = 0.1\n",
        ")\n",
        "\n",
        "val_datagen = ImageDataGenerator(\n",
        "                  rescale = 1/255,\n",
        "                  rotation_range = 90,\n",
        "                  horizontal_flip = True,\n",
        "                  shear_range = 0.3,\n",
        "                  fill_mode = 'nearest',\n",
        "                  width_shift_range = 0.2,\n",
        "                  height_shift_range = 0.2,\n",
        "                  zoom_range = 0.1\n",
        ")\n",
        " "
      ]
    },
    {
      "cell_type": "code",
      "execution_count": 6,
      "metadata": {
        "colab": {
          "base_uri": "https://localhost:8080/",
          "height": 0
        },
        "id": "MNZAmpzI5BnI",
        "outputId": "cc60d92f-47f7-4bad-aefa-9219dda3731e"
      },
      "outputs": [
        {
          "name": "stdout",
          "output_type": "stream",
          "text": [
            "Found 152 images belonging to 2 classes.\n",
            "Found 31 images belonging to 2 classes.\n"
          ]
        }
      ],
      "source": [
        "# target\n",
        "\n",
        "train_generator = train_datagen.flow_from_directory(\n",
        "    train_dir,\n",
        "    target_size = (150, 150),\n",
        "    batch_size = 5,\n",
        "    class_mode = 'categorical'\n",
        ")\n",
        "\n",
        "val_generator = val_datagen.flow_from_directory(\n",
        "    validation_dir,\n",
        "    target_size = (150, 150),\n",
        "    batch_size = 5,\n",
        "    class_mode = 'categorical'\n",
        ")"
      ]
    },
    {
      "cell_type": "code",
      "execution_count": 7,
      "metadata": {
        "id": "_QSMdRL45Fhe"
      },
      "outputs": [],
      "source": [
        "# model CNN\n",
        "\n",
        "model = tf.keras.models.Sequential([\n",
        "          tf.keras.layers.Conv2D(16,(4,4), activation = 'relu', input_shape = (150,150,3)),\n",
        "          tf.keras.layers.MaxPooling2D(3,3),\n",
        "          tf.keras.layers.Conv2D(16,(4,4), activation = 'relu'),\n",
        "          tf.keras.layers.MaxPooling2D(3,3),\n",
        "          tf.keras.layers.Conv2D(16,(4,4), activation = 'relu'),\n",
        "          tf.keras.layers.MaxPooling2D(3,3),\n",
        "          tf.keras.layers.Flatten(),\n",
        "          tf.keras.layers.Dense(128,activation = 'relu'),\n",
        "          tf.keras.layers.Dropout(0.5, seed = 128),\n",
        "          tf.keras.layers.Dense(128,activation = 'relu'),\n",
        "          tf.keras.layers.Dropout(0.5, seed = 128),\n",
        "          tf.keras.layers.Dense(128,activation = 'relu'),\n",
        "          tf.keras.layers.Dropout(0.5, seed = 128),\n",
        "          tf.keras.layers.Dense(2,activation = 'sigmoid'),\n",
        "])"
      ]
    },
    {
      "cell_type": "code",
      "execution_count": 8,
      "metadata": {
        "colab": {
          "base_uri": "https://localhost:8080/",
          "height": 0
        },
        "id": "jXw8HWTg5IcI",
        "outputId": "aa0c4012-ef81-414b-b4a8-46f5a3331050"
      },
      "outputs": [
        {
          "name": "stdout",
          "output_type": "stream",
          "text": [
            "Model: \"sequential\"\n",
            "_________________________________________________________________\n",
            " Layer (type)                Output Shape              Param #   \n",
            "=================================================================\n",
            " conv2d (Conv2D)             (None, 147, 147, 16)      784       \n",
            "                                                                 \n",
            " max_pooling2d (MaxPooling2D  (None, 49, 49, 16)       0         \n",
            " )                                                               \n",
            "                                                                 \n",
            " conv2d_1 (Conv2D)           (None, 46, 46, 16)        4112      \n",
            "                                                                 \n",
            " max_pooling2d_1 (MaxPooling  (None, 15, 15, 16)       0         \n",
            " 2D)                                                             \n",
            "                                                                 \n",
            " conv2d_2 (Conv2D)           (None, 12, 12, 16)        4112      \n",
            "                                                                 \n",
            " max_pooling2d_2 (MaxPooling  (None, 4, 4, 16)         0         \n",
            " 2D)                                                             \n",
            "                                                                 \n",
            " flatten (Flatten)           (None, 256)               0         \n",
            "                                                                 \n",
            " dense (Dense)               (None, 128)               32896     \n",
            "                                                                 \n",
            " dropout (Dropout)           (None, 128)               0         \n",
            "                                                                 \n",
            " dense_1 (Dense)             (None, 128)               16512     \n",
            "                                                                 \n",
            " dropout_1 (Dropout)         (None, 128)               0         \n",
            "                                                                 \n",
            " dense_2 (Dense)             (None, 128)               16512     \n",
            "                                                                 \n",
            " dropout_2 (Dropout)         (None, 128)               0         \n",
            "                                                                 \n",
            " dense_3 (Dense)             (None, 2)                 258       \n",
            "                                                                 \n",
            "=================================================================\n",
            "Total params: 75,186\n",
            "Trainable params: 75,186\n",
            "Non-trainable params: 0\n",
            "_________________________________________________________________\n"
          ]
        }
      ],
      "source": [
        "# ringkasan model CNN\n",
        "\n",
        "model.summary()"
      ]
    },
    {
      "cell_type": "code",
      "execution_count": 9,
      "metadata": {
        "id": "FvFvXonN5LI1"
      },
      "outputs": [],
      "source": [
        "# compile model\n",
        "\n",
        "model.compile(loss = 'categorical_crossentropy',\n",
        "              optimizer = 'Adam',\n",
        "              metrics = ['accuracy'])"
      ]
    },
    {
      "cell_type": "code",
      "execution_count": 21,
      "metadata": {
        "colab": {
          "base_uri": "https://localhost:8080/",
          "height": 0
        },
        "id": "Xwewi5CncOgI",
        "outputId": "3d7691bd-4151-4d23-af1b-e118d8033909"
      },
      "outputs": [
        {
          "name": "stdout",
          "output_type": "stream",
          "text": [
            "Epoch 1/10\n",
            "15/15 [==============================] - 11s 718ms/step - loss: 0.1993 - accuracy: 0.9333 - val_loss: 0.2547 - val_accuracy: 0.9333\n",
            "Epoch 2/10\n",
            "15/15 [==============================] - 10s 691ms/step - loss: 0.1521 - accuracy: 0.9583 - val_loss: 0.2208 - val_accuracy: 0.9333\n",
            "Epoch 3/10\n",
            "15/15 [==============================] - 7s 464ms/step - loss: 0.1306 - accuracy: 0.9861 - val_loss: 0.4931 - val_accuracy: 0.8667\n",
            "Epoch 4/10\n",
            "15/15 [==============================] - 4s 296ms/step - loss: 0.1571 - accuracy: 0.9600 - val_loss: 0.3043 - val_accuracy: 0.8667\n",
            "Epoch 5/10\n",
            "15/15 [==============================] - 4s 295ms/step - loss: 0.1639 - accuracy: 0.9600 - val_loss: 0.2405 - val_accuracy: 0.9333\n",
            "Epoch 6/10\n",
            "15/15 [==============================] - 4s 286ms/step - loss: 0.1549 - accuracy: 0.9467 - val_loss: 0.2342 - val_accuracy: 0.9333\n",
            "Epoch 7/10\n",
            "15/15 [==============================] - 5s 310ms/step - loss: 0.1635 - accuracy: 0.9333 - val_loss: 0.4164 - val_accuracy: 0.8667\n",
            "Epoch 8/10\n",
            "15/15 [==============================] - 5s 327ms/step - loss: 0.1457 - accuracy: 0.9333 - val_loss: 0.2264 - val_accuracy: 0.9333\n",
            "Epoch 9/10\n",
            "15/15 [==============================] - 6s 413ms/step - loss: 0.0801 - accuracy: 0.9733 - val_loss: 0.2469 - val_accuracy: 0.9333\n",
            "Epoch 10/10\n",
            "15/15 [==============================] - 7s 446ms/step - loss: 0.0527 - accuracy: 0.9733 - val_loss: 0.2541 - val_accuracy: 0.9333\n",
            "dict_keys(['loss', 'accuracy', 'val_loss', 'val_accuracy'])\n",
            "dict_values([[0.19932270050048828, 0.15209132432937622, 0.13055947422981262, 0.15714508295059204, 0.16394196450710297, 0.1548725962638855, 0.16349773108959198, 0.1456815004348755, 0.08013861626386642, 0.052663616836071014], [0.9333333373069763, 0.9583333134651184, 0.9861111044883728, 0.9599999785423279, 0.9599999785423279, 0.9466666579246521, 0.9333333373069763, 0.9333333373069763, 0.9733333587646484, 0.9733333587646484], [0.2547207176685333, 0.2207576185464859, 0.4931330382823944, 0.304321825504303, 0.240478053689003, 0.23417727649211884, 0.41642680764198303, 0.22642594575881958, 0.2469416707754135, 0.25413236021995544], [0.9333333373069763, 0.9333333373069763, 0.8666666746139526, 0.8666666746139526, 0.9333333373069763, 0.9333333373069763, 0.8666666746139526, 0.9333333373069763, 0.9333333373069763, 0.9333333373069763]])\n"
          ]
        }
      ],
      "source": [
        "# model training\n",
        "history = model.fit( \n",
        "            train_generator,\n",
        "            steps_per_epoch = 15 ,\n",
        "            epochs = 10,\n",
        "            validation_data = val_generator,\n",
        "            validation_steps = 3,\n",
        "            verbose = 1\n",
        ")\n",
        "\n",
        "# print(result)\n",
        "print(history.history.keys())\n",
        "print((history.history.values()))"
      ]
    },
    {
      "cell_type": "code",
      "execution_count": 11,
      "metadata": {
        "colab": {
          "base_uri": "https://localhost:8080/",
          "height": 545
        },
        "id": "nWsAKoILd0GT",
        "outputId": "ae46dcda-2c6f-4f1e-dd29-ecd33cadad67"
      },
      "outputs": [
        {
          "data": {
            "image/png": "[encoded data removed]",
            "text/plain": [
              "<Figure size 432x288 with 1 Axes>"
            ]
          },
          "metadata": {
            "needs_background": "light"
          },
          "output_type": "display_data"
        },
        {
          "data": {
            "image/png": "[encoded data removed]",
            "text/plain": [
              "<Figure size 432x288 with 1 Axes>"
            ]
          },
          "metadata": {
            "needs_background": "light"
          },
          "output_type": "display_data"
        }
      ],
      "source": [
        "# grafik akurasi\n",
        "\n",
        "%matplotlib inline\n",
        "\n",
        "import matplotlib.image as mpimg\n",
        "import matplotlib.pyplot as plt\n",
        "\n",
        "acc = history.history['accuracy']\n",
        "val_acc = history.history['val_accuracy']\n",
        "loss = history.history['loss']\n",
        "val_loss = history.history['val_loss']\n",
        "\n",
        "epochs = range(len(acc))\n",
        "\n",
        "plt.plot(epochs, acc, 'r', label = 'Training Accuracy')\n",
        "plt.plot(epochs, val_acc, 'b', label = 'Validation Accuracy')\n",
        "plt.title('Trainign and Validation Accuracy')\n",
        "plt.legend(loc = 'best')\n",
        "plt.show()\n",
        "\n",
        "plt.plot(epochs, loss, 'r', label = 'Training Loss')\n",
        "plt.plot(epochs, val_loss, 'b', label = 'Validation Loss')\n",
        "plt.title('Trainign and Validation Loss')\n",
        "plt.legend(loc = 'best')\n",
        "plt.show()\n"
      ]
    }
  ],
  "metadata": {
    "colab": {
      "name": "trial 3",
      "provenance": []
    },
    "kernelspec": {
      "display_name": "Python 3",
      "name": "python3"
    },
    "language_info": {
      "codemirror_mode": {
        "name": "ipython",
        "version": 3
      },
      "file_extension": ".py",
      "mimetype": "text/x-python",
      "name": "python",
      "nbconvert_exporter": "python",
      "pygments_lexer": "ipython3",
      "version": "3.10.2"
    }
  },
  "nbformat": 4,
  "nbformat_minor": 0
}
