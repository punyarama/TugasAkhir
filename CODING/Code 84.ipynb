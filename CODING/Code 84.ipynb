{
  "cells": [
    {
      "cell_type": "code",
      "execution_count": 1,
      "metadata": {
        "colab": {
          "base_uri": "https://localhost:8080/",
          "height": 0
        },
        "id": "91OaXBVb4NcS",
        "outputId": "f3e0f888-8f2d-40d7-bda6-9c87cf062a7d"
      },
      "outputs": [],
      "source": [
        "import os\n",
        "from PIL import Image\n",
        "\n",
        "base_dir = ('D:\\KULIAH\\Skripsi\\DATASET\\Warung Botol')"
      ]
    },
    {
      "cell_type": "code",
      "execution_count": 2,
      "metadata": {
        "id": "o44FEQXo4xHe"
      },
      "outputs": [],
      "source": [
        "# menentukan direktori\n",
        "train_dir = os.path.join(base_dir, 'train_tutup')\n",
        "validation_dir = os.path.join(base_dir, 'validasi_tutup')"
      ]
    },
    {
      "cell_type": "code",
      "execution_count": 3,
      "metadata": {
        "colab": {
          "base_uri": "https://localhost:8080/",
          "height": 0
        },
        "id": "ezhebQCz435U",
        "outputId": "a2d14076-b8c1-4812-8a77-ff79f9095797"
      },
      "outputs": [
        {
          "name": "stdout",
          "output_type": "stream",
          "text": [
            "Jumlah Data Train Tiap Kelas\n",
            "jumlah gambar train PET : 76\n",
            "jumlah gambar train HDPE : 74\n"
          ]
        }
      ],
      "source": [
        "# menentukan direktori isi folder training\n",
        "\n",
        "PET_train_dir = os.path.join(train_dir, 'PET')\n",
        "HDPE_train_dir = os.path.join(train_dir, 'HDPE')\n",
        "\n",
        "print(\"Jumlah Data Train Tiap Kelas\")\n",
        "print('jumlah gambar train PET :', len(os.listdir(PET_train_dir)))\n",
        "print('jumlah gambar train HDPE :', len(os.listdir(HDPE_train_dir)))"
      ]
    },
    {
      "cell_type": "code",
      "execution_count": 4,
      "metadata": {
        "colab": {
          "base_uri": "https://localhost:8080/",
          "height": 0
        },
        "id": "B2LHx4hv45Om",
        "outputId": "ec736886-dc79-44d9-ecdb-824350632c44"
      },
      "outputs": [
        {
          "name": "stdout",
          "output_type": "stream",
          "text": [
            "Jumlah Data Validasi Tiap Kelas\n",
            "jumlah gambar validasi PET : 16\n",
            "jumlah gambar validasi HDPE : 15\n"
          ]
        }
      ],
      "source": [
        "# menentukan direktori isi folder validasi\n",
        "PET_val_dir = os.path.join(validation_dir, 'PET')\n",
        "HDPE_val_dir = os.path.join(validation_dir, 'HDPE')\n",
        "\n",
        "print(\"Jumlah Data Validasi Tiap Kelas\")\n",
        "print('jumlah gambar validasi PET :', len(os.listdir(PET_val_dir)))\n",
        "print('jumlah gambar validasi HDPE :', len(os.listdir(HDPE_val_dir)))"
      ]
    },
    {
      "cell_type": "code",
      "execution_count": 5,
      "metadata": {
        "id": "MViyrg-_48ZT"
      },
      "outputs": [],
      "source": [
        "# preprocessing\n",
        "\n",
        "import tensorflow as tf\n",
        "from tensorflow.keras.optimizers import Adam\n",
        "from tensorflow.keras.preprocessing.image import ImageDataGenerator\n",
        "\n",
        "train_datagen = ImageDataGenerator(\n",
        "                  rescale = 1/64,\n",
        "                  rotation_range = 15,\n",
        "                  horizontal_flip = True,\n",
        "                  shear_range = 0.2,\n",
        "                  fill_mode = 'nearest',\n",
        "                  width_shift_range = 0.1,\n",
        "                  height_shift_range = 0.3,\n",
        "                  zoom_range = 0.4\n",
        ")\n",
        "\n",
        "val_datagen = ImageDataGenerator(\n",
        "                  rescale = 1/64,\n",
        "                  rotation_range = 15,\n",
        "                  horizontal_flip = True,\n",
        "                  shear_range = 0.2,\n",
        "                  fill_mode = 'nearest',\n",
        "                  width_shift_range = 0.1,\n",
        "                  height_shift_range = 0.3,\n",
        "                  zoom_range = 0.4\n",
        ")\n",
        " "
      ]
    },
    {
      "cell_type": "code",
      "execution_count": 6,
      "metadata": {
        "colab": {
          "base_uri": "https://localhost:8080/",
          "height": 0
        },
        "id": "MNZAmpzI5BnI",
        "outputId": "cc60d92f-47f7-4bad-aefa-9219dda3731e"
      },
      "outputs": [
        {
          "name": "stdout",
          "output_type": "stream",
          "text": [
            "Found 150 images belonging to 2 classes.\n",
            "Found 31 images belonging to 2 classes.\n"
          ]
        }
      ],
      "source": [
        "# target\n",
        "\n",
        "train_generator = train_datagen.flow_from_directory(\n",
        "    train_dir,\n",
        "    target_size = (150, 150),\n",
        "    batch_size = 5,\n",
        "    class_mode = 'categorical'\n",
        ")\n",
        "\n",
        "val_generator = val_datagen.flow_from_directory(\n",
        "    validation_dir,\n",
        "    target_size = (150, 150),\n",
        "    batch_size = 5,\n",
        "    class_mode = 'categorical'\n",
        ")"
      ]
    },
    {
      "cell_type": "code",
      "execution_count": 7,
      "metadata": {
        "id": "_QSMdRL45Fhe"
      },
      "outputs": [],
      "source": [
        "# model CNN\n",
        "\n",
        "model = tf.keras.models.Sequential([\n",
        "          tf.keras.layers.Conv2D(16,(4,4), activation = 'relu', input_shape = (150,150,3)),\n",
        "          tf.keras.layers.MaxPooling2D(3,3),\n",
        "          tf.keras.layers.Conv2D(16,(4,4), activation = 'relu'),\n",
        "          tf.keras.layers.MaxPooling2D(3,3),\n",
        "          tf.keras.layers.Conv2D(16,(4,4), activation = 'relu'),\n",
        "          tf.keras.layers.MaxPooling2D(3,3),\n",
        "          tf.keras.layers.Flatten(),\n",
        "          tf.keras.layers.Dense(128,activation = 'relu'),\n",
        "          tf.keras.layers.Dropout(0.5, seed = 128),\n",
        "          tf.keras.layers.Dense(2,activation = 'sigmoid'),\n",
        "])"
      ]
    },
    {
      "cell_type": "code",
      "execution_count": 8,
      "metadata": {
        "colab": {
          "base_uri": "https://localhost:8080/",
          "height": 0
        },
        "id": "jXw8HWTg5IcI",
        "outputId": "aa0c4012-ef81-414b-b4a8-46f5a3331050"
      },
      "outputs": [
        {
          "name": "stdout",
          "output_type": "stream",
          "text": [
            "Model: \"sequential\"\n",
            "_________________________________________________________________\n",
            " Layer (type)                Output Shape              Param #   \n",
            "=================================================================\n",
            " conv2d (Conv2D)             (None, 147, 147, 16)      784       \n",
            "                                                                 \n",
            " max_pooling2d (MaxPooling2D  (None, 49, 49, 16)       0         \n",
            " )                                                               \n",
            "                                                                 \n",
            " conv2d_1 (Conv2D)           (None, 46, 46, 16)        4112      \n",
            "                                                                 \n",
            " max_pooling2d_1 (MaxPooling  (None, 15, 15, 16)       0         \n",
            " 2D)                                                             \n",
            "                                                                 \n",
            " conv2d_2 (Conv2D)           (None, 12, 12, 16)        4112      \n",
            "                                                                 \n",
            " max_pooling2d_2 (MaxPooling  (None, 4, 4, 16)         0         \n",
            " 2D)                                                             \n",
            "                                                                 \n",
            " flatten (Flatten)           (None, 256)               0         \n",
            "                                                                 \n",
            " dense (Dense)               (None, 128)               32896     \n",
            "                                                                 \n",
            " dropout (Dropout)           (None, 128)               0         \n",
            "                                                                 \n",
            " dense_1 (Dense)             (None, 2)                 258       \n",
            "                                                                 \n",
            "=================================================================\n",
            "Total params: 42,162\n",
            "Trainable params: 42,162\n",
            "Non-trainable params: 0\n",
            "_________________________________________________________________\n"
          ]
        }
      ],
      "source": [
        "# ringkasan model CNN\n",
        "\n",
        "model.summary()"
      ]
    },
    {
      "cell_type": "code",
      "execution_count": 9,
      "metadata": {
        "id": "FvFvXonN5LI1"
      },
      "outputs": [],
      "source": [
        "# compile model\n",
        "\n",
        "model.compile(loss = 'categorical_crossentropy',\n",
        "              optimizer = 'Adam',\n",
        "              metrics = ['accuracy'])"
      ]
    },
    {
      "cell_type": "code",
      "execution_count": 17,
      "metadata": {
        "colab": {
          "base_uri": "https://localhost:8080/",
          "height": 0
        },
        "id": "Xwewi5CncOgI",
        "outputId": "3d7691bd-4151-4d23-af1b-e118d8033909"
      },
      "outputs": [
        {
          "name": "stdout",
          "output_type": "stream",
          "text": [
            "Epoch 1/30\n",
            "5/5 [==============================] - 1s 278ms/step - loss: 0.0327 - accuracy: 1.0000 - val_loss: 0.0021 - val_accuracy: 1.0000\n",
            "Epoch 2/30\n",
            "5/5 [==============================] - 1s 193ms/step - loss: 0.0897 - accuracy: 0.9600 - val_loss: 0.0013 - val_accuracy: 1.0000\n",
            "Epoch 3/30\n",
            "5/5 [==============================] - 1s 205ms/step - loss: 0.0302 - accuracy: 1.0000 - val_loss: 0.0080 - val_accuracy: 1.0000\n",
            "Epoch 4/30\n",
            "5/5 [==============================] - 1s 239ms/step - loss: 0.0705 - accuracy: 0.9600 - val_loss: 0.0069 - val_accuracy: 1.0000\n",
            "Epoch 5/30\n",
            "5/5 [==============================] - 1s 180ms/step - loss: 0.0068 - accuracy: 1.0000 - val_loss: 0.0020 - val_accuracy: 1.0000\n",
            "Epoch 6/30\n",
            "5/5 [==============================] - 1s 180ms/step - loss: 0.0117 - accuracy: 1.0000 - val_loss: 8.1339e-04 - val_accuracy: 1.0000\n",
            "Epoch 7/30\n",
            "5/5 [==============================] - 1s 183ms/step - loss: 0.0030 - accuracy: 1.0000 - val_loss: 2.2235e-04 - val_accuracy: 1.0000\n",
            "Epoch 8/30\n",
            "5/5 [==============================] - 1s 222ms/step - loss: 0.0026 - accuracy: 1.0000 - val_loss: 0.0015 - val_accuracy: 1.0000\n",
            "Epoch 9/30\n",
            "5/5 [==============================] - 1s 204ms/step - loss: 0.0117 - accuracy: 1.0000 - val_loss: 3.7564e-04 - val_accuracy: 1.0000\n",
            "Epoch 10/30\n",
            "5/5 [==============================] - 1s 193ms/step - loss: 0.0081 - accuracy: 1.0000 - val_loss: 0.0366 - val_accuracy: 1.0000\n",
            "Epoch 11/30\n",
            "5/5 [==============================] - 1s 206ms/step - loss: 0.1057 - accuracy: 0.9600 - val_loss: 0.0146 - val_accuracy: 1.0000\n",
            "Epoch 12/30\n",
            "5/5 [==============================] - 1s 231ms/step - loss: 0.1082 - accuracy: 0.9200 - val_loss: 6.5268e-05 - val_accuracy: 1.0000\n",
            "Epoch 13/30\n",
            "5/5 [==============================] - 1s 217ms/step - loss: 0.0298 - accuracy: 1.0000 - val_loss: 3.1259e-04 - val_accuracy: 1.0000\n",
            "Epoch 14/30\n",
            "5/5 [==============================] - 1s 225ms/step - loss: 0.0879 - accuracy: 0.9600 - val_loss: 0.0102 - val_accuracy: 1.0000\n",
            "Epoch 15/30\n",
            "5/5 [==============================] - 1s 212ms/step - loss: 0.0464 - accuracy: 1.0000 - val_loss: 0.0409 - val_accuracy: 1.0000\n",
            "Epoch 16/30\n",
            "5/5 [==============================] - 1s 274ms/step - loss: 0.0123 - accuracy: 1.0000 - val_loss: 0.8718 - val_accuracy: 0.8000\n",
            "Epoch 17/30\n",
            "5/5 [==============================] - 1s 226ms/step - loss: 0.0159 - accuracy: 1.0000 - val_loss: 0.0230 - val_accuracy: 1.0000\n",
            "Epoch 18/30\n",
            "5/5 [==============================] - 2s 420ms/step - loss: 0.0155 - accuracy: 1.0000 - val_loss: 0.0125 - val_accuracy: 1.0000\n",
            "Epoch 19/30\n",
            "5/5 [==============================] - 2s 416ms/step - loss: 0.0049 - accuracy: 1.0000 - val_loss: 1.0857e-04 - val_accuracy: 1.0000\n",
            "Epoch 20/30\n",
            "5/5 [==============================] - 2s 447ms/step - loss: 0.0140 - accuracy: 1.0000 - val_loss: 0.0111 - val_accuracy: 1.0000\n",
            "Epoch 21/30\n",
            "5/5 [==============================] - 1s 234ms/step - loss: 0.0934 - accuracy: 0.9600 - val_loss: 0.0022 - val_accuracy: 1.0000\n",
            "Epoch 22/30\n",
            "5/5 [==============================] - 1s 197ms/step - loss: 0.1921 - accuracy: 0.9200 - val_loss: 0.4511 - val_accuracy: 0.8000\n",
            "Epoch 23/30\n",
            "5/5 [==============================] - 1s 178ms/step - loss: 0.0264 - accuracy: 1.0000 - val_loss: 0.0175 - val_accuracy: 1.0000\n",
            "Epoch 24/30\n",
            "5/5 [==============================] - 1s 181ms/step - loss: 0.2740 - accuracy: 0.9200 - val_loss: 8.7359e-04 - val_accuracy: 1.0000\n",
            "Epoch 25/30\n",
            "5/5 [==============================] - 1s 259ms/step - loss: 0.0073 - accuracy: 1.0000 - val_loss: 0.1637 - val_accuracy: 0.8000\n",
            "Epoch 26/30\n",
            "5/5 [==============================] - 2s 466ms/step - loss: 0.3265 - accuracy: 0.8400 - val_loss: 0.0594 - val_accuracy: 1.0000\n",
            "Epoch 27/30\n",
            "5/5 [==============================] - 1s 239ms/step - loss: 0.1868 - accuracy: 0.9200 - val_loss: 3.1490 - val_accuracy: 0.6000\n",
            "Epoch 28/30\n",
            "5/5 [==============================] - 1s 196ms/step - loss: 0.3806 - accuracy: 0.8400 - val_loss: 0.0073 - val_accuracy: 1.0000\n",
            "Epoch 29/30\n",
            "5/5 [==============================] - 1s 209ms/step - loss: 0.0570 - accuracy: 1.0000 - val_loss: 0.0020 - val_accuracy: 1.0000\n",
            "Epoch 30/30\n",
            "5/5 [==============================] - 1s 292ms/step - loss: 0.2906 - accuracy: 0.8800 - val_loss: 0.0052 - val_accuracy: 1.0000\n",
            "dict_keys(['loss', 'accuracy', 'val_loss', 'val_accuracy'])\n",
            "dict_values([[0.03268791735172272, 0.08973904699087143, 0.03015737049281597, 0.07051923125982285, 0.0067509496584534645, 0.011747181415557861, 0.003042269265279174, 0.0025925186928361654, 0.011695129796862602, 0.008050836622714996, 0.10574702173471451, 0.10818620026111603, 0.029768042266368866, 0.08787734061479568, 0.04643256217241287, 0.012303470633924007, 0.015946203842759132, 0.015507481060922146, 0.00491292541846633, 0.013983066193759441, 0.09341387450695038, 0.1921280324459076, 0.026391448453068733, 0.2739933431148529, 0.007272264454513788, 0.3264921307563782, 0.18683527410030365, 0.38062918186187744, 0.056960463523864746, 0.2906182110309601], [1.0, 0.9599999785423279, 1.0, 0.9599999785423279, 1.0, 1.0, 1.0, 1.0, 1.0, 1.0, 0.9599999785423279, 0.9200000166893005, 1.0, 0.9599999785423279, 1.0, 1.0, 1.0, 1.0, 1.0, 1.0, 0.9599999785423279, 0.9200000166893005, 1.0, 0.9200000166893005, 1.0, 0.8399999737739563, 0.9200000166893005, 0.8399999737739563, 1.0, 0.8799999952316284], [0.0021382435224950314, 0.0013463787036016583, 0.007955996319651604, 0.006927091628313065, 0.0019976359326392412, 0.0008133949595503509, 0.00022235260985326022, 0.0015272655291482806, 0.0003756421501748264, 0.03664883226156235, 0.014578807167708874, 6.526843935716897e-05, 0.00031259481329470873, 0.010163557715713978, 0.040934231132268906, 0.8717527389526367, 0.022967275232076645, 0.012513210065662861, 0.00010857018787646666, 0.01105558592826128, 0.0021574096754193306, 0.4510877728462219, 0.017536116763949394, 0.0008735917508602142, 0.16369232535362244, 0.05942695215344429, 3.148993730545044, 0.007286050356924534, 0.0020368662662804127, 0.005164566915482283], [1.0, 1.0, 1.0, 1.0, 1.0, 1.0, 1.0, 1.0, 1.0, 1.0, 1.0, 1.0, 1.0, 1.0, 1.0, 0.800000011920929, 1.0, 1.0, 1.0, 1.0, 1.0, 0.800000011920929, 1.0, 1.0, 0.800000011920929, 1.0, 0.6000000238418579, 1.0, 1.0, 1.0]])\n"
          ]
        }
      ],
      "source": [
        "# model training\n",
        "history = model.fit( \n",
        "            train_generator,\n",
        "            steps_per_epoch = 5 ,\n",
        "            epochs = 30,\n",
        "            validation_data = val_generator,\n",
        "            validation_steps = 1,\n",
        "            verbose = 1\n",
        ")\n",
        "\n",
        "# print(result)\n",
        "print(history.history.keys())\n",
        "print((history.history.values()))"
      ]
    },
    {
      "cell_type": "code",
      "execution_count": 11,
      "metadata": {
        "colab": {
          "base_uri": "https://localhost:8080/",
          "height": 545
        },
        "id": "nWsAKoILd0GT",
        "outputId": "ae46dcda-2c6f-4f1e-dd29-ecd33cadad67"
      },
      "outputs": [
        {
          "data": {
            "image/png": "[encoded data removed]",
            "text/plain": [
              "<Figure size 432x288 with 1 Axes>"
            ]
          },
          "metadata": {
            "needs_background": "light"
          },
          "output_type": "display_data"
        },
        {
          "data": {
            "image/png": "[encoded data removed]",
            "text/plain": [
              "<Figure size 432x288 with 1 Axes>"
            ]
          },
          "metadata": {
            "needs_background": "light"
          },
          "output_type": "display_data"
        }
      ],
      "source": [
        "# grafik akurasi\n",
        "\n",
        "%matplotlib inline\n",
        "\n",
        "import matplotlib.image as mpimg\n",
        "import matplotlib.pyplot as plt\n",
        "\n",
        "acc = history.history['accuracy']\n",
        "val_acc = history.history['val_accuracy']\n",
        "loss = history.history['loss']\n",
        "val_loss = history.history['val_loss']\n",
        "\n",
        "epochs = range(len(acc))\n",
        "\n",
        "plt.plot(epochs, acc, 'r', label = 'Training Accuracy')\n",
        "plt.plot(epochs, val_acc, 'b', label = 'Validation Accuracy')\n",
        "plt.title('Trainign and Validation Accuracy')\n",
        "plt.legend(loc = 'best')\n",
        "plt.show()\n",
        "\n",
        "plt.plot(epochs, loss, 'r', label = 'Training Loss')\n",
        "plt.plot(epochs, val_loss, 'b', label = 'Validation Loss')\n",
        "plt.title('Trainign and Validation Loss')\n",
        "plt.legend(loc = 'best')\n",
        "plt.show()\n"
      ]
    }
  ],
  "metadata": {
    "colab": {
      "name": "trial 3",
      "provenance": []
    },
    "kernelspec": {
      "display_name": "Python 3",
      "name": "python3"
    },
    "language_info": {
      "codemirror_mode": {
        "name": "ipython",
        "version": 3
      },
      "file_extension": ".py",
      "mimetype": "text/x-python",
      "name": "python",
      "nbconvert_exporter": "python",
      "pygments_lexer": "ipython3",
      "version": "3.10.2"
    }
  },
  "nbformat": 4,
  "nbformat_minor": 0
}
